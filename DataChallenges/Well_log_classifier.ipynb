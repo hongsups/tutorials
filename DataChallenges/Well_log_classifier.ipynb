{
 "cells": [
  {
   "cell_type": "markdown",
   "metadata": {},
   "source": [
    "# Summary\n",
    "This notebook includes the followings:\n",
    "- Read LAS files as pandas df\n",
    "- Use `holoviews` to avoid oversaturation data visualization\n",
    "\n",
    "\n",
    "For confidentiality issues, file paths and some outcomes are removed.\n",
    "\n",
    "# Dealing with LAS files\n",
    "A LAS (Log ASCII Standard) file is an industry-standard binary format for storing airborne lidar (light detection and ranging) data. Lidar (light detection and ranging) is an optical remote-sensing technique that uses laser light to densely sample the surface of the earth, producing highly accurate x,y,z measurements. See [here](http://desktop.arcgis.com/en/arcmap/10.3/manage-data/las-dataset/what-is-a-las-dataset-.htm) for details.\n",
    "\n",
    "Python [lasio](https://github.com/kinverarity1/lasio) package can read a LAS file as a pandas dataframe."
   ]
  },
  {
   "cell_type": "code",
   "execution_count": 64,
   "metadata": {
    "ExecuteTime": {
     "end_time": "2016-07-21T11:02:38.242469",
     "start_time": "2016-07-21T11:02:35.231358"
    },
    "collapsed": false
   },
   "outputs": [],
   "source": [
    "import pandas as pd\n",
    "pd.set_option('display.max_columns',100)\n",
    "import numpy as np\n",
    "import lasio\n",
    "\n",
    "import matplotlib.pyplot as plt\n",
    "%matplotlib inline\n",
    "\n",
    "# path control\n",
    "import os \n",
    "from os import listdir\n",
    "from os.path import isfile, join\n",
    "\n",
    "import seaborn as sns"
   ]
  },
  {
   "cell_type": "code",
   "execution_count": null,
   "metadata": {
    "collapsed": true
   },
   "outputs": [],
   "source": [
    "os.chdir('../') # one above folder"
   ]
  },
  {
   "cell_type": "markdown",
   "metadata": {},
   "source": [
    "## Convert a LAS file to a pandas df"
   ]
  },
  {
   "cell_type": "code",
   "execution_count": 2,
   "metadata": {
    "ExecuteTime": {
     "end_time": "2016-07-21T10:43:24.081263",
     "start_time": "2016-07-21T10:43:21.561531"
    },
    "collapsed": false
   },
   "outputs": [],
   "source": [
    "path = 'data/Attachments/Amethyst.las'\n",
    "las = lasio.read(path)\n",
    "df = las.df()"
   ]
  },
  {
   "cell_type": "code",
   "execution_count": 69,
   "metadata": {
    "ExecuteTime": {
     "end_time": "2016-07-21T11:08:56.762119",
     "start_time": "2016-07-21T11:08:56.758362"
    },
    "collapsed": false
   },
   "outputs": [
    {
     "name": "stdout",
     "output_type": "stream",
     "text": [
      "Index(['DEPT', 'GR', 'F_temp', 'Rw', 'DT', 'Vclay_gr', 'Vclay_nd', 'Vclay_sd',\n",
      "       'Vclay', 'Vanlcm', 'Salinity', 'DPSC', 'NPSC', 'SPSC', 'PHIT', 'BVW',\n",
      "       'Sw', 'Net', 'Perm', 'Vanlcm_plt', 'Coal', 'FileName'],\n",
      "      dtype='object')\n"
     ]
    }
   ],
   "source": [
    "print(df.columns)"
   ]
  },
  {
   "cell_type": "code",
   "execution_count": 4,
   "metadata": {
    "ExecuteTime": {
     "end_time": "2016-07-21T10:43:24.305727",
     "start_time": "2016-07-21T10:43:24.259145"
    },
    "collapsed": false
   },
   "outputs": [
    {
     "data": {
      "text/html": [
       "<div>\n",
       "<table border=\"1\" class=\"dataframe\">\n",
       "  <thead>\n",
       "    <tr style=\"text-align: right;\">\n",
       "      <th></th>\n",
       "      <th>GR</th>\n",
       "      <th>CALI</th>\n",
       "      <th>F_temp</th>\n",
       "      <th>SGRC</th>\n",
       "      <th>SP</th>\n",
       "      <th>PSP</th>\n",
       "      <th>SEDP</th>\n",
       "      <th>SEMP</th>\n",
       "      <th>SEXP</th>\n",
       "      <th>Rw</th>\n",
       "      <th>Rmf</th>\n",
       "      <th>AT90</th>\n",
       "      <th>AT30</th>\n",
       "      <th>AT10</th>\n",
       "      <th>RHOB</th>\n",
       "      <th>PHIN</th>\n",
       "      <th>DT</th>\n",
       "      <th>PEF</th>\n",
       "      <th>DRHO</th>\n",
       "      <th>Vclay</th>\n",
       "      <th>Vclay_gr</th>\n",
       "      <th>Vclay_nd</th>\n",
       "      <th>Vclay_sd</th>\n",
       "      <th>Vanlcm</th>\n",
       "      <th>Salinity</th>\n",
       "      <th>PHIT</th>\n",
       "      <th>DPSC</th>\n",
       "      <th>NPSC</th>\n",
       "      <th>SPSC</th>\n",
       "      <th>Sw</th>\n",
       "      <th>Net</th>\n",
       "      <th>Perm</th>\n",
       "      <th>Vanlcm_plt</th>\n",
       "      <th>BVW</th>\n",
       "      <th>Coal</th>\n",
       "    </tr>\n",
       "    <tr>\n",
       "      <th>DEPT</th>\n",
       "      <th></th>\n",
       "      <th></th>\n",
       "      <th></th>\n",
       "      <th></th>\n",
       "      <th></th>\n",
       "      <th></th>\n",
       "      <th></th>\n",
       "      <th></th>\n",
       "      <th></th>\n",
       "      <th></th>\n",
       "      <th></th>\n",
       "      <th></th>\n",
       "      <th></th>\n",
       "      <th></th>\n",
       "      <th></th>\n",
       "      <th></th>\n",
       "      <th></th>\n",
       "      <th></th>\n",
       "      <th></th>\n",
       "      <th></th>\n",
       "      <th></th>\n",
       "      <th></th>\n",
       "      <th></th>\n",
       "      <th></th>\n",
       "      <th></th>\n",
       "      <th></th>\n",
       "      <th></th>\n",
       "      <th></th>\n",
       "      <th></th>\n",
       "      <th></th>\n",
       "      <th></th>\n",
       "      <th></th>\n",
       "      <th></th>\n",
       "      <th></th>\n",
       "      <th></th>\n",
       "    </tr>\n",
       "  </thead>\n",
       "  <tbody>\n",
       "    <tr>\n",
       "      <th>90.0</th>\n",
       "      <td>NaN</td>\n",
       "      <td>NaN</td>\n",
       "      <td>22.3100</td>\n",
       "      <td>NaN</td>\n",
       "      <td>NaN</td>\n",
       "      <td>NaN</td>\n",
       "      <td>NaN</td>\n",
       "      <td>NaN</td>\n",
       "      <td>NaN</td>\n",
       "      <td>9.8285</td>\n",
       "      <td>9.6048</td>\n",
       "      <td>NaN</td>\n",
       "      <td>NaN</td>\n",
       "      <td>NaN</td>\n",
       "      <td>NaN</td>\n",
       "      <td>NaN</td>\n",
       "      <td>NaN</td>\n",
       "      <td>NaN</td>\n",
       "      <td>NaN</td>\n",
       "      <td>NaN</td>\n",
       "      <td>NaN</td>\n",
       "      <td>NaN</td>\n",
       "      <td>NaN</td>\n",
       "      <td>NaN</td>\n",
       "      <td>1500.0</td>\n",
       "      <td>NaN</td>\n",
       "      <td>NaN</td>\n",
       "      <td>NaN</td>\n",
       "      <td>NaN</td>\n",
       "      <td>NaN</td>\n",
       "      <td>0.0</td>\n",
       "      <td>NaN</td>\n",
       "      <td>NaN</td>\n",
       "      <td>NaN</td>\n",
       "      <td>0.0</td>\n",
       "    </tr>\n",
       "    <tr>\n",
       "      <th>90.5</th>\n",
       "      <td>NaN</td>\n",
       "      <td>NaN</td>\n",
       "      <td>22.3195</td>\n",
       "      <td>NaN</td>\n",
       "      <td>NaN</td>\n",
       "      <td>NaN</td>\n",
       "      <td>NaN</td>\n",
       "      <td>NaN</td>\n",
       "      <td>NaN</td>\n",
       "      <td>9.8253</td>\n",
       "      <td>9.6017</td>\n",
       "      <td>NaN</td>\n",
       "      <td>NaN</td>\n",
       "      <td>NaN</td>\n",
       "      <td>NaN</td>\n",
       "      <td>NaN</td>\n",
       "      <td>NaN</td>\n",
       "      <td>NaN</td>\n",
       "      <td>NaN</td>\n",
       "      <td>NaN</td>\n",
       "      <td>NaN</td>\n",
       "      <td>NaN</td>\n",
       "      <td>NaN</td>\n",
       "      <td>NaN</td>\n",
       "      <td>1500.0</td>\n",
       "      <td>NaN</td>\n",
       "      <td>NaN</td>\n",
       "      <td>NaN</td>\n",
       "      <td>NaN</td>\n",
       "      <td>NaN</td>\n",
       "      <td>0.0</td>\n",
       "      <td>NaN</td>\n",
       "      <td>NaN</td>\n",
       "      <td>NaN</td>\n",
       "      <td>0.0</td>\n",
       "    </tr>\n",
       "    <tr>\n",
       "      <th>91.0</th>\n",
       "      <td>NaN</td>\n",
       "      <td>NaN</td>\n",
       "      <td>22.3290</td>\n",
       "      <td>NaN</td>\n",
       "      <td>NaN</td>\n",
       "      <td>NaN</td>\n",
       "      <td>NaN</td>\n",
       "      <td>NaN</td>\n",
       "      <td>NaN</td>\n",
       "      <td>9.8221</td>\n",
       "      <td>9.5986</td>\n",
       "      <td>NaN</td>\n",
       "      <td>NaN</td>\n",
       "      <td>NaN</td>\n",
       "      <td>NaN</td>\n",
       "      <td>NaN</td>\n",
       "      <td>NaN</td>\n",
       "      <td>NaN</td>\n",
       "      <td>NaN</td>\n",
       "      <td>NaN</td>\n",
       "      <td>NaN</td>\n",
       "      <td>NaN</td>\n",
       "      <td>NaN</td>\n",
       "      <td>NaN</td>\n",
       "      <td>1500.0</td>\n",
       "      <td>NaN</td>\n",
       "      <td>NaN</td>\n",
       "      <td>NaN</td>\n",
       "      <td>NaN</td>\n",
       "      <td>NaN</td>\n",
       "      <td>0.0</td>\n",
       "      <td>NaN</td>\n",
       "      <td>NaN</td>\n",
       "      <td>NaN</td>\n",
       "      <td>0.0</td>\n",
       "    </tr>\n",
       "    <tr>\n",
       "      <th>91.5</th>\n",
       "      <td>NaN</td>\n",
       "      <td>NaN</td>\n",
       "      <td>22.3385</td>\n",
       "      <td>NaN</td>\n",
       "      <td>NaN</td>\n",
       "      <td>NaN</td>\n",
       "      <td>NaN</td>\n",
       "      <td>NaN</td>\n",
       "      <td>NaN</td>\n",
       "      <td>9.8189</td>\n",
       "      <td>9.5954</td>\n",
       "      <td>NaN</td>\n",
       "      <td>NaN</td>\n",
       "      <td>NaN</td>\n",
       "      <td>NaN</td>\n",
       "      <td>NaN</td>\n",
       "      <td>NaN</td>\n",
       "      <td>NaN</td>\n",
       "      <td>NaN</td>\n",
       "      <td>NaN</td>\n",
       "      <td>NaN</td>\n",
       "      <td>NaN</td>\n",
       "      <td>NaN</td>\n",
       "      <td>NaN</td>\n",
       "      <td>1500.0</td>\n",
       "      <td>NaN</td>\n",
       "      <td>NaN</td>\n",
       "      <td>NaN</td>\n",
       "      <td>NaN</td>\n",
       "      <td>NaN</td>\n",
       "      <td>0.0</td>\n",
       "      <td>NaN</td>\n",
       "      <td>NaN</td>\n",
       "      <td>NaN</td>\n",
       "      <td>0.0</td>\n",
       "    </tr>\n",
       "    <tr>\n",
       "      <th>92.0</th>\n",
       "      <td>NaN</td>\n",
       "      <td>NaN</td>\n",
       "      <td>22.3480</td>\n",
       "      <td>NaN</td>\n",
       "      <td>NaN</td>\n",
       "      <td>NaN</td>\n",
       "      <td>NaN</td>\n",
       "      <td>NaN</td>\n",
       "      <td>NaN</td>\n",
       "      <td>9.8157</td>\n",
       "      <td>9.5923</td>\n",
       "      <td>NaN</td>\n",
       "      <td>NaN</td>\n",
       "      <td>NaN</td>\n",
       "      <td>NaN</td>\n",
       "      <td>NaN</td>\n",
       "      <td>NaN</td>\n",
       "      <td>NaN</td>\n",
       "      <td>NaN</td>\n",
       "      <td>NaN</td>\n",
       "      <td>NaN</td>\n",
       "      <td>NaN</td>\n",
       "      <td>NaN</td>\n",
       "      <td>NaN</td>\n",
       "      <td>1500.0</td>\n",
       "      <td>NaN</td>\n",
       "      <td>NaN</td>\n",
       "      <td>NaN</td>\n",
       "      <td>NaN</td>\n",
       "      <td>NaN</td>\n",
       "      <td>0.0</td>\n",
       "      <td>NaN</td>\n",
       "      <td>NaN</td>\n",
       "      <td>NaN</td>\n",
       "      <td>0.0</td>\n",
       "    </tr>\n",
       "  </tbody>\n",
       "</table>\n",
       "</div>"
      ],
      "text/plain": [
       "      GR  CALI   F_temp  SGRC  SP  PSP  SEDP  SEMP  SEXP      Rw     Rmf  \\\n",
       "DEPT                                                                       \n",
       "90.0 NaN   NaN  22.3100   NaN NaN  NaN   NaN   NaN   NaN  9.8285  9.6048   \n",
       "90.5 NaN   NaN  22.3195   NaN NaN  NaN   NaN   NaN   NaN  9.8253  9.6017   \n",
       "91.0 NaN   NaN  22.3290   NaN NaN  NaN   NaN   NaN   NaN  9.8221  9.5986   \n",
       "91.5 NaN   NaN  22.3385   NaN NaN  NaN   NaN   NaN   NaN  9.8189  9.5954   \n",
       "92.0 NaN   NaN  22.3480   NaN NaN  NaN   NaN   NaN   NaN  9.8157  9.5923   \n",
       "\n",
       "      AT90  AT30  AT10  RHOB  PHIN  DT  PEF  DRHO  Vclay  Vclay_gr  Vclay_nd  \\\n",
       "DEPT                                                                           \n",
       "90.0   NaN   NaN   NaN   NaN   NaN NaN  NaN   NaN    NaN       NaN       NaN   \n",
       "90.5   NaN   NaN   NaN   NaN   NaN NaN  NaN   NaN    NaN       NaN       NaN   \n",
       "91.0   NaN   NaN   NaN   NaN   NaN NaN  NaN   NaN    NaN       NaN       NaN   \n",
       "91.5   NaN   NaN   NaN   NaN   NaN NaN  NaN   NaN    NaN       NaN       NaN   \n",
       "92.0   NaN   NaN   NaN   NaN   NaN NaN  NaN   NaN    NaN       NaN       NaN   \n",
       "\n",
       "      Vclay_sd  Vanlcm  Salinity  PHIT  DPSC  NPSC  SPSC  Sw  Net  Perm  \\\n",
       "DEPT                                                                      \n",
       "90.0       NaN     NaN    1500.0   NaN   NaN   NaN   NaN NaN  0.0   NaN   \n",
       "90.5       NaN     NaN    1500.0   NaN   NaN   NaN   NaN NaN  0.0   NaN   \n",
       "91.0       NaN     NaN    1500.0   NaN   NaN   NaN   NaN NaN  0.0   NaN   \n",
       "91.5       NaN     NaN    1500.0   NaN   NaN   NaN   NaN NaN  0.0   NaN   \n",
       "92.0       NaN     NaN    1500.0   NaN   NaN   NaN   NaN NaN  0.0   NaN   \n",
       "\n",
       "      Vanlcm_plt  BVW  Coal  \n",
       "DEPT                         \n",
       "90.0         NaN  NaN   0.0  \n",
       "90.5         NaN  NaN   0.0  \n",
       "91.0         NaN  NaN   0.0  \n",
       "91.5         NaN  NaN   0.0  \n",
       "92.0         NaN  NaN   0.0  "
      ]
     },
     "execution_count": 4,
     "metadata": {},
     "output_type": "execute_result"
    }
   ],
   "source": [
    "df.head()"
   ]
  },
  {
   "cell_type": "markdown",
   "metadata": {},
   "source": [
    "## Reindex (extract depth as a feature)"
   ]
  },
  {
   "cell_type": "code",
   "execution_count": 5,
   "metadata": {
    "ExecuteTime": {
     "end_time": "2016-07-21T10:43:24.319478",
     "start_time": "2016-07-21T10:43:24.310205"
    },
    "collapsed": false
   },
   "outputs": [],
   "source": [
    "df = df.reset_index(range(len(df)));"
   ]
  },
  {
   "cell_type": "code",
   "execution_count": 6,
   "metadata": {
    "ExecuteTime": {
     "end_time": "2016-07-21T10:43:24.401496",
     "start_time": "2016-07-21T10:43:24.323998"
    },
    "collapsed": false
   },
   "outputs": [
    {
     "data": {
      "text/html": [
       "<div>\n",
       "<table border=\"1\" class=\"dataframe\">\n",
       "  <thead>\n",
       "    <tr style=\"text-align: right;\">\n",
       "      <th></th>\n",
       "      <th>DEPT</th>\n",
       "      <th>GR</th>\n",
       "      <th>CALI</th>\n",
       "      <th>F_temp</th>\n",
       "      <th>SGRC</th>\n",
       "      <th>SP</th>\n",
       "      <th>PSP</th>\n",
       "      <th>SEDP</th>\n",
       "      <th>SEMP</th>\n",
       "      <th>SEXP</th>\n",
       "      <th>Rw</th>\n",
       "      <th>Rmf</th>\n",
       "      <th>AT90</th>\n",
       "      <th>AT30</th>\n",
       "      <th>AT10</th>\n",
       "      <th>RHOB</th>\n",
       "      <th>PHIN</th>\n",
       "      <th>DT</th>\n",
       "      <th>PEF</th>\n",
       "      <th>DRHO</th>\n",
       "      <th>Vclay</th>\n",
       "      <th>Vclay_gr</th>\n",
       "      <th>Vclay_nd</th>\n",
       "      <th>Vclay_sd</th>\n",
       "      <th>Vanlcm</th>\n",
       "      <th>Salinity</th>\n",
       "      <th>PHIT</th>\n",
       "      <th>DPSC</th>\n",
       "      <th>NPSC</th>\n",
       "      <th>SPSC</th>\n",
       "      <th>Sw</th>\n",
       "      <th>Net</th>\n",
       "      <th>Perm</th>\n",
       "      <th>Vanlcm_plt</th>\n",
       "      <th>BVW</th>\n",
       "      <th>Coal</th>\n",
       "    </tr>\n",
       "  </thead>\n",
       "  <tbody>\n",
       "    <tr>\n",
       "      <th>0</th>\n",
       "      <td>90.0</td>\n",
       "      <td>NaN</td>\n",
       "      <td>NaN</td>\n",
       "      <td>22.3100</td>\n",
       "      <td>NaN</td>\n",
       "      <td>NaN</td>\n",
       "      <td>NaN</td>\n",
       "      <td>NaN</td>\n",
       "      <td>NaN</td>\n",
       "      <td>NaN</td>\n",
       "      <td>9.8285</td>\n",
       "      <td>9.6048</td>\n",
       "      <td>NaN</td>\n",
       "      <td>NaN</td>\n",
       "      <td>NaN</td>\n",
       "      <td>NaN</td>\n",
       "      <td>NaN</td>\n",
       "      <td>NaN</td>\n",
       "      <td>NaN</td>\n",
       "      <td>NaN</td>\n",
       "      <td>NaN</td>\n",
       "      <td>NaN</td>\n",
       "      <td>NaN</td>\n",
       "      <td>NaN</td>\n",
       "      <td>NaN</td>\n",
       "      <td>1500.0</td>\n",
       "      <td>NaN</td>\n",
       "      <td>NaN</td>\n",
       "      <td>NaN</td>\n",
       "      <td>NaN</td>\n",
       "      <td>NaN</td>\n",
       "      <td>0.0</td>\n",
       "      <td>NaN</td>\n",
       "      <td>NaN</td>\n",
       "      <td>NaN</td>\n",
       "      <td>0.0</td>\n",
       "    </tr>\n",
       "    <tr>\n",
       "      <th>1</th>\n",
       "      <td>90.5</td>\n",
       "      <td>NaN</td>\n",
       "      <td>NaN</td>\n",
       "      <td>22.3195</td>\n",
       "      <td>NaN</td>\n",
       "      <td>NaN</td>\n",
       "      <td>NaN</td>\n",
       "      <td>NaN</td>\n",
       "      <td>NaN</td>\n",
       "      <td>NaN</td>\n",
       "      <td>9.8253</td>\n",
       "      <td>9.6017</td>\n",
       "      <td>NaN</td>\n",
       "      <td>NaN</td>\n",
       "      <td>NaN</td>\n",
       "      <td>NaN</td>\n",
       "      <td>NaN</td>\n",
       "      <td>NaN</td>\n",
       "      <td>NaN</td>\n",
       "      <td>NaN</td>\n",
       "      <td>NaN</td>\n",
       "      <td>NaN</td>\n",
       "      <td>NaN</td>\n",
       "      <td>NaN</td>\n",
       "      <td>NaN</td>\n",
       "      <td>1500.0</td>\n",
       "      <td>NaN</td>\n",
       "      <td>NaN</td>\n",
       "      <td>NaN</td>\n",
       "      <td>NaN</td>\n",
       "      <td>NaN</td>\n",
       "      <td>0.0</td>\n",
       "      <td>NaN</td>\n",
       "      <td>NaN</td>\n",
       "      <td>NaN</td>\n",
       "      <td>0.0</td>\n",
       "    </tr>\n",
       "    <tr>\n",
       "      <th>2</th>\n",
       "      <td>91.0</td>\n",
       "      <td>NaN</td>\n",
       "      <td>NaN</td>\n",
       "      <td>22.3290</td>\n",
       "      <td>NaN</td>\n",
       "      <td>NaN</td>\n",
       "      <td>NaN</td>\n",
       "      <td>NaN</td>\n",
       "      <td>NaN</td>\n",
       "      <td>NaN</td>\n",
       "      <td>9.8221</td>\n",
       "      <td>9.5986</td>\n",
       "      <td>NaN</td>\n",
       "      <td>NaN</td>\n",
       "      <td>NaN</td>\n",
       "      <td>NaN</td>\n",
       "      <td>NaN</td>\n",
       "      <td>NaN</td>\n",
       "      <td>NaN</td>\n",
       "      <td>NaN</td>\n",
       "      <td>NaN</td>\n",
       "      <td>NaN</td>\n",
       "      <td>NaN</td>\n",
       "      <td>NaN</td>\n",
       "      <td>NaN</td>\n",
       "      <td>1500.0</td>\n",
       "      <td>NaN</td>\n",
       "      <td>NaN</td>\n",
       "      <td>NaN</td>\n",
       "      <td>NaN</td>\n",
       "      <td>NaN</td>\n",
       "      <td>0.0</td>\n",
       "      <td>NaN</td>\n",
       "      <td>NaN</td>\n",
       "      <td>NaN</td>\n",
       "      <td>0.0</td>\n",
       "    </tr>\n",
       "    <tr>\n",
       "      <th>3</th>\n",
       "      <td>91.5</td>\n",
       "      <td>NaN</td>\n",
       "      <td>NaN</td>\n",
       "      <td>22.3385</td>\n",
       "      <td>NaN</td>\n",
       "      <td>NaN</td>\n",
       "      <td>NaN</td>\n",
       "      <td>NaN</td>\n",
       "      <td>NaN</td>\n",
       "      <td>NaN</td>\n",
       "      <td>9.8189</td>\n",
       "      <td>9.5954</td>\n",
       "      <td>NaN</td>\n",
       "      <td>NaN</td>\n",
       "      <td>NaN</td>\n",
       "      <td>NaN</td>\n",
       "      <td>NaN</td>\n",
       "      <td>NaN</td>\n",
       "      <td>NaN</td>\n",
       "      <td>NaN</td>\n",
       "      <td>NaN</td>\n",
       "      <td>NaN</td>\n",
       "      <td>NaN</td>\n",
       "      <td>NaN</td>\n",
       "      <td>NaN</td>\n",
       "      <td>1500.0</td>\n",
       "      <td>NaN</td>\n",
       "      <td>NaN</td>\n",
       "      <td>NaN</td>\n",
       "      <td>NaN</td>\n",
       "      <td>NaN</td>\n",
       "      <td>0.0</td>\n",
       "      <td>NaN</td>\n",
       "      <td>NaN</td>\n",
       "      <td>NaN</td>\n",
       "      <td>0.0</td>\n",
       "    </tr>\n",
       "    <tr>\n",
       "      <th>4</th>\n",
       "      <td>92.0</td>\n",
       "      <td>NaN</td>\n",
       "      <td>NaN</td>\n",
       "      <td>22.3480</td>\n",
       "      <td>NaN</td>\n",
       "      <td>NaN</td>\n",
       "      <td>NaN</td>\n",
       "      <td>NaN</td>\n",
       "      <td>NaN</td>\n",
       "      <td>NaN</td>\n",
       "      <td>9.8157</td>\n",
       "      <td>9.5923</td>\n",
       "      <td>NaN</td>\n",
       "      <td>NaN</td>\n",
       "      <td>NaN</td>\n",
       "      <td>NaN</td>\n",
       "      <td>NaN</td>\n",
       "      <td>NaN</td>\n",
       "      <td>NaN</td>\n",
       "      <td>NaN</td>\n",
       "      <td>NaN</td>\n",
       "      <td>NaN</td>\n",
       "      <td>NaN</td>\n",
       "      <td>NaN</td>\n",
       "      <td>NaN</td>\n",
       "      <td>1500.0</td>\n",
       "      <td>NaN</td>\n",
       "      <td>NaN</td>\n",
       "      <td>NaN</td>\n",
       "      <td>NaN</td>\n",
       "      <td>NaN</td>\n",
       "      <td>0.0</td>\n",
       "      <td>NaN</td>\n",
       "      <td>NaN</td>\n",
       "      <td>NaN</td>\n",
       "      <td>0.0</td>\n",
       "    </tr>\n",
       "  </tbody>\n",
       "</table>\n",
       "</div>"
      ],
      "text/plain": [
       "   DEPT  GR  CALI   F_temp  SGRC  SP  PSP  SEDP  SEMP  SEXP      Rw     Rmf  \\\n",
       "0  90.0 NaN   NaN  22.3100   NaN NaN  NaN   NaN   NaN   NaN  9.8285  9.6048   \n",
       "1  90.5 NaN   NaN  22.3195   NaN NaN  NaN   NaN   NaN   NaN  9.8253  9.6017   \n",
       "2  91.0 NaN   NaN  22.3290   NaN NaN  NaN   NaN   NaN   NaN  9.8221  9.5986   \n",
       "3  91.5 NaN   NaN  22.3385   NaN NaN  NaN   NaN   NaN   NaN  9.8189  9.5954   \n",
       "4  92.0 NaN   NaN  22.3480   NaN NaN  NaN   NaN   NaN   NaN  9.8157  9.5923   \n",
       "\n",
       "   AT90  AT30  AT10  RHOB  PHIN  DT  PEF  DRHO  Vclay  Vclay_gr  Vclay_nd  \\\n",
       "0   NaN   NaN   NaN   NaN   NaN NaN  NaN   NaN    NaN       NaN       NaN   \n",
       "1   NaN   NaN   NaN   NaN   NaN NaN  NaN   NaN    NaN       NaN       NaN   \n",
       "2   NaN   NaN   NaN   NaN   NaN NaN  NaN   NaN    NaN       NaN       NaN   \n",
       "3   NaN   NaN   NaN   NaN   NaN NaN  NaN   NaN    NaN       NaN       NaN   \n",
       "4   NaN   NaN   NaN   NaN   NaN NaN  NaN   NaN    NaN       NaN       NaN   \n",
       "\n",
       "   Vclay_sd  Vanlcm  Salinity  PHIT  DPSC  NPSC  SPSC  Sw  Net  Perm  \\\n",
       "0       NaN     NaN    1500.0   NaN   NaN   NaN   NaN NaN  0.0   NaN   \n",
       "1       NaN     NaN    1500.0   NaN   NaN   NaN   NaN NaN  0.0   NaN   \n",
       "2       NaN     NaN    1500.0   NaN   NaN   NaN   NaN NaN  0.0   NaN   \n",
       "3       NaN     NaN    1500.0   NaN   NaN   NaN   NaN NaN  0.0   NaN   \n",
       "4       NaN     NaN    1500.0   NaN   NaN   NaN   NaN NaN  0.0   NaN   \n",
       "\n",
       "   Vanlcm_plt  BVW  Coal  \n",
       "0         NaN  NaN   0.0  \n",
       "1         NaN  NaN   0.0  \n",
       "2         NaN  NaN   0.0  \n",
       "3         NaN  NaN   0.0  \n",
       "4         NaN  NaN   0.0  "
      ]
     },
     "execution_count": 6,
     "metadata": {},
     "output_type": "execute_result"
    }
   ],
   "source": [
    "df.head()"
   ]
  },
  {
   "cell_type": "markdown",
   "metadata": {},
   "source": [
    "# Deal with inconsistent columns\n",
    "## Check all files are readable and check column names"
   ]
  },
  {
   "cell_type": "code",
   "execution_count": null,
   "metadata": {
    "collapsed": true
   },
   "outputs": [],
   "source": [
    "mypath = 'data/Attachments/'\n",
    "\n",
    "# df_las = pd.DataFrame()\n",
    "colnames = {}\n",
    "dfs = {}\n",
    "for file in listdir(mypath):\n",
    "    if file.endswith('.las'):\n",
    "        filepath = mypath+file\n",
    "        try:\n",
    "            las = lasio.read(filepath)\n",
    "            df = las.df() # convert to dataframe\n",
    "            df = df.reset_index(range(len(df))); # get original index (depth) as a column\n",
    "            df['FileName']=file.strip('.las')\n",
    "            print(file,len(df.columns),df.columns.values)\n",
    "            colnames[file]=df.columns.values # save column names\n",
    "            dfs[file]=df # save dataframe\n",
    "#             df_las = pd.concat([df_las,df],ignore_index=True)\n",
    "        except:\n",
    "            print('Error: '+filepath)\n",
    "            pass"
   ]
  },
  {
   "cell_type": "markdown",
   "metadata": {},
   "source": [
    "It turns out column names vary across wells."
   ]
  },
  {
   "cell_type": "markdown",
   "metadata": {},
   "source": [
    "## Create a dataframe to check column names easily"
   ]
  },
  {
   "cell_type": "code",
   "execution_count": 41,
   "metadata": {
    "ExecuteTime": {
     "end_time": "2016-07-21T10:52:00.041271",
     "start_time": "2016-07-21T10:52:00.034867"
    },
    "collapsed": false
   },
   "outputs": [],
   "source": [
    "df_colnames = pd.DataFrame(dict([ (k,pd.Series(v)) for k,v in colnames.items() ]))"
   ]
  },
  {
   "cell_type": "markdown",
   "metadata": {},
   "source": [
    "## Use common columns only\n",
    "We asked a domain expert to match column names."
   ]
  },
  {
   "cell_type": "code",
   "execution_count": 44,
   "metadata": {
    "ExecuteTime": {
     "end_time": "2016-07-21T10:52:00.089529",
     "start_time": "2016-07-21T10:52:00.078177"
    },
    "collapsed": true
   },
   "outputs": [],
   "source": [
    "df_colnames_examined = pd.read_csv('data/well_log_las_colnames_examined.csv')"
   ]
  },
  {
   "cell_type": "code",
   "execution_count": null,
   "metadata": {
    "collapsed": true
   },
   "outputs": [],
   "source": [
    "df_colnames_examined = df_colnames_examined.dropna()"
   ]
  },
  {
   "cell_type": "markdown",
   "metadata": {
    "ExecuteTime": {
     "end_time": "2016-07-21T10:15:54.136309",
     "start_time": "2016-07-21T10:15:54.132211"
    }
   },
   "source": [
    "## Identify columns with multiple names\n",
    "Looping over each row and check"
   ]
  },
  {
   "cell_type": "code",
   "execution_count": 46,
   "metadata": {
    "ExecuteTime": {
     "end_time": "2016-07-21T10:52:07.987287",
     "start_time": "2016-07-21T10:52:07.977083"
    },
    "collapsed": false
   },
   "outputs": [
    {
     "name": "stdout",
     "output_type": "stream",
     "text": [
      "1 {'GR_BHCS_1', 'DGRC', 'GR'}\n",
      "10 {'DT', 'DT_BHCS_1'}\n"
     ]
    }
   ],
   "source": [
    "for i, row in df_colnames_examined.iterrows():\n",
    "    if len(set(row)) != 1: # all names are the same\n",
    "        print(i,set(row))"
   ]
  },
  {
   "cell_type": "code",
   "execution_count": 59,
   "metadata": {
    "ExecuteTime": {
     "end_time": "2016-07-21T10:54:33.271872",
     "start_time": "2016-07-21T10:54:33.264885"
    },
    "collapsed": false
   },
   "outputs": [
    {
     "data": {
      "text/plain": [
       "(22, 10)"
      ]
     },
     "execution_count": 59,
     "metadata": {},
     "output_type": "execute_result"
    }
   ],
   "source": [
    "df_colnames_examined.shape"
   ]
  },
  {
   "cell_type": "markdown",
   "metadata": {
    "ExecuteTime": {
     "end_time": "2016-07-21T10:31:21.847990",
     "start_time": "2016-07-21T10:31:21.719891"
    }
   },
   "source": [
    "## Merge all data (common columns only)"
   ]
  },
  {
   "cell_type": "code",
   "execution_count": 48,
   "metadata": {
    "ExecuteTime": {
     "end_time": "2016-07-21T10:52:13.109095",
     "start_time": "2016-07-21T10:52:13.103610"
    },
    "collapsed": false
   },
   "outputs": [],
   "source": [
    "common_colnames = df_colnames_examined['Amethyst.las'].values # pick a column with common names"
   ]
  },
  {
   "cell_type": "code",
   "execution_count": 56,
   "metadata": {
    "ExecuteTime": {
     "end_time": "2016-07-21T10:53:47.160292",
     "start_time": "2016-07-21T10:53:46.760040"
    },
    "collapsed": false
   },
   "outputs": [],
   "source": [
    "df_common = pd.DataFrame()\n",
    "for key in dfs.keys():\n",
    "    df = dfs[key][df_colnames_examined[key].values]\n",
    "    df.columns = common_colnames # rename all columns (the order and length is the same, so it's fine)\n",
    "    df_common = pd.concat([df_common,df],ignore_index=True)"
   ]
  },
  {
   "cell_type": "code",
   "execution_count": 58,
   "metadata": {
    "ExecuteTime": {
     "end_time": "2016-07-21T10:54:19.834329",
     "start_time": "2016-07-21T10:54:19.830261"
    },
    "collapsed": false
   },
   "outputs": [
    {
     "data": {
      "text/plain": [
       "(209054, 22)"
      ]
     },
     "execution_count": 58,
     "metadata": {},
     "output_type": "execute_result"
    }
   ],
   "source": [
    "df_common.shape"
   ]
  },
  {
   "cell_type": "markdown",
   "metadata": {},
   "source": [
    "# Prepare datasets\n",
    "Seistmic data will have a small subset of well log data. Thus, we may need to create two different models using different subset of features. In the dataset, our target value will be `Sw` (saturation) and `Vclay_gr` (volume).\n",
    "\n",
    "For now, we will rows with any column value with nans."
   ]
  },
  {
   "cell_type": "code",
   "execution_count": 77,
   "metadata": {
    "ExecuteTime": {
     "end_time": "2016-07-21T11:14:06.224413",
     "start_time": "2016-07-21T11:14:06.079193"
    },
    "collapsed": false
   },
   "outputs": [
    {
     "name": "stdout",
     "output_type": "stream",
     "text": [
      "no. cols for the seismic-column data: 159072\n",
      "no. cols for all-column data: 7121\n"
     ]
    }
   ],
   "source": [
    "df_seis_cols = df_common.dropna(subset=['DT','Sw','Vclay_gr'])[['DT','Sw','Vclay_gr','DEPT','FileName']]\n",
    "df_all_cols = df_common.dropna()\n",
    "print('no. cols for the seismic-column data:', df_seis_cols.shape[0])\n",
    "print('no. cols for all-column data:', df_all_cols.shape[0])"
   ]
  },
  {
   "cell_type": "markdown",
   "metadata": {
    "ExecuteTime": {
     "end_time": "2016-07-21T11:18:25.068585",
     "start_time": "2016-07-21T11:18:24.802479"
    }
   },
   "source": [
    "## Fix outliers (seismic dataset)\n",
    "### Saturation (Sw)\n",
    "- Drop all negatives\n",
    "- Floor values larger than 1 to 1"
   ]
  },
  {
   "cell_type": "code",
   "execution_count": 93,
   "metadata": {
    "ExecuteTime": {
     "end_time": "2016-07-21T11:27:03.274844",
     "start_time": "2016-07-21T11:27:03.262018"
    },
    "collapsed": false
   },
   "outputs": [],
   "source": [
    "df_seis_cols = df_seis_cols[(df_seis_cols.Sw>=0)]"
   ]
  },
  {
   "cell_type": "code",
   "execution_count": 97,
   "metadata": {
    "ExecuteTime": {
     "end_time": "2016-07-21T11:28:57.650680",
     "start_time": "2016-07-21T11:28:57.041413"
    },
    "collapsed": false
   },
   "outputs": [
    {
     "name": "stderr",
     "output_type": "stream",
     "text": [
      "/Users/hongsupshin/anaconda/envs/snakes/lib/python3.5/site-packages/ipykernel/__main__.py:1: SettingWithCopyWarning: \n",
      "A value is trying to be set on a copy of a slice from a DataFrame\n",
      "\n",
      "See the caveats in the documentation: http://pandas.pydata.org/pandas-docs/stable/indexing.html#indexing-view-versus-copy\n",
      "  if __name__ == '__main__':\n",
      "/Users/hongsupshin/anaconda/envs/snakes/lib/python3.5/site-packages/pandas/core/generic.py:4428: SettingWithCopyWarning: \n",
      "A value is trying to be set on a copy of a slice from a DataFrame\n",
      "\n",
      "See the caveats in the documentation: http://pandas.pydata.org/pandas-docs/stable/indexing.html#indexing-view-versus-copy\n",
      "  self._update_inplace(new_data)\n",
      "/Users/hongsupshin/anaconda/envs/snakes/lib/python3.5/site-packages/IPython/core/interactiveshell.py:2885: SettingWithCopyWarning: \n",
      "A value is trying to be set on a copy of a slice from a DataFrame\n",
      "\n",
      "See the caveats in the documentation: http://pandas.pydata.org/pandas-docs/stable/indexing.html#indexing-view-versus-copy\n",
      "  exec(code_obj, self.user_global_ns, self.user_ns)\n"
     ]
    }
   ],
   "source": [
    "df_seis_cols.Sw[df_seis_cols.Sw>1]=1"
   ]
  },
  {
   "cell_type": "markdown",
   "metadata": {},
   "source": [
    "### Vclay_gr\n",
    "- Should be between 0 and 1. Drop everything outside the range."
   ]
  },
  {
   "cell_type": "code",
   "execution_count": 100,
   "metadata": {
    "ExecuteTime": {
     "end_time": "2016-07-21T11:30:08.722843",
     "start_time": "2016-07-21T11:30:08.705084"
    },
    "collapsed": false
   },
   "outputs": [],
   "source": [
    "df_seis_cols = df_seis_cols[(df_seis_cols.Vclay_gr>=0) & (df_seis_cols.Vclay_gr<=1)]"
   ]
  },
  {
   "cell_type": "markdown",
   "metadata": {},
   "source": [
    "### DT\n",
    "- Drop negatives"
   ]
  },
  {
   "cell_type": "code",
   "execution_count": 107,
   "metadata": {
    "ExecuteTime": {
     "end_time": "2016-07-21T11:34:05.522651",
     "start_time": "2016-07-21T11:34:05.492574"
    },
    "collapsed": true
   },
   "outputs": [],
   "source": [
    "df_seis_cols = df_seis_cols[df_seis_cols.DT>=0]"
   ]
  },
  {
   "cell_type": "markdown",
   "metadata": {},
   "source": [
    "## Check distributions (seismic dataset)"
   ]
  },
  {
   "cell_type": "code",
   "execution_count": 150,
   "metadata": {
    "ExecuteTime": {
     "end_time": "2016-07-21T12:01:21.542256",
     "start_time": "2016-07-21T12:01:20.914582"
    },
    "collapsed": false
   },
   "outputs": [
    {
     "data": {
      "image/png": "[encoded data removed]",
      "text/plain": [
       "<matplotlib.figure.Figure at 0x11ec78710>"
      ]
     },
     "metadata": {},
     "output_type": "display_data"
    }
   ],
   "source": [
    "plt.plot(df_seis_cols.DT.values,df_seis_cols.Vclay_gr.values,'o');"
   ]
  },
  {
   "cell_type": "code",
   "execution_count": 160,
   "metadata": {
    "ExecuteTime": {
     "end_time": "2016-07-21T12:06:46.270107",
     "start_time": "2016-07-21T12:06:46.245068"
    },
    "collapsed": true
   },
   "outputs": [],
   "source": [
    "# more stringent criterion for outliers\n",
    "df_seis_shrink = df_seis_cols[df_seis_cols.DT<300]"
   ]
  },
  {
   "cell_type": "markdown",
   "metadata": {},
   "source": [
    "### Using Holoviews\n",
    "With a big dataset, it's difficult to figure out spatial relationship in a plot because a lot of data points may overlap (**oversaturation**). `Holoview` solves this problem. See [here](https://anaconda.org/jbednar/plotting_pitfalls/notebook) for more information."
   ]
  },
  {
   "cell_type": "code",
   "execution_count": 140,
   "metadata": {
    "ExecuteTime": {
     "end_time": "2016-07-21T11:54:15.066424",
     "start_time": "2016-07-21T11:54:15.011860"
    },
    "collapsed": false
   },
   "outputs": [
    {
     "data": {
      "text/html": [
       "\n",
       "<script src=\"https://code.jquery.com/ui/1.10.4/jquery-ui.min.js\" type=\"text/javascript\"></script>\n",
       "<script type=\"text/javascript\">function HoloViewsWidget(){\n",
       "}\n",
       "\n",
       "HoloViewsWidget.prototype.init_slider = function(init_val){\n",
       "\tif(this.load_json) {\n",
       "\t\tthis.from_json()\n",
       "\t} else {\n",
       "\t\tthis.update_cache();\n",
       "\t}\n",
       "}\n",
       "\n",
       "HoloViewsWidget.prototype.populate_cache = function(idx){\n",
       "    this.cache[idx].html(this.frames[idx]);\n",
       "    if (this.embed) {\n",
       "        delete this.frames[idx];\n",
       "    }\n",
       "}\n",
       "\n",
       "HoloViewsWidget.prototype.process_error = function(msg){\n",
       "\n",
       "}\n",
       "\n",
       "HoloViewsWidget.prototype.from_json = function() {\n",
       "\tvar data_url = this.json_path + this.id + '.json';\n",
       "\t$.getJSON(data_url, $.proxy(function(json_data) {\n",
       "\t\tthis.frames = json_data;\n",
       "\t\tthis.update_cache();\n",
       "\t\tthis.update(0);\n",
       "\t}, this));\n",
       "}\n",
       "\n",
       "HoloViewsWidget.prototype.dynamic_update = function(current){\n",
       "    function callback(msg){\n",
       "        /* This callback receives data from Python as a string\n",
       "         in order to parse it correctly quotes are sliced off*/\n",
       "        var data = msg.content.data['text/plain'].slice(1, -1);\n",
       "        this.frames[current] = data;\n",
       "        this.update_cache();\n",
       "        this.update(current);\n",
       "    }\n",
       "    if(!(current in this.cache)) {\n",
       "        var kernel = IPython.notebook.kernel;\n",
       "        callbacks = {iopub: {output: $.proxy(callback, this)}};\n",
       "        var cmd = \"holoviews.plotting.widgets.NdWidget.widgets['\" + this.id + \"'].update(\" + current + \")\";\n",
       "        kernel.execute(\"import holoviews;\" + cmd, callbacks, {silent : false});\n",
       "    } else {\n",
       "        this.update(current);\n",
       "    }\n",
       "}\n",
       "\n",
       "HoloViewsWidget.prototype.update_cache = function(){\n",
       "    var frame_len = Object.keys(this.frames).length;\n",
       "    for (var i=0; i<frame_len; i++) {\n",
       "        if(!this.load_json || this.dynamic)  {\n",
       "            frame = Object.keys(this.frames)[i];\n",
       "        } else {\n",
       "            frame = i;\n",
       "        }\n",
       "        if(!(frame in this.cache)) {\n",
       "            this.cache[frame] = $('<div />').appendTo(\"#\" + this.img_id).hide();\n",
       "            var cache_id = this.img_id+\"_\"+frame;\n",
       "            this.cache[frame].attr(\"id\", cache_id);\n",
       "            this.populate_cache(frame);\n",
       "        }\n",
       "    }\n",
       "}\n",
       "\n",
       "HoloViewsWidget.prototype.update = function(current){\n",
       "    if(current in this.cache) {\n",
       "        $.each(this.cache, function(index, value) {\n",
       "            value.hide();\n",
       "        });\n",
       "        this.cache[current].show();\n",
       "\t\tthis.wait = false;\n",
       "    }\n",
       "}\n",
       "\n",
       "\n",
       "function SelectionWidget(frames, id, slider_ids, keyMap, dim_vals, notFound, load_json, mode, cached, json_path, dynamic){\n",
       "    this.frames = frames;\n",
       "    this.fig_id = \"fig_\" + id;\n",
       "    this.img_id = \"_anim_img\" + id;\n",
       "    this.id = id;\n",
       "    this.slider_ids = slider_ids;\n",
       "    this.keyMap = keyMap\n",
       "    this.current_frame = 0;\n",
       "    this.current_vals = dim_vals;\n",
       "    this.load_json = load_json;\n",
       "    this.mode = mode;\n",
       "    this.notFound = notFound;\n",
       "    this.cached = cached;\n",
       "    this.dynamic = dynamic;\n",
       "    this.cache = {};\n",
       "\tthis.json_path = json_path;\n",
       "    this.init_slider(this.current_vals[0]);\n",
       "\tthis.queue = [];\n",
       "\tthis.wait = false;\n",
       "}\n",
       "\n",
       "SelectionWidget.prototype = new HoloViewsWidget;\n",
       "\n",
       "\n",
       "SelectionWidget.prototype.get_key = function(current_vals) {\n",
       "\tvar key = \"(\";\n",
       "    for (var i=0; i<this.slider_ids.length; i++)\n",
       "    {\n",
       "        val = this.current_vals[i];\n",
       "        if (!(typeof val === 'string')) {\n",
       "            if (val % 1 === 0) { var fixed = 1;}\n",
       "            else { var fixed = 10;}\n",
       "            val = val.toFixed(fixed)\n",
       "        }\n",
       "        key += \"'\" + val + \"'\";\n",
       "        if(i != this.slider_ids.length-1) { key += ', ';}\n",
       "        else if(this.slider_ids.length == 1) { key += ',';}\n",
       "    }\n",
       "    key += \")\";\n",
       "\treturn this.keyMap[key];\n",
       "}\n",
       "\n",
       "SelectionWidget.prototype.set_frame = function(dim_val, dim_idx){\n",
       "\tthis.current_vals[dim_idx] = dim_val;\n",
       "    var current = this.get_key(this.current_vals);\n",
       "    if(current === undefined && !this.dynamic) {\n",
       "        return\n",
       "    }\n",
       "\tif (this.dynamic || !this.cached) {\n",
       "\t\tif (this.time === undefined) {\n",
       "\t\t\t// Do nothing the first time\n",
       "\t\t} else if ((this.timed === undefined) || ((this.time + this.timed) > Date.now())) {\n",
       "\t\t\tvar key = this.current_vals;\n",
       "\t\t\tif (!this.dynamic) {\n",
       "\t\t\t\tkey = this.get_key(key);\n",
       "\t\t\t}\n",
       "\t\t\tthis.queue.push(key);\n",
       "\t\t\treturn\n",
       "\t\t}\n",
       "\t}\n",
       "\tthis.queue = [];\n",
       "\tthis.time = Date.now();\n",
       "    if(this.dynamic) {\n",
       "        this.dynamic_update(this.current_vals)\n",
       "        return;\n",
       "    }\n",
       "    this.current_frame = current;\n",
       "    if(this.cached) {\n",
       "        this.update(current)\n",
       "    } else {\n",
       "        this.dynamic_update(current)\n",
       "    }\n",
       "}\n",
       "\n",
       "\n",
       "/* Define the ScrubberWidget class */\n",
       "function ScrubberWidget(frames, num_frames, id, interval, load_json, mode, cached, json_path, dynamic){\n",
       "    this.img_id = \"_anim_img\" + id;\n",
       "    this.slider_id = \"_anim_slider\" + id;\n",
       "    this.loop_select_id = \"_anim_loop_select\" + id;\n",
       "    this.id = id;\n",
       "    this.fig_id = \"fig_\" + id;\n",
       "    this.interval = interval;\n",
       "    this.current_frame = 0;\n",
       "    this.direction = 0;\n",
       "    this.dynamic = dynamic;\n",
       "    this.timer = null;\n",
       "    this.load_json = load_json;\n",
       "    this.mode = mode;\n",
       "    this.cached = cached;\n",
       "    this.frames = frames;\n",
       "    this.cache = {};\n",
       "    this.length = num_frames;\n",
       "\tthis.json_path = json_path;\n",
       "    document.getElementById(this.slider_id).max = this.length - 1;\n",
       "    this.init_slider(0);\n",
       "\tthis.wait = false;\n",
       "\tthis.queue = [];\n",
       "}\n",
       "\n",
       "ScrubberWidget.prototype = new HoloViewsWidget;\n",
       "\n",
       "ScrubberWidget.prototype.set_frame = function(frame){\n",
       "\tthis.current_frame = frame;\n",
       "\twidget = document.getElementById(this.slider_id);\n",
       "    if (widget === null) {\n",
       "        this.pause_animation();\n",
       "        return\n",
       "    }\n",
       "    widget.value = this.current_frame;\n",
       "    if(this.cached) {\n",
       "        this.update(frame)\n",
       "    } else {\n",
       "        this.dynamic_update(frame)\n",
       "    }\n",
       "}\n",
       "\n",
       "\n",
       "ScrubberWidget.prototype.process_error = function(msg){\n",
       "\tif (msg.content.ename === 'StopIteration') {\n",
       "\t\tthis.pause_animation();\n",
       "\t\tthis.stopped = true;\n",
       "\t\tvar keys = Object.keys(this.frames)\n",
       "\t\tthis.length = keys.length;\n",
       "\t\tdocument.getElementById(this.slider_id).max = this.length-1;\n",
       "\t\tdocument.getElementById(this.slider_id).value = this.length-1;\n",
       "\t\tthis.current_frame = this.length-1;\n",
       "\t}\n",
       "}\n",
       "\n",
       "\n",
       "ScrubberWidget.prototype.get_loop_state = function(){\n",
       "    var button_group = document[this.loop_select_id].state;\n",
       "    for (var i = 0; i < button_group.length; i++) {\n",
       "        var button = button_group[i];\n",
       "        if (button.checked) {\n",
       "            return button.value;\n",
       "        }\n",
       "    }\n",
       "    return undefined;\n",
       "}\n",
       "\n",
       "\n",
       "ScrubberWidget.prototype.next_frame = function() {\n",
       "\tif (this.dynamic || !this.cached) {\n",
       "\t\tif (this.wait) {\n",
       "\t\t\treturn\n",
       "\t\t}\n",
       "\t\tthis.wait = true;\n",
       "\t}\n",
       "\tif (this.dynamic && this.current_frame + 1 >= this.length) {\n",
       "\t\tthis.length += 1;\n",
       "        document.getElementById(this.slider_id).max = this.length-1;\n",
       "\t}\n",
       "    this.set_frame(Math.min(this.length - 1, this.current_frame + 1));\n",
       "}\n",
       "\n",
       "ScrubberWidget.prototype.previous_frame = function() {\n",
       "    this.set_frame(Math.max(0, this.current_frame - 1));\n",
       "}\n",
       "\n",
       "ScrubberWidget.prototype.first_frame = function() {\n",
       "    this.set_frame(0);\n",
       "}\n",
       "\n",
       "ScrubberWidget.prototype.last_frame = function() {\n",
       "    this.set_frame(this.length - 1);\n",
       "}\n",
       "\n",
       "ScrubberWidget.prototype.slower = function() {\n",
       "    this.interval /= 0.7;\n",
       "    if(this.direction > 0){this.play_animation();}\n",
       "    else if(this.direction < 0){this.reverse_animation();}\n",
       "}\n",
       "\n",
       "ScrubberWidget.prototype.faster = function() {\n",
       "    this.interval *= 0.7;\n",
       "    if(this.direction > 0){this.play_animation();}\n",
       "    else if(this.direction < 0){this.reverse_animation();}\n",
       "}\n",
       "\n",
       "ScrubberWidget.prototype.anim_step_forward = function() {\n",
       "    if(this.current_frame < this.length || (this.dynamic && !this.stopped)){\n",
       "        this.next_frame();\n",
       "    }else{\n",
       "        var loop_state = this.get_loop_state();\n",
       "        if(loop_state == \"loop\"){\n",
       "            this.first_frame();\n",
       "        }else if(loop_state == \"reflect\"){\n",
       "            this.last_frame();\n",
       "            this.reverse_animation();\n",
       "        }else{\n",
       "            this.pause_animation();\n",
       "            this.last_frame();\n",
       "        }\n",
       "    }\n",
       "}\n",
       "\n",
       "ScrubberWidget.prototype.anim_step_reverse = function() {\n",
       "    this.current_frame -= 1;\n",
       "    if(this.current_frame >= 0){\n",
       "        this.set_frame(this.current_frame);\n",
       "    } else {\n",
       "        var loop_state = this.get_loop_state();\n",
       "        if(loop_state == \"loop\"){\n",
       "            this.last_frame();\n",
       "        }else if(loop_state == \"reflect\"){\n",
       "            this.first_frame();\n",
       "            this.play_animation();\n",
       "        }else{\n",
       "            this.pause_animation();\n",
       "            this.first_frame();\n",
       "        }\n",
       "    }\n",
       "}\n",
       "\n",
       "ScrubberWidget.prototype.pause_animation = function() {\n",
       "    this.direction = 0;\n",
       "    if (this.timer){\n",
       "        clearInterval(this.timer);\n",
       "        this.timer = null;\n",
       "    }\n",
       "}\n",
       "\n",
       "ScrubberWidget.prototype.play_animation = function() {\n",
       "    this.pause_animation();\n",
       "    this.direction = 1;\n",
       "    var t = this;\n",
       "    if (!this.timer) this.timer = setInterval(function(){t.anim_step_forward();}, this.interval);\n",
       "}\n",
       "\n",
       "ScrubberWidget.prototype.reverse_animation = function() {\n",
       "    this.pause_animation();\n",
       "    this.direction = -1;\n",
       "    var t = this;\n",
       "    if (!this.timer) this.timer = setInterval(function(){t.anim_step_reverse();}, this.interval);\n",
       "}\n",
       "\n",
       "function extend(destination, source) {\n",
       "    for (var k in source) {\n",
       "        if (source.hasOwnProperty(k)) {\n",
       "            destination[k] = source[k];\n",
       "        }\n",
       "    }\n",
       "    return destination;\n",
       "}\n",
       "\n",
       "function update_widget(widget, values) {\n",
       "\tif (widget.hasClass(\"ui-slider\")) {\n",
       "\t\twidget.slider('option',\n",
       "\t\t\t\t\t  {'min': 0, 'max': values.length-1,\n",
       "\t\t\t\t\t   'dim_vals': values, 'value': 0,\n",
       "\t\t\t\t\t   'dim_labels': values})\n",
       "\t\twidget.slider('option', 'slide').call(widget, event, {'value': 0})\n",
       "\t} else {\n",
       "\t\twidget.empty();\n",
       "\t\tfor (var i=0; i<values.length; i++){\n",
       "\t\t\twidget.append($(\"<option>\", {\n",
       "\t\t\t\tvalue: i,\n",
       "\t\t\t\ttext: values[i]\n",
       "\t\t\t}))};\n",
       "\t\twidget.data('values', values);\n",
       "\t\twidget.data('value', 0);\n",
       "\t\twidget.trigger(\"change\");\n",
       "\t};\n",
       "}\n",
       "\n",
       "// Define MPL specific subclasses\n",
       "function MPLSelectionWidget() {\n",
       "\tSelectionWidget.apply(this, arguments);\n",
       "}\n",
       "\n",
       "function MPLScrubberWidget() {\n",
       "\tScrubberWidget.apply(this, arguments);\n",
       "}\n",
       "\n",
       "// Let them inherit from the baseclasses\n",
       "MPLSelectionWidget.prototype = Object.create(SelectionWidget.prototype);\n",
       "MPLScrubberWidget.prototype = Object.create(ScrubberWidget.prototype);\n",
       "\n",
       "// Define methods to override on widgets\n",
       "var MPLMethods = {\n",
       "\tinit_slider : function(init_val){\n",
       "\t\tif(this.load_json) {\n",
       "\t\t\tthis.from_json()\n",
       "\t\t} else {\n",
       "\t\t\tthis.update_cache();\n",
       "\t\t}\n",
       "\t\tthis.update(0);\n",
       "\t\tif(this.mode == 'nbagg') {\n",
       "\t\t\tthis.set_frame(init_val, 0);\n",
       "\t\t}\n",
       "\t},\n",
       "\tpopulate_cache : function(idx){\n",
       "\t\tvar cache_id = this.img_id+\"_\"+idx;\n",
       "\t\tif(this.mode == 'mpld3') {\n",
       "\t\t\tmpld3.draw_figure(cache_id, this.frames[idx]);\n",
       "\t\t} else {\n",
       "\t\t\tthis.cache[idx].html(this.frames[idx]);\n",
       "\t\t}\n",
       "\t\tif (this.embed) {\n",
       "\t\t\tdelete this.frames[idx];\n",
       "\t\t}\n",
       "\t},\n",
       "\tdynamic_update : function(current){\n",
       "\t\tif (this.dynamic) {\n",
       "\t\t\tcurrent = JSON.stringify(current);\n",
       "\t\t}\n",
       "\t\tfunction callback(msg){\n",
       "\t\t\t/* This callback receives data from Python as a string\n",
       "\t\t\t in order to parse it correctly quotes are sliced off*/\n",
       "\t\t\tif (msg.content.ename != undefined) {\n",
       "\t\t\t\tthis.process_error(msg);\n",
       "\t\t\t}\n",
       "\t\t\tif (msg.msg_type != \"execute_result\") {\n",
       "\t\t\t\tconsole.log(\"Warning: HoloViews callback returned unexpected data for key: (\", current, \") with the following content:\", msg.content)\n",
       "\t\t\t\tthis.time = undefined;\n",
       "\t\t\t\treturn\n",
       "\t\t\t}\n",
       "\t\t\tif (!(this.mode == 'nbagg')) {\n",
       "\t\t\t\tif(!(current in this.cache)) {\n",
       "\t\t\t\t\tvar data = msg.content.data['text/plain'].slice(1, -1);\n",
       "\t\t\t\t\tif(this.mode == 'mpld3'){\n",
       "\t\t\t\t\t\tdata = JSON.parse(data)[0];\n",
       "\t\t\t\t\t}\n",
       "\t\t\t\t\tthis.frames[current] = data;\n",
       "\t\t\t\t\tthis.update_cache();\n",
       "\t\t\t\t}\n",
       "\t\t\t\tthis.update(current);\n",
       "\t\t\t}\n",
       "\t\t\tthis.timed = (Date.now() - this.time) * 1.5;\n",
       "\t\t\tthis.wait = false;\n",
       "\t\t\tif (this.queue.length > 0) {\n",
       "\t\t\t\tvar current_vals = this.queue[this.queue.length-1];\n",
       "\t\t\t\tthis.time = Date.now();\n",
       "\t\t\t\tthis.dynamic_update(current_vals);\n",
       "\t\t\t\tthis.queue = [];\n",
       "\t\t\t}\n",
       "\t\t}\n",
       "\t\tvar kernel = IPython.notebook.kernel;\n",
       "\t\tcallbacks = {iopub: {output: $.proxy(callback, this)}};\n",
       "\t\tvar cmd = \"holoviews.plotting.widgets.NdWidget.widgets['\" + this.id + \"'].update(\" + current + \")\";\n",
       "\t\tkernel.execute(\"import holoviews;\" + cmd, callbacks, {silent : false});\n",
       "\t}\n",
       "}\n",
       "\n",
       "// Extend MPL widgets with backend specific methods\n",
       "extend(MPLSelectionWidget.prototype, MPLMethods);\n",
       "extend(MPLScrubberWidget.prototype, MPLMethods);\n",
       "</script>\n",
       "\n",
       "\n",
       "<link rel=\"stylesheet\" href=\"https://code.jquery.com/ui/1.10.4/themes/smoothness/jquery-ui.css\">\n",
       "<style>div.hololayout {\n",
       "    display: flex;\n",
       "    align-items: center;\n",
       "    margin: 0;\n",
       "}\n",
       "\n",
       "div.holoframe {\n",
       "\twidth: 75%;\n",
       "}\n",
       "\n",
       "div.holowell {\n",
       "    display: flex;\n",
       "    align-items: center;\n",
       "    margin: 0;\n",
       "}\n",
       "\n",
       "form.holoform {\n",
       "    background-color: #fafafa;\n",
       "    border-radius: 5px;\n",
       "    overflow: hidden;\n",
       "\tpadding-left: 0.8em;\n",
       "    padding-right: 0.8em;\n",
       "    padding-top: 0.4em;\n",
       "    padding-bottom: 0.4em;\n",
       "}\n",
       "\n",
       "div.holowidgets {\n",
       "    padding-right: 0;\n",
       "\twidth: 25%;\n",
       "}\n",
       "\n",
       "div.holoslider {\n",
       "    min-height: 0 !important;\n",
       "    height: 0.8em;\n",
       "    width: 60%;\n",
       "}\n",
       "\n",
       "div.holoformgroup {\n",
       "    padding-top: 0.5em;\n",
       "    margin-bottom: 0.5em;\n",
       "}\n",
       "\n",
       "div.hologroup {\n",
       "    padding-left: 0;\n",
       "    padding-right: 0.8em;\n",
       "    width: 50%;\n",
       "}\n",
       "\n",
       ".holoselect {\n",
       "    width: 92%;\n",
       "    margin-left: 0;\n",
       "    margin-right: 0;\n",
       "}\n",
       "\n",
       ".holotext {\n",
       "    width: 100%;\n",
       "    padding-left:  0.5em;\n",
       "    padding-right: 0;\n",
       "}\n",
       "\n",
       ".holowidgets .ui-resizable-se {\n",
       "\tvisibility: hidden\n",
       "}\n",
       "\n",
       ".holoframe > .ui-resizable-se {\n",
       "\tvisibility: hidden\n",
       "}\n",
       "\n",
       ".holowidgets .ui-resizable-s {\n",
       "\tvisibility: hidden\n",
       "}\n",
       "</style>\n",
       "\n",
       "\n",
       "<div>\n",
       "<img src='data:image/png;base64,iVBORw0KGgoAAAANSUhEUgAAABkAAAAZCAIAAABLixI0AAAACXBIWXMAAAsTAAALEwEAmpwYAAAAB3RJTUUH3wkCDDIOi3cusgAABT1JREFUOMtVlclvG2UYh3/fMovHe53FThySNHZomrRJl6QR0AJdpVblQBEHJC4ciipxAgmO3PgPEP8BQkIsRUJUSF1oqGih0JY2CtnjOLGz2Em8xPbMeL6Pw9RJOprLjPT+5tH7Pu83JE7pqeHh8wMD2evfyXMXf/nxB2FZo6dPNzVHvvr6GxMQeOEigARswNzzUgK6x8NagPzS0nqxODQ62nLn1xMnX99/eLC3sGVROj2/IBxHABKgANlzM4ACTuMRAOecNREiAWtzc0NIEu/M37zVMTWeqlrpUDg1M7NTVgdkowwvxqGRRV1CE8jOznq7uhYAi2CpXtdVVQE4QAAdCAAGwAAJyEa9Amh7PsAihBBAABrg1XUfpe3bxTXb8XR0WJa1VSzWGyAcUAEVoIAARIMOQH2HC4AA6lKW8/n9Pm/Ahl4zV8fGTg0PtzQ3K3tA3GId8AO+BqZLt8sFQKE0GouRSkWtFM63KV0Vy1rJhN44k56cFFI6exJ3MBWANACVHS63aw5QtutVVT/4xWfHv/0ylytmHvx56sIFLxACfIABGIAf8ANRn++9y5evXrkS0XWXd5dLJWRfOHwspA1tr4iFtP3gD8/apjCtSDiyQYhZKNA94wOQTCQPhfzm9FTJH8jn84Tz3SyPlEQ4vf0Dt5/MPE5vpVObzQbxqvaDdL731MnWnh5pmsxxdE3rTCZfO3u2FbL6+2+hzpcKwXA2ldrNUgAVII7TMXhkZnzcAQTgAWI6sgV7YmKivLra1tFxMJk4Ho/r5fLy3btsYS7JHL1YoeHQKldKhcLzLNcdlRDOWDgczuVyOtDt4yN9gRYVmc161TTLmYw9P9e8OHcU5dG2fa3EmhNyKjGwROmzZ8+YqlIAKsDd9jtOenIy1t8vgDJQtuvYrjRT0kMQBRIUQxqSXkSDUIO0YAulvdfxGk/u33eVZs2EeBvu6gCjtKW7Oz81xQBhI73mtATQn/BuZ6wTrezsYX+1Jn+aNR8sl9Zb47l4/O+HD2u27QDgnHUQwhvKuFmRaLS2tkZsmwJSQpqIUzHYyynndx5t/1Vy5gXyhMhorEJIKpViQB0QnFNlZzkbdExRhBAckIAFbFXFetkpg94er004WK6jCniamrRAYHlmxhXFtWTXVfW50SQYDjvVKm+YHVMR10G5VAGrcWAohkEVpbC1RRo7QN2mS0BzuQiJHziwMTurAwrgBTo95NVjnshb3XaF9q1MTM7VeWNv6kJQgAISYAAHuARUQAHA2NCZM35KJ27c6KA4YiBXJlpVro5bkaGN2mStsCy8gAXobpyU7iFhAgxQAB40jMHh4WhnJ6nVpsfGVjOZUQMhi40k9K1FqQZI4ogffd3k33GPobTb5kCIFmriEYjgnABao60KwD68eCnz5PH0vXsr4+OsVIpRvNmpnLvQEozRpm5vxAP107dx+RMlvGTcmw7Xle6DwZlsdbZY05qbAq2ta9msCkhAcM4+yv+3uFZWAA+gA5pEaUOUnpaMohb+/BK7+j76r4IliFoyAv9EjsZ4ZbMmyOKqmdvciiWTL4+OUsY8mkY554d7okGyciuHqgQFVIABlkJ9fV44FLFrz8ecuIZ3u6offzD1fSnFmJSgle35mzcdVQ1Eo23B4Eh7lJdWNgZGohM/r5QAjZEoaDzi0TfKPlFDV/KF35mqs0NN1v3iRrqqAT7Xbdti6UXPImKZaf5SQiUBtAIG0OVXXnmnDUJWb9nET7D8VPba7pAJTKRnxPUpI+v0BXlApZPrlgDaCTke1VqaaLZC/wesjSVVF5Ac7QAAAABJRU5ErkJggg=='\n",
       "     style='width:25px;height:25px; border-radius:12px;'/>\n",
       "\n",
       "HoloViewsJS successfully loaded in this cell.\n",
       "</div>\n"
      ],
      "text/plain": [
       "<IPython.core.display.HTML object>"
      ]
     },
     "metadata": {},
     "output_type": "display_data"
    }
   ],
   "source": [
    "import holoviews as hv\n",
    "hv.notebook_extension()\n",
    "%opts Points [color_index=2] (cmap=\"bwr\" edgecolors='k' s=50 alpha=1.0)\n",
    "%opts Scatter3D [color_index=3 fig_size=250] (cmap='bwr' edgecolor='k' s=50 alpha=1.0)\n",
    "%opts Image (cmap=\"gray_r\") {+axiswise}\n",
    "\n",
    "import holoviews.plotting.mpl\n",
    "holoviews.plotting.mpl.MPLPlot.fig_alpha = 0\n",
    "holoviews.plotting.mpl.ElementPlot.bgcolor = 'white'"
   ]
  },
  {
   "cell_type": "markdown",
   "metadata": {},
   "source": [
    "`hv.Points` (scatter plot) takes its first argument as a tuple of two 1-D numpy arrays. The `group` arguments can decide dot size and style. Make sure you use `%%opts` for holoviews configuration."
   ]
  },
  {
   "cell_type": "markdown",
   "metadata": {},
   "source": [
    "### DT (velocity) vs. Vclacy_gr (volume)"
   ]
  },
  {
   "cell_type": "code",
   "execution_count": 166,
   "metadata": {
    "ExecuteTime": {
     "end_time": "2016-07-21T12:14:33.116771",
     "start_time": "2016-07-21T12:14:30.117963"
    },
    "collapsed": false
   },
   "outputs": [
    {
     "data": {
      "text/html": [
       "<img src='data:image/png;base64,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' style='max-width:100%; margin: auto; display: block; '/>"
      ],
      "text/plain": [
       ":Layout\n",
       "   .Tiny_dots.DT_vs_full_stop_Vclay_gr                                                          :Points   [x,y]\n",
       "   .Tiny_dots.DT_vs_full_stop_Vclay_gr_left_parenthesis_close_hyphen_minus_up_right_parenthesis :Points   [x,y]"
      ]
     },
     "execution_count": 166,
     "metadata": {},
     "output_type": "execute_result"
    }
   ],
   "source": [
    "%%output size=150\n",
    "%%opts Points.Small_dots (s=1 alpha=1) Points.Tiny_dots (s=0.2 alpha=0.2)\n",
    "hv.Points((df_seis_cols.DT.values,df_seis_cols.Vclay_gr.values),\n",
    "          label='DT vs. Vclay_gr',group=\"Tiny dots\") +\\\n",
    "hv.Points((df_seis_shrink.DT.values,df_seis_shrink.Vclay_gr.values),\n",
    "          label='DT vs. Vclay_gr (close-up)',group=\"Tiny dots\")"
   ]
  },
  {
   "cell_type": "markdown",
   "metadata": {},
   "source": [
    "### DT (velocity) vs. Sw (saturation)"
   ]
  },
  {
   "cell_type": "code",
   "execution_count": 172,
   "metadata": {
    "ExecuteTime": {
     "end_time": "2016-07-21T12:18:57.762984",
     "start_time": "2016-07-21T12:18:56.687478"
    },
    "collapsed": false
   },
   "outputs": [
    {
     "data": {
      "text/html": [
       "<img src='data:image/png;base64,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' style='max-width:100%; margin: auto; display: block; '/>"
      ],
      "text/plain": [
       "b':Points   [x,y]'"
      ]
     },
     "execution_count": 172,
     "metadata": {},
     "output_type": "execute_result"
    }
   ],
   "source": [
    "%%output size=150\n",
    "%%opts Points.Small_dots (s=1 alpha=1) Points.Tiny_dots (s=0.2 alpha=0.2)\n",
    "hv.Points((df_seis_cols.Sw.values,df_seis_cols.Vclay_gr.values),\n",
    "          label='Sw vs. Vclay_gr',group=\"Tiny dots\") "
   ]
  },
  {
   "cell_type": "markdown",
   "metadata": {},
   "source": [
    "# Build a classifier using all-column dataset\n",
    "The target variable is Vclay_gr, which is a continuous variable. Thus, fundamentally this is a regression problem. However, we can apply a cut-off to reframe this as a classification problem. \n",
    "\n",
    "If Vclay_gr >= cutoff, it's not sand (`True`). If not, it's sand (`False`)."
   ]
  },
  {
   "cell_type": "markdown",
   "metadata": {},
   "source": [
    "## Create a label"
   ]
  },
  {
   "cell_type": "code",
   "execution_count": 315,
   "metadata": {
    "ExecuteTime": {
     "end_time": "2016-07-21T15:31:42.298247",
     "start_time": "2016-07-21T15:31:41.986848"
    },
    "collapsed": false
   },
   "outputs": [
    {
     "name": "stderr",
     "output_type": "stream",
     "text": [
      "/Users/hongsupshin/anaconda/envs/snakes/lib/python3.5/site-packages/pandas/core/indexing.py:461: SettingWithCopyWarning: \n",
      "A value is trying to be set on a copy of a slice from a DataFrame.\n",
      "Try using .loc[row_indexer,col_indexer] = value instead\n",
      "\n",
      "See the caveats in the documentation: http://pandas.pydata.org/pandas-docs/stable/indexing.html#indexing-view-versus-copy\n",
      "  self.obj[item] = s\n"
     ]
    }
   ],
   "source": [
    "cutoff = 0.20\n",
    "df_all_cols.loc[:,'target'] = df_all_cols.Vclay_gr<cutoff"
   ]
  },
  {
   "cell_type": "markdown",
   "metadata": {},
   "source": [
    "## Create a feature set"
   ]
  },
  {
   "cell_type": "code",
   "execution_count": 316,
   "metadata": {
    "ExecuteTime": {
     "end_time": "2016-07-21T15:31:42.737487",
     "start_time": "2016-07-21T15:31:42.605688"
    },
    "collapsed": false
   },
   "outputs": [
    {
     "data": {
      "text/html": [
       "<div>\n",
       "<table border=\"1\" class=\"dataframe\">\n",
       "  <thead>\n",
       "    <tr style=\"text-align: right;\">\n",
       "      <th></th>\n",
       "      <th>DEPT</th>\n",
       "      <th>GR</th>\n",
       "      <th>F_temp</th>\n",
       "      <th>Rw</th>\n",
       "      <th>DT</th>\n",
       "      <th>Vclay_gr</th>\n",
       "      <th>Vclay_nd</th>\n",
       "      <th>Vclay_sd</th>\n",
       "      <th>Vclay</th>\n",
       "      <th>Vanlcm</th>\n",
       "      <th>Salinity</th>\n",
       "      <th>DPSC</th>\n",
       "      <th>NPSC</th>\n",
       "      <th>SPSC</th>\n",
       "      <th>PHIT</th>\n",
       "      <th>BVW</th>\n",
       "      <th>Sw</th>\n",
       "      <th>Net</th>\n",
       "      <th>Perm</th>\n",
       "      <th>Vanlcm_plt</th>\n",
       "      <th>Coal</th>\n",
       "      <th>target</th>\n",
       "    </tr>\n",
       "  </thead>\n",
       "  <tbody>\n",
       "    <tr>\n",
       "      <th>DEPT</th>\n",
       "      <td>1.000000</td>\n",
       "      <td>0.132907</td>\n",
       "      <td>0.997350</td>\n",
       "      <td>-0.895817</td>\n",
       "      <td>-0.833999</td>\n",
       "      <td>0.104733</td>\n",
       "      <td>-0.053224</td>\n",
       "      <td>-0.182641</td>\n",
       "      <td>0.007320</td>\n",
       "      <td>0.049619</td>\n",
       "      <td>0.672104</td>\n",
       "      <td>-0.665699</td>\n",
       "      <td>-0.599881</td>\n",
       "      <td>-0.634959</td>\n",
       "      <td>-0.680519</td>\n",
       "      <td>-0.656704</td>\n",
       "      <td>-0.341302</td>\n",
       "      <td>0.288489</td>\n",
       "      <td>-0.037576</td>\n",
       "      <td>0.051634</td>\n",
       "      <td>NaN</td>\n",
       "      <td>-0.034014</td>\n",
       "    </tr>\n",
       "    <tr>\n",
       "      <th>GR</th>\n",
       "      <td>0.132907</td>\n",
       "      <td>1.000000</td>\n",
       "      <td>0.129062</td>\n",
       "      <td>-0.187987</td>\n",
       "      <td>-0.051624</td>\n",
       "      <td>0.446632</td>\n",
       "      <td>0.181182</td>\n",
       "      <td>0.271265</td>\n",
       "      <td>0.250519</td>\n",
       "      <td>0.063249</td>\n",
       "      <td>0.221532</td>\n",
       "      <td>-0.272078</td>\n",
       "      <td>-0.221472</td>\n",
       "      <td>-0.143583</td>\n",
       "      <td>-0.273567</td>\n",
       "      <td>-0.232648</td>\n",
       "      <td>0.031500</td>\n",
       "      <td>-0.026907</td>\n",
       "      <td>-0.031806</td>\n",
       "      <td>0.394089</td>\n",
       "      <td>NaN</td>\n",
       "      <td>-0.303664</td>\n",
       "    </tr>\n",
       "    <tr>\n",
       "      <th>F_temp</th>\n",
       "      <td>0.997350</td>\n",
       "      <td>0.129062</td>\n",
       "      <td>1.000000</td>\n",
       "      <td>-0.899402</td>\n",
       "      <td>-0.822150</td>\n",
       "      <td>0.119008</td>\n",
       "      <td>-0.043206</td>\n",
       "      <td>-0.181620</td>\n",
       "      <td>0.022679</td>\n",
       "      <td>0.046777</td>\n",
       "      <td>0.674175</td>\n",
       "      <td>-0.669889</td>\n",
       "      <td>-0.591213</td>\n",
       "      <td>-0.636142</td>\n",
       "      <td>-0.687414</td>\n",
       "      <td>-0.660857</td>\n",
       "      <td>-0.344950</td>\n",
       "      <td>0.284876</td>\n",
       "      <td>-0.038301</td>\n",
       "      <td>0.070151</td>\n",
       "      <td>NaN</td>\n",
       "      <td>-0.039490</td>\n",
       "    </tr>\n",
       "    <tr>\n",
       "      <th>Rw</th>\n",
       "      <td>-0.895817</td>\n",
       "      <td>-0.187987</td>\n",
       "      <td>-0.899402</td>\n",
       "      <td>1.000000</td>\n",
       "      <td>0.743612</td>\n",
       "      <td>-0.169288</td>\n",
       "      <td>0.051466</td>\n",
       "      <td>0.150848</td>\n",
       "      <td>-0.061622</td>\n",
       "      <td>-0.073429</td>\n",
       "      <td>-0.912240</td>\n",
       "      <td>0.664825</td>\n",
       "      <td>0.599313</td>\n",
       "      <td>0.652082</td>\n",
       "      <td>0.679008</td>\n",
       "      <td>0.564642</td>\n",
       "      <td>0.263591</td>\n",
       "      <td>-0.157115</td>\n",
       "      <td>0.041462</td>\n",
       "      <td>-0.145534</td>\n",
       "      <td>NaN</td>\n",
       "      <td>0.107995</td>\n",
       "    </tr>\n",
       "    <tr>\n",
       "      <th>DT</th>\n",
       "      <td>-0.833999</td>\n",
       "      <td>-0.051624</td>\n",
       "      <td>-0.822150</td>\n",
       "      <td>0.743612</td>\n",
       "      <td>1.000000</td>\n",
       "      <td>-0.025439</td>\n",
       "      <td>0.144305</td>\n",
       "      <td>0.408493</td>\n",
       "      <td>0.149676</td>\n",
       "      <td>-0.117657</td>\n",
       "      <td>-0.546104</td>\n",
       "      <td>0.683754</td>\n",
       "      <td>0.595233</td>\n",
       "      <td>0.766548</td>\n",
       "      <td>0.691628</td>\n",
       "      <td>0.707202</td>\n",
       "      <td>0.402426</td>\n",
       "      <td>-0.326821</td>\n",
       "      <td>0.047279</td>\n",
       "      <td>0.104924</td>\n",
       "      <td>NaN</td>\n",
       "      <td>-0.051120</td>\n",
       "    </tr>\n",
       "    <tr>\n",
       "      <th>Vclay_gr</th>\n",
       "      <td>0.104733</td>\n",
       "      <td>0.446632</td>\n",
       "      <td>0.119008</td>\n",
       "      <td>-0.169288</td>\n",
       "      <td>-0.025439</td>\n",
       "      <td>1.000000</td>\n",
       "      <td>0.436880</td>\n",
       "      <td>0.314313</td>\n",
       "      <td>0.561145</td>\n",
       "      <td>0.132205</td>\n",
       "      <td>0.206433</td>\n",
       "      <td>-0.369399</td>\n",
       "      <td>-0.314448</td>\n",
       "      <td>-0.282037</td>\n",
       "      <td>-0.376943</td>\n",
       "      <td>-0.326310</td>\n",
       "      <td>-0.153901</td>\n",
       "      <td>0.103102</td>\n",
       "      <td>-0.065562</td>\n",
       "      <td>0.874783</td>\n",
       "      <td>NaN</td>\n",
       "      <td>-0.446215</td>\n",
       "    </tr>\n",
       "    <tr>\n",
       "      <th>Vclay_nd</th>\n",
       "      <td>-0.053224</td>\n",
       "      <td>0.181182</td>\n",
       "      <td>-0.043206</td>\n",
       "      <td>0.051466</td>\n",
       "      <td>0.144305</td>\n",
       "      <td>0.436880</td>\n",
       "      <td>1.000000</td>\n",
       "      <td>0.715442</td>\n",
       "      <td>0.914765</td>\n",
       "      <td>-0.745162</td>\n",
       "      <td>-0.028253</td>\n",
       "      <td>-0.120285</td>\n",
       "      <td>-0.168154</td>\n",
       "      <td>-0.186203</td>\n",
       "      <td>-0.111119</td>\n",
       "      <td>0.061901</td>\n",
       "      <td>0.298231</td>\n",
       "      <td>-0.218366</td>\n",
       "      <td>-0.110894</td>\n",
       "      <td>0.619362</td>\n",
       "      <td>NaN</td>\n",
       "      <td>-0.116331</td>\n",
       "    </tr>\n",
       "    <tr>\n",
       "      <th>Vclay_sd</th>\n",
       "      <td>-0.182641</td>\n",
       "      <td>0.271265</td>\n",
       "      <td>-0.181620</td>\n",
       "      <td>0.150848</td>\n",
       "      <td>0.408493</td>\n",
       "      <td>0.314313</td>\n",
       "      <td>0.715442</td>\n",
       "      <td>1.000000</td>\n",
       "      <td>0.719746</td>\n",
       "      <td>-0.579227</td>\n",
       "      <td>-0.073455</td>\n",
       "      <td>-0.109828</td>\n",
       "      <td>-0.271898</td>\n",
       "      <td>0.183763</td>\n",
       "      <td>-0.089118</td>\n",
       "      <td>0.127425</td>\n",
       "      <td>0.415808</td>\n",
       "      <td>-0.294938</td>\n",
       "      <td>-0.079009</td>\n",
       "      <td>0.493265</td>\n",
       "      <td>NaN</td>\n",
       "      <td>-0.109400</td>\n",
       "    </tr>\n",
       "    <tr>\n",
       "      <th>Vclay</th>\n",
       "      <td>0.007320</td>\n",
       "      <td>0.250519</td>\n",
       "      <td>0.022679</td>\n",
       "      <td>-0.061622</td>\n",
       "      <td>0.149676</td>\n",
       "      <td>0.561145</td>\n",
       "      <td>0.914765</td>\n",
       "      <td>0.719746</td>\n",
       "      <td>1.000000</td>\n",
       "      <td>-0.681448</td>\n",
       "      <td>0.094676</td>\n",
       "      <td>-0.170319</td>\n",
       "      <td>-0.249957</td>\n",
       "      <td>-0.237752</td>\n",
       "      <td>-0.161421</td>\n",
       "      <td>0.035269</td>\n",
       "      <td>0.272060</td>\n",
       "      <td>-0.264614</td>\n",
       "      <td>-0.078801</td>\n",
       "      <td>0.788875</td>\n",
       "      <td>NaN</td>\n",
       "      <td>-0.252364</td>\n",
       "    </tr>\n",
       "    <tr>\n",
       "      <th>Vanlcm</th>\n",
       "      <td>0.049619</td>\n",
       "      <td>0.063249</td>\n",
       "      <td>0.046777</td>\n",
       "      <td>-0.073429</td>\n",
       "      <td>-0.117657</td>\n",
       "      <td>0.132205</td>\n",
       "      <td>-0.745162</td>\n",
       "      <td>-0.579227</td>\n",
       "      <td>-0.681448</td>\n",
       "      <td>1.000000</td>\n",
       "      <td>0.076969</td>\n",
       "      <td>-0.071659</td>\n",
       "      <td>0.099390</td>\n",
       "      <td>0.103958</td>\n",
       "      <td>-0.087960</td>\n",
       "      <td>-0.235177</td>\n",
       "      <td>-0.381919</td>\n",
       "      <td>0.331324</td>\n",
       "      <td>0.103011</td>\n",
       "      <td>-0.087807</td>\n",
       "      <td>NaN</td>\n",
       "      <td>-0.070848</td>\n",
       "    </tr>\n",
       "    <tr>\n",
       "      <th>Salinity</th>\n",
       "      <td>0.672104</td>\n",
       "      <td>0.221532</td>\n",
       "      <td>0.674175</td>\n",
       "      <td>-0.912240</td>\n",
       "      <td>-0.546104</td>\n",
       "      <td>0.206433</td>\n",
       "      <td>-0.028253</td>\n",
       "      <td>-0.073455</td>\n",
       "      <td>0.094676</td>\n",
       "      <td>0.076969</td>\n",
       "      <td>1.000000</td>\n",
       "      <td>-0.522868</td>\n",
       "      <td>-0.497307</td>\n",
       "      <td>-0.526711</td>\n",
       "      <td>-0.532190</td>\n",
       "      <td>-0.409329</td>\n",
       "      <td>-0.212251</td>\n",
       "      <td>0.070428</td>\n",
       "      <td>-0.037558</td>\n",
       "      <td>0.193495</td>\n",
       "      <td>NaN</td>\n",
       "      <td>-0.135586</td>\n",
       "    </tr>\n",
       "    <tr>\n",
       "      <th>DPSC</th>\n",
       "      <td>-0.665699</td>\n",
       "      <td>-0.272078</td>\n",
       "      <td>-0.669889</td>\n",
       "      <td>0.664825</td>\n",
       "      <td>0.683754</td>\n",
       "      <td>-0.369399</td>\n",
       "      <td>-0.120285</td>\n",
       "      <td>-0.109828</td>\n",
       "      <td>-0.170319</td>\n",
       "      <td>-0.071659</td>\n",
       "      <td>-0.522868</td>\n",
       "      <td>1.000000</td>\n",
       "      <td>0.840726</td>\n",
       "      <td>0.694784</td>\n",
       "      <td>0.988231</td>\n",
       "      <td>0.797660</td>\n",
       "      <td>0.173706</td>\n",
       "      <td>-0.154578</td>\n",
       "      <td>0.136753</td>\n",
       "      <td>-0.291989</td>\n",
       "      <td>NaN</td>\n",
       "      <td>0.117563</td>\n",
       "    </tr>\n",
       "    <tr>\n",
       "      <th>NPSC</th>\n",
       "      <td>-0.599881</td>\n",
       "      <td>-0.221472</td>\n",
       "      <td>-0.591213</td>\n",
       "      <td>0.599313</td>\n",
       "      <td>0.595233</td>\n",
       "      <td>-0.314448</td>\n",
       "      <td>-0.168154</td>\n",
       "      <td>-0.271898</td>\n",
       "      <td>-0.249957</td>\n",
       "      <td>0.099390</td>\n",
       "      <td>-0.497307</td>\n",
       "      <td>0.840726</td>\n",
       "      <td>1.000000</td>\n",
       "      <td>0.711347</td>\n",
       "      <td>0.831032</td>\n",
       "      <td>0.638497</td>\n",
       "      <td>0.066847</td>\n",
       "      <td>-0.074519</td>\n",
       "      <td>0.110497</td>\n",
       "      <td>-0.256761</td>\n",
       "      <td>NaN</td>\n",
       "      <td>0.112173</td>\n",
       "    </tr>\n",
       "    <tr>\n",
       "      <th>SPSC</th>\n",
       "      <td>-0.634959</td>\n",
       "      <td>-0.143583</td>\n",
       "      <td>-0.636142</td>\n",
       "      <td>0.652082</td>\n",
       "      <td>0.766548</td>\n",
       "      <td>-0.282037</td>\n",
       "      <td>-0.186203</td>\n",
       "      <td>0.183763</td>\n",
       "      <td>-0.237752</td>\n",
       "      <td>0.103958</td>\n",
       "      <td>-0.526711</td>\n",
       "      <td>0.694784</td>\n",
       "      <td>0.711347</td>\n",
       "      <td>1.000000</td>\n",
       "      <td>0.703284</td>\n",
       "      <td>0.584214</td>\n",
       "      <td>0.156926</td>\n",
       "      <td>-0.099005</td>\n",
       "      <td>0.085734</td>\n",
       "      <td>-0.236309</td>\n",
       "      <td>NaN</td>\n",
       "      <td>0.107002</td>\n",
       "    </tr>\n",
       "    <tr>\n",
       "      <th>PHIT</th>\n",
       "      <td>-0.680519</td>\n",
       "      <td>-0.273567</td>\n",
       "      <td>-0.687414</td>\n",
       "      <td>0.679008</td>\n",
       "      <td>0.691628</td>\n",
       "      <td>-0.376943</td>\n",
       "      <td>-0.111119</td>\n",
       "      <td>-0.089118</td>\n",
       "      <td>-0.161421</td>\n",
       "      <td>-0.087960</td>\n",
       "      <td>-0.532190</td>\n",
       "      <td>0.988231</td>\n",
       "      <td>0.831032</td>\n",
       "      <td>0.703284</td>\n",
       "      <td>1.000000</td>\n",
       "      <td>0.810952</td>\n",
       "      <td>0.185060</td>\n",
       "      <td>-0.159998</td>\n",
       "      <td>0.138562</td>\n",
       "      <td>-0.293566</td>\n",
       "      <td>NaN</td>\n",
       "      <td>0.121571</td>\n",
       "    </tr>\n",
       "    <tr>\n",
       "      <th>BVW</th>\n",
       "      <td>-0.656704</td>\n",
       "      <td>-0.232648</td>\n",
       "      <td>-0.660857</td>\n",
       "      <td>0.564642</td>\n",
       "      <td>0.707202</td>\n",
       "      <td>-0.326310</td>\n",
       "      <td>0.061901</td>\n",
       "      <td>0.127425</td>\n",
       "      <td>0.035269</td>\n",
       "      <td>-0.235177</td>\n",
       "      <td>-0.409329</td>\n",
       "      <td>0.797660</td>\n",
       "      <td>0.638497</td>\n",
       "      <td>0.584214</td>\n",
       "      <td>0.810952</td>\n",
       "      <td>1.000000</td>\n",
       "      <td>0.572872</td>\n",
       "      <td>-0.438040</td>\n",
       "      <td>0.063404</td>\n",
       "      <td>-0.149474</td>\n",
       "      <td>NaN</td>\n",
       "      <td>0.061946</td>\n",
       "    </tr>\n",
       "    <tr>\n",
       "      <th>Sw</th>\n",
       "      <td>-0.341302</td>\n",
       "      <td>0.031500</td>\n",
       "      <td>-0.344950</td>\n",
       "      <td>0.263591</td>\n",
       "      <td>0.402426</td>\n",
       "      <td>-0.153901</td>\n",
       "      <td>0.298231</td>\n",
       "      <td>0.415808</td>\n",
       "      <td>0.272060</td>\n",
       "      <td>-0.381919</td>\n",
       "      <td>-0.212251</td>\n",
       "      <td>0.173706</td>\n",
       "      <td>0.066847</td>\n",
       "      <td>0.156926</td>\n",
       "      <td>0.185060</td>\n",
       "      <td>0.572872</td>\n",
       "      <td>1.000000</td>\n",
       "      <td>-0.626982</td>\n",
       "      <td>0.029444</td>\n",
       "      <td>0.049589</td>\n",
       "      <td>NaN</td>\n",
       "      <td>0.013203</td>\n",
       "    </tr>\n",
       "    <tr>\n",
       "      <th>Net</th>\n",
       "      <td>0.288489</td>\n",
       "      <td>-0.026907</td>\n",
       "      <td>0.284876</td>\n",
       "      <td>-0.157115</td>\n",
       "      <td>-0.326821</td>\n",
       "      <td>0.103102</td>\n",
       "      <td>-0.218366</td>\n",
       "      <td>-0.294938</td>\n",
       "      <td>-0.264614</td>\n",
       "      <td>0.331324</td>\n",
       "      <td>0.070428</td>\n",
       "      <td>-0.154578</td>\n",
       "      <td>-0.074519</td>\n",
       "      <td>-0.099005</td>\n",
       "      <td>-0.159998</td>\n",
       "      <td>-0.438040</td>\n",
       "      <td>-0.626982</td>\n",
       "      <td>1.000000</td>\n",
       "      <td>-0.011806</td>\n",
       "      <td>-0.081938</td>\n",
       "      <td>NaN</td>\n",
       "      <td>0.054346</td>\n",
       "    </tr>\n",
       "    <tr>\n",
       "      <th>Perm</th>\n",
       "      <td>-0.037576</td>\n",
       "      <td>-0.031806</td>\n",
       "      <td>-0.038301</td>\n",
       "      <td>0.041462</td>\n",
       "      <td>0.047279</td>\n",
       "      <td>-0.065562</td>\n",
       "      <td>-0.110894</td>\n",
       "      <td>-0.079009</td>\n",
       "      <td>-0.078801</td>\n",
       "      <td>0.103011</td>\n",
       "      <td>-0.037558</td>\n",
       "      <td>0.136753</td>\n",
       "      <td>0.110497</td>\n",
       "      <td>0.085734</td>\n",
       "      <td>0.138562</td>\n",
       "      <td>0.063404</td>\n",
       "      <td>0.029444</td>\n",
       "      <td>-0.011806</td>\n",
       "      <td>1.000000</td>\n",
       "      <td>-0.020756</td>\n",
       "      <td>NaN</td>\n",
       "      <td>0.140793</td>\n",
       "    </tr>\n",
       "    <tr>\n",
       "      <th>Vanlcm_plt</th>\n",
       "      <td>0.051634</td>\n",
       "      <td>0.394089</td>\n",
       "      <td>0.070151</td>\n",
       "      <td>-0.145534</td>\n",
       "      <td>0.104924</td>\n",
       "      <td>0.874783</td>\n",
       "      <td>0.619362</td>\n",
       "      <td>0.493265</td>\n",
       "      <td>0.788875</td>\n",
       "      <td>-0.087807</td>\n",
       "      <td>0.193495</td>\n",
       "      <td>-0.291989</td>\n",
       "      <td>-0.256761</td>\n",
       "      <td>-0.236309</td>\n",
       "      <td>-0.293566</td>\n",
       "      <td>-0.149474</td>\n",
       "      <td>0.049589</td>\n",
       "      <td>-0.081938</td>\n",
       "      <td>-0.020756</td>\n",
       "      <td>1.000000</td>\n",
       "      <td>NaN</td>\n",
       "      <td>-0.402983</td>\n",
       "    </tr>\n",
       "    <tr>\n",
       "      <th>Coal</th>\n",
       "      <td>NaN</td>\n",
       "      <td>NaN</td>\n",
       "      <td>NaN</td>\n",
       "      <td>NaN</td>\n",
       "      <td>NaN</td>\n",
       "      <td>NaN</td>\n",
       "      <td>NaN</td>\n",
       "      <td>NaN</td>\n",
       "      <td>NaN</td>\n",
       "      <td>NaN</td>\n",
       "      <td>NaN</td>\n",
       "      <td>NaN</td>\n",
       "      <td>NaN</td>\n",
       "      <td>NaN</td>\n",
       "      <td>NaN</td>\n",
       "      <td>NaN</td>\n",
       "      <td>NaN</td>\n",
       "      <td>NaN</td>\n",
       "      <td>NaN</td>\n",
       "      <td>NaN</td>\n",
       "      <td>NaN</td>\n",
       "      <td>NaN</td>\n",
       "    </tr>\n",
       "    <tr>\n",
       "      <th>target</th>\n",
       "      <td>-0.034014</td>\n",
       "      <td>-0.303664</td>\n",
       "      <td>-0.039490</td>\n",
       "      <td>0.107995</td>\n",
       "      <td>-0.051120</td>\n",
       "      <td>-0.446215</td>\n",
       "      <td>-0.116331</td>\n",
       "      <td>-0.109400</td>\n",
       "      <td>-0.252364</td>\n",
       "      <td>-0.070848</td>\n",
       "      <td>-0.135586</td>\n",
       "      <td>0.117563</td>\n",
       "      <td>0.112173</td>\n",
       "      <td>0.107002</td>\n",
       "      <td>0.121571</td>\n",
       "      <td>0.061946</td>\n",
       "      <td>0.013203</td>\n",
       "      <td>0.054346</td>\n",
       "      <td>0.140793</td>\n",
       "      <td>-0.402983</td>\n",
       "      <td>NaN</td>\n",
       "      <td>1.000000</td>\n",
       "    </tr>\n",
       "  </tbody>\n",
       "</table>\n",
       "</div>"
      ],
      "text/plain": [
       "                DEPT        GR    F_temp        Rw        DT  Vclay_gr  \\\n",
       "DEPT        1.000000  0.132907  0.997350 -0.895817 -0.833999  0.104733   \n",
       "GR          0.132907  1.000000  0.129062 -0.187987 -0.051624  0.446632   \n",
       "F_temp      0.997350  0.129062  1.000000 -0.899402 -0.822150  0.119008   \n",
       "Rw         -0.895817 -0.187987 -0.899402  1.000000  0.743612 -0.169288   \n",
       "DT         -0.833999 -0.051624 -0.822150  0.743612  1.000000 -0.025439   \n",
       "Vclay_gr    0.104733  0.446632  0.119008 -0.169288 -0.025439  1.000000   \n",
       "Vclay_nd   -0.053224  0.181182 -0.043206  0.051466  0.144305  0.436880   \n",
       "Vclay_sd   -0.182641  0.271265 -0.181620  0.150848  0.408493  0.314313   \n",
       "Vclay       0.007320  0.250519  0.022679 -0.061622  0.149676  0.561145   \n",
       "Vanlcm      0.049619  0.063249  0.046777 -0.073429 -0.117657  0.132205   \n",
       "Salinity    0.672104  0.221532  0.674175 -0.912240 -0.546104  0.206433   \n",
       "DPSC       -0.665699 -0.272078 -0.669889  0.664825  0.683754 -0.369399   \n",
       "NPSC       -0.599881 -0.221472 -0.591213  0.599313  0.595233 -0.314448   \n",
       "SPSC       -0.634959 -0.143583 -0.636142  0.652082  0.766548 -0.282037   \n",
       "PHIT       -0.680519 -0.273567 -0.687414  0.679008  0.691628 -0.376943   \n",
       "BVW        -0.656704 -0.232648 -0.660857  0.564642  0.707202 -0.326310   \n",
       "Sw         -0.341302  0.031500 -0.344950  0.263591  0.402426 -0.153901   \n",
       "Net         0.288489 -0.026907  0.284876 -0.157115 -0.326821  0.103102   \n",
       "Perm       -0.037576 -0.031806 -0.038301  0.041462  0.047279 -0.065562   \n",
       "Vanlcm_plt  0.051634  0.394089  0.070151 -0.145534  0.104924  0.874783   \n",
       "Coal             NaN       NaN       NaN       NaN       NaN       NaN   \n",
       "target     -0.034014 -0.303664 -0.039490  0.107995 -0.051120 -0.446215   \n",
       "\n",
       "            Vclay_nd  Vclay_sd     Vclay    Vanlcm  Salinity      DPSC  \\\n",
       "DEPT       -0.053224 -0.182641  0.007320  0.049619  0.672104 -0.665699   \n",
       "GR          0.181182  0.271265  0.250519  0.063249  0.221532 -0.272078   \n",
       "F_temp     -0.043206 -0.181620  0.022679  0.046777  0.674175 -0.669889   \n",
       "Rw          0.051466  0.150848 -0.061622 -0.073429 -0.912240  0.664825   \n",
       "DT          0.144305  0.408493  0.149676 -0.117657 -0.546104  0.683754   \n",
       "Vclay_gr    0.436880  0.314313  0.561145  0.132205  0.206433 -0.369399   \n",
       "Vclay_nd    1.000000  0.715442  0.914765 -0.745162 -0.028253 -0.120285   \n",
       "Vclay_sd    0.715442  1.000000  0.719746 -0.579227 -0.073455 -0.109828   \n",
       "Vclay       0.914765  0.719746  1.000000 -0.681448  0.094676 -0.170319   \n",
       "Vanlcm     -0.745162 -0.579227 -0.681448  1.000000  0.076969 -0.071659   \n",
       "Salinity   -0.028253 -0.073455  0.094676  0.076969  1.000000 -0.522868   \n",
       "DPSC       -0.120285 -0.109828 -0.170319 -0.071659 -0.522868  1.000000   \n",
       "NPSC       -0.168154 -0.271898 -0.249957  0.099390 -0.497307  0.840726   \n",
       "SPSC       -0.186203  0.183763 -0.237752  0.103958 -0.526711  0.694784   \n",
       "PHIT       -0.111119 -0.089118 -0.161421 -0.087960 -0.532190  0.988231   \n",
       "BVW         0.061901  0.127425  0.035269 -0.235177 -0.409329  0.797660   \n",
       "Sw          0.298231  0.415808  0.272060 -0.381919 -0.212251  0.173706   \n",
       "Net        -0.218366 -0.294938 -0.264614  0.331324  0.070428 -0.154578   \n",
       "Perm       -0.110894 -0.079009 -0.078801  0.103011 -0.037558  0.136753   \n",
       "Vanlcm_plt  0.619362  0.493265  0.788875 -0.087807  0.193495 -0.291989   \n",
       "Coal             NaN       NaN       NaN       NaN       NaN       NaN   \n",
       "target     -0.116331 -0.109400 -0.252364 -0.070848 -0.135586  0.117563   \n",
       "\n",
       "                NPSC      SPSC      PHIT       BVW        Sw       Net  \\\n",
       "DEPT       -0.599881 -0.634959 -0.680519 -0.656704 -0.341302  0.288489   \n",
       "GR         -0.221472 -0.143583 -0.273567 -0.232648  0.031500 -0.026907   \n",
       "F_temp     -0.591213 -0.636142 -0.687414 -0.660857 -0.344950  0.284876   \n",
       "Rw          0.599313  0.652082  0.679008  0.564642  0.263591 -0.157115   \n",
       "DT          0.595233  0.766548  0.691628  0.707202  0.402426 -0.326821   \n",
       "Vclay_gr   -0.314448 -0.282037 -0.376943 -0.326310 -0.153901  0.103102   \n",
       "Vclay_nd   -0.168154 -0.186203 -0.111119  0.061901  0.298231 -0.218366   \n",
       "Vclay_sd   -0.271898  0.183763 -0.089118  0.127425  0.415808 -0.294938   \n",
       "Vclay      -0.249957 -0.237752 -0.161421  0.035269  0.272060 -0.264614   \n",
       "Vanlcm      0.099390  0.103958 -0.087960 -0.235177 -0.381919  0.331324   \n",
       "Salinity   -0.497307 -0.526711 -0.532190 -0.409329 -0.212251  0.070428   \n",
       "DPSC        0.840726  0.694784  0.988231  0.797660  0.173706 -0.154578   \n",
       "NPSC        1.000000  0.711347  0.831032  0.638497  0.066847 -0.074519   \n",
       "SPSC        0.711347  1.000000  0.703284  0.584214  0.156926 -0.099005   \n",
       "PHIT        0.831032  0.703284  1.000000  0.810952  0.185060 -0.159998   \n",
       "BVW         0.638497  0.584214  0.810952  1.000000  0.572872 -0.438040   \n",
       "Sw          0.066847  0.156926  0.185060  0.572872  1.000000 -0.626982   \n",
       "Net        -0.074519 -0.099005 -0.159998 -0.438040 -0.626982  1.000000   \n",
       "Perm        0.110497  0.085734  0.138562  0.063404  0.029444 -0.011806   \n",
       "Vanlcm_plt -0.256761 -0.236309 -0.293566 -0.149474  0.049589 -0.081938   \n",
       "Coal             NaN       NaN       NaN       NaN       NaN       NaN   \n",
       "target      0.112173  0.107002  0.121571  0.061946  0.013203  0.054346   \n",
       "\n",
       "                Perm  Vanlcm_plt  Coal    target  \n",
       "DEPT       -0.037576    0.051634   NaN -0.034014  \n",
       "GR         -0.031806    0.394089   NaN -0.303664  \n",
       "F_temp     -0.038301    0.070151   NaN -0.039490  \n",
       "Rw          0.041462   -0.145534   NaN  0.107995  \n",
       "DT          0.047279    0.104924   NaN -0.051120  \n",
       "Vclay_gr   -0.065562    0.874783   NaN -0.446215  \n",
       "Vclay_nd   -0.110894    0.619362   NaN -0.116331  \n",
       "Vclay_sd   -0.079009    0.493265   NaN -0.109400  \n",
       "Vclay      -0.078801    0.788875   NaN -0.252364  \n",
       "Vanlcm      0.103011   -0.087807   NaN -0.070848  \n",
       "Salinity   -0.037558    0.193495   NaN -0.135586  \n",
       "DPSC        0.136753   -0.291989   NaN  0.117563  \n",
       "NPSC        0.110497   -0.256761   NaN  0.112173  \n",
       "SPSC        0.085734   -0.236309   NaN  0.107002  \n",
       "PHIT        0.138562   -0.293566   NaN  0.121571  \n",
       "BVW         0.063404   -0.149474   NaN  0.061946  \n",
       "Sw          0.029444    0.049589   NaN  0.013203  \n",
       "Net        -0.011806   -0.081938   NaN  0.054346  \n",
       "Perm        1.000000   -0.020756   NaN  0.140793  \n",
       "Vanlcm_plt -0.020756    1.000000   NaN -0.402983  \n",
       "Coal             NaN         NaN   NaN       NaN  \n",
       "target      0.140793   -0.402983   NaN  1.000000  "
      ]
     },
     "execution_count": 316,
     "metadata": {},
     "output_type": "execute_result"
    }
   ],
   "source": [
    "df_all_cols.corr()"
   ]
  },
  {
   "cell_type": "markdown",
   "metadata": {},
   "source": [
    "`Coal` gives NaN potentially because there's only one value."
   ]
  },
  {
   "cell_type": "code",
   "execution_count": 317,
   "metadata": {
    "ExecuteTime": {
     "end_time": "2016-07-21T15:31:43.049590",
     "start_time": "2016-07-21T15:31:43.045591"
    },
    "collapsed": false
   },
   "outputs": [
    {
     "name": "stdout",
     "output_type": "stream",
     "text": [
      "1\n"
     ]
    }
   ],
   "source": [
    "print(df_all_cols.Coal.nunique())"
   ]
  },
  {
   "cell_type": "code",
   "execution_count": 318,
   "metadata": {
    "ExecuteTime": {
     "end_time": "2016-07-21T15:31:43.441419",
     "start_time": "2016-07-21T15:31:43.437076"
    },
    "collapsed": false
   },
   "outputs": [
    {
     "name": "stdout",
     "output_type": "stream",
     "text": [
      "['DEPT' 'GR' 'F_temp' 'Rw' 'DT' 'Vclay_gr' 'Vclay_nd' 'Vclay_sd' 'Vclay'\n",
      " 'Vanlcm' 'Salinity' 'DPSC' 'NPSC' 'SPSC' 'PHIT' 'BVW' 'Sw' 'Net' 'Perm'\n",
      " 'Vanlcm_plt' 'Coal' 'FileName' 'target']\n"
     ]
    }
   ],
   "source": [
    "all_col_names = df_all_cols.columns.values\n",
    "print(all_col_names)"
   ]
  },
  {
   "cell_type": "code",
   "execution_count": 319,
   "metadata": {
    "ExecuteTime": {
     "end_time": "2016-07-21T15:31:43.647719",
     "start_time": "2016-07-21T15:31:43.644657"
    },
    "collapsed": false
   },
   "outputs": [],
   "source": [
    "cols_to_be_gone = ['Vclay_gr','Sw','Coal','FileName','target']\n",
    "feature_names = list(set(all_col_names).difference(set(cols_to_be_gone)))"
   ]
  },
  {
   "cell_type": "code",
   "execution_count": 320,
   "metadata": {
    "ExecuteTime": {
     "end_time": "2016-07-21T15:31:43.842807",
     "start_time": "2016-07-21T15:31:43.837744"
    },
    "collapsed": false
   },
   "outputs": [],
   "source": [
    "df_X = df_all_cols[feature_names]\n",
    "df_Y = df_all_cols.target"
   ]
  },
  {
   "cell_type": "code",
   "execution_count": 321,
   "metadata": {
    "ExecuteTime": {
     "end_time": "2016-07-21T15:31:44.028207",
     "start_time": "2016-07-21T15:31:44.021030"
    },
    "collapsed": false
   },
   "outputs": [
    {
     "data": {
      "text/plain": [
       "False    0.96405\n",
       "True     0.03595\n",
       "Name: target, dtype: float64"
      ]
     },
     "execution_count": 321,
     "metadata": {},
     "output_type": "execute_result"
    }
   ],
   "source": [
    "df_Y.value_counts(normalize=True)"
   ]
  },
  {
   "cell_type": "markdown",
   "metadata": {},
   "source": [
    "As expected, we have an imbalanced dataset."
   ]
  },
  {
   "cell_type": "markdown",
   "metadata": {},
   "source": [
    "## Build a random forest classifier"
   ]
  },
  {
   "cell_type": "code",
   "execution_count": 322,
   "metadata": {
    "ExecuteTime": {
     "end_time": "2016-07-21T15:31:46.644944",
     "start_time": "2016-07-21T15:31:46.638969"
    },
    "collapsed": true
   },
   "outputs": [],
   "source": [
    "import sklearn.metrics\n",
    "import sklearn.ensemble\n",
    "import sklearn.cross_validation\n",
    "from sklearn.metrics import confusion_matrix"
   ]
  },
  {
   "cell_type": "code",
   "execution_count": 389,
   "metadata": {
    "ExecuteTime": {
     "end_time": "2016-07-21T16:14:28.957962",
     "start_time": "2016-07-21T16:14:25.080704"
    },
    "collapsed": false
   },
   "outputs": [
    {
     "name": "stdout",
     "output_type": "stream",
     "text": [
      "0.994330576216\n"
     ]
    }
   ],
   "source": [
    "clf = sklearn.ensemble.RandomForestClassifier(n_estimators=50,class_weight='balanced',random_state=64)\n",
    "scores = sklearn.cross_validation.cross_val_score(clf, df_X, df_Y, cv=kfold, scoring='f1_weighted')\n",
    "print(scores.mean())"
   ]
  },
  {
   "cell_type": "code",
   "execution_count": 390,
   "metadata": {
    "ExecuteTime": {
     "end_time": "2016-07-21T16:14:36.931518",
     "start_time": "2016-07-21T16:14:33.157703"
    },
    "collapsed": false
   },
   "outputs": [],
   "source": [
    "Y_pred = sklearn.cross_validation.cross_val_predict(clf, df_X, df_Y, cv=10)"
   ]
  },
  {
   "cell_type": "markdown",
   "metadata": {},
   "source": [
    "### Confusion matrix"
   ]
  },
  {
   "cell_type": "code",
   "execution_count": 391,
   "metadata": {
    "ExecuteTime": {
     "end_time": "2016-07-21T16:14:37.902106",
     "start_time": "2016-07-21T16:14:37.892510"
    },
    "collapsed": false
   },
   "outputs": [],
   "source": [
    "cm = confusion_matrix(df_Y, Y_pred)\n",
    "cm_norm = cm/np.max(cm)"
   ]
  },
  {
   "cell_type": "code",
   "execution_count": 392,
   "metadata": {
    "ExecuteTime": {
     "end_time": "2016-07-21T16:14:38.338606",
     "start_time": "2016-07-21T16:14:38.334363"
    },
    "collapsed": false
   },
   "outputs": [
    {
     "name": "stdout",
     "output_type": "stream",
     "text": [
      "[[6464  401]\n",
      " [ 108  148]]\n",
      "[[ 1.          0.06203589]\n",
      " [ 0.01670792  0.02289604]]\n"
     ]
    }
   ],
   "source": [
    "print(cm)\n",
    "print(cm_norm)"
   ]
  },
  {
   "cell_type": "code",
   "execution_count": 393,
   "metadata": {
    "ExecuteTime": {
     "end_time": "2016-07-21T16:14:39.299807",
     "start_time": "2016-07-21T16:14:39.293277"
    },
    "collapsed": false
   },
   "outputs": [],
   "source": [
    "def plot_confusion_matrix(cm, title='Confusion matrix', cmap=plt.cm.Blues):\n",
    "    plt.imshow(cm, interpolation='nearest', cmap=cmap)\n",
    "    plt.title(title)\n",
    "    plt.colorbar()\n",
    "    plt.tight_layout()\n",
    "    plt.ylabel('True label')\n",
    "    plt.xlabel('Predicted label')"
   ]
  },
  {
   "cell_type": "code",
   "execution_count": 394,
   "metadata": {
    "ExecuteTime": {
     "end_time": "2016-07-21T16:14:39.967041",
     "start_time": "2016-07-21T16:14:39.681517"
    },
    "collapsed": false
   },
   "outputs": [
    {
     "data": {
      "image/png": "[encoded data removed]",
      "text/plain": [
       "<matplotlib.figure.Figure at 0x12e27b470>"
      ]
     },
     "metadata": {},
     "output_type": "display_data"
    }
   ],
   "source": [
    "plot_confusion_matrix(cm)"
   ]
  },
  {
   "cell_type": "markdown",
   "metadata": {},
   "source": [
    "### False positive rate\n",
    "- True (1) -> Sand\n",
    "- False (0) -> Non-Sand\n",
    "- False positive\n",
    "    - True -> Non-Sand\n",
    "    - Pred -> Sand\n",
    "    - Goal is to lower false positive rate.\n",
    "\n",
    "False positive rate = FP / (FP+TN)"
   ]
  },
  {
   "cell_type": "code",
   "execution_count": 395,
   "metadata": {
    "ExecuteTime": {
     "end_time": "2016-07-21T16:14:40.714033",
     "start_time": "2016-07-21T16:14:40.705067"
    },
    "collapsed": false
   },
   "outputs": [
    {
     "data": {
      "text/plain": [
       "array([[6464,  401],\n",
       "       [ 108,  148]])"
      ]
     },
     "execution_count": 395,
     "metadata": {},
     "output_type": "execute_result"
    }
   ],
   "source": [
    "cm"
   ]
  },
  {
   "cell_type": "code",
   "execution_count": 396,
   "metadata": {
    "ExecuteTime": {
     "end_time": "2016-07-21T16:14:41.261237",
     "start_time": "2016-07-21T16:14:41.256925"
    },
    "collapsed": false
   },
   "outputs": [],
   "source": [
    "TN = cm[0,0]\n",
    "TP = cm[1,1]\n",
    "FN = cm[1,0]\n",
    "FP = cm[0,1]"
   ]
  },
  {
   "cell_type": "code",
   "execution_count": 397,
   "metadata": {
    "ExecuteTime": {
     "end_time": "2016-07-21T16:14:41.787014",
     "start_time": "2016-07-21T16:14:41.782574"
    },
    "collapsed": false
   },
   "outputs": [
    {
     "data": {
      "text/plain": [
       "0.058412235979606701"
      ]
     },
     "execution_count": 397,
     "metadata": {},
     "output_type": "execute_result"
    }
   ],
   "source": [
    "FP_rate = FP / (FP+TN)\n",
    "FP_rate"
   ]
  },
  {
   "cell_type": "code",
   "execution_count": 398,
   "metadata": {
    "ExecuteTime": {
     "end_time": "2016-07-21T16:14:42.849671",
     "start_time": "2016-07-21T16:14:42.841727"
    },
    "collapsed": false
   },
   "outputs": [
    {
     "data": {
      "text/plain": [
       "0.26958105646630237"
      ]
     },
     "execution_count": 398,
     "metadata": {},
     "output_type": "execute_result"
    }
   ],
   "source": [
    "precision = TP / (TP+FP)\n",
    "precision"
   ]
  },
  {
   "cell_type": "code",
   "execution_count": 400,
   "metadata": {
    "ExecuteTime": {
     "end_time": "2016-07-21T16:15:08.699018",
     "start_time": "2016-07-21T16:15:08.692913"
    },
    "collapsed": false
   },
   "outputs": [
    {
     "data": {
      "text/plain": [
       "0.98356664637857583"
      ]
     },
     "execution_count": 400,
     "metadata": {},
     "output_type": "execute_result"
    }
   ],
   "source": [
    "precision_neg = TN / (TN+FN)\n",
    "precision_neg"
   ]
  },
  {
   "cell_type": "code",
   "execution_count": 399,
   "metadata": {
    "ExecuteTime": {
     "end_time": "2016-07-21T16:14:43.368913",
     "start_time": "2016-07-21T16:14:43.363304"
    },
    "collapsed": false
   },
   "outputs": [
    {
     "data": {
      "text/plain": [
       "0.578125"
      ]
     },
     "execution_count": 399,
     "metadata": {},
     "output_type": "execute_result"
    }
   ],
   "source": [
    "recall = TP / (TP+FN)\n",
    "recall"
   ]
  },
  {
   "cell_type": "code",
   "execution_count": null,
   "metadata": {
    "collapsed": true
   },
   "outputs": [],
   "source": []
  }
 ],
 "metadata": {
  "hide_input": false,
  "kernelspec": {
   "display_name": "Python 3",
   "language": "python",
   "name": "python3"
  },
  "language_info": {
   "codemirror_mode": {
    "name": "ipython",
    "version": 3
   },
   "file_extension": ".py",
   "mimetype": "text/x-python",
   "name": "python",
   "nbconvert_exporter": "python",
   "pygments_lexer": "ipython3",
   "version": "3.5.1"
  },
  "nav_menu": {},
  "toc": {
   "navigate_menu": true,
   "number_sections": true,
   "sideBar": true,
   "threshold": 6,
   "toc_cell": false,
   "toc_section_display": "block",
   "toc_window_display": false
  },
  "toc_position": {
   "height": "1640px",
   "left": "0px",
   "right": "874.375px",
   "top": "105px",
   "width": "216px"
  }
 },
 "nbformat": 4,
 "nbformat_minor": 0
}
