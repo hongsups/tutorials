{
 "cells": [
  {
   "cell_type": "code",
   "execution_count": 1,
   "metadata": {
    "collapsed": true
   },
   "outputs": [],
   "source": [
    "import pandas as pd\n",
    "import numpy as np"
   ]
  },
  {
   "cell_type": "markdown",
   "metadata": {},
   "source": [
    "# Date and Time\n",
    "## Generate series of times\n",
    "### Generate N time points using periods"
   ]
  },
  {
   "cell_type": "code",
   "execution_count": 4,
   "metadata": {
    "collapsed": false
   },
   "outputs": [
    {
     "name": "stdout",
     "output_type": "stream",
     "text": [
      "DatetimeIndex(['2016-07-31 10:15:00', '2016-08-31 10:15:00',\n",
      "               '2016-09-30 10:15:00', '2016-10-31 10:15:00',\n",
      "               '2016-11-30 10:15:00', '2016-12-31 10:15:00',\n",
      "               '2017-01-31 10:15:00', '2017-02-28 10:15:00',\n",
      "               '2017-03-31 10:15:00', '2017-04-30 10:15:00'],\n",
      "              dtype='datetime64[ns]', freq='M')\n"
     ]
    }
   ],
   "source": [
    "rng = pd.date_range('2016 July 15 10:15',periods = 10,freq='M') #M: by default, shows end of month\n",
    "print(rng)"
   ]
  },
  {
   "cell_type": "code",
   "execution_count": 5,
   "metadata": {
    "collapsed": false
   },
   "outputs": [
    {
     "name": "stdout",
     "output_type": "stream",
     "text": [
      "DatetimeIndex(['2016-08-01 10:15:00', '2016-09-01 10:15:00',\n",
      "               '2016-10-01 10:15:00', '2016-11-01 10:15:00',\n",
      "               '2016-12-01 10:15:00', '2017-01-01 10:15:00',\n",
      "               '2017-02-01 10:15:00', '2017-03-01 10:15:00',\n",
      "               '2017-04-01 10:15:00', '2017-05-01 10:15:00'],\n",
      "              dtype='datetime64[ns]', freq='MS')\n"
     ]
    }
   ],
   "source": [
    "rng = pd.date_range('2016 July 15 10:15',periods = 10,freq='MS') #MS: start of the month\n",
    "print(rng)"
   ]
  },
  {
   "cell_type": "markdown",
   "metadata": {},
   "source": [
    "### Generate time points using a frequency within a fixed duration"
   ]
  },
  {
   "cell_type": "code",
   "execution_count": 7,
   "metadata": {
    "collapsed": false
   },
   "outputs": [
    {
     "name": "stdout",
     "output_type": "stream",
     "text": [
      "DatetimeIndex(['2016-07-15 10:15:00', '2016-07-15 18:15:00',\n",
      "               '2016-07-16 02:15:00', '2016-07-16 10:15:00',\n",
      "               '2016-07-16 18:15:00', '2016-07-17 02:15:00',\n",
      "               '2016-07-17 10:15:00', '2016-07-17 18:15:00',\n",
      "               '2016-07-18 02:15:00', '2016-07-18 10:15:00',\n",
      "               '2016-07-18 18:15:00', '2016-07-19 02:15:00',\n",
      "               '2016-07-19 10:15:00', '2016-07-19 18:15:00',\n",
      "               '2016-07-20 02:15:00', '2016-07-20 10:15:00',\n",
      "               '2016-07-20 18:15:00', '2016-07-21 02:15:00',\n",
      "               '2016-07-21 10:15:00', '2016-07-21 18:15:00',\n",
      "               '2016-07-22 02:15:00', '2016-07-22 10:15:00',\n",
      "               '2016-07-22 18:15:00', '2016-07-23 02:15:00',\n",
      "               '2016-07-23 10:15:00', '2016-07-23 18:15:00',\n",
      "               '2016-07-24 02:15:00', '2016-07-24 10:15:00',\n",
      "               '2016-07-24 18:15:00'],\n",
      "              dtype='datetime64[ns]', freq='8H')\n",
      "29\n"
     ]
    }
   ],
   "source": [
    "rng = pd.date_range('2016 July 15 10:15','2016 July 25',freq='8H') #MS: start of the month\n",
    "print(rng)\n",
    "print(len(rng))"
   ]
  },
  {
   "cell_type": "markdown",
   "metadata": {},
   "source": [
    "# Timestamps"
   ]
  },
  {
   "cell_type": "code",
   "execution_count": 8,
   "metadata": {
    "collapsed": false
   },
   "outputs": [
    {
     "data": {
      "text/plain": [
       "Timestamp('2016-07-01 00:00:00')"
      ]
     },
     "execution_count": 8,
     "metadata": {},
     "output_type": "execute_result"
    }
   ],
   "source": [
    "pd.Timestamp('2016-07-01')"
   ]
  },
  {
   "cell_type": "code",
   "execution_count": 9,
   "metadata": {
    "collapsed": false
   },
   "outputs": [
    {
     "data": {
      "text/plain": [
       "pandas.tslib.Timestamp"
      ]
     },
     "execution_count": 9,
     "metadata": {},
     "output_type": "execute_result"
    }
   ],
   "source": [
    "type(rng[0])"
   ]
  },
  {
   "cell_type": "markdown",
   "metadata": {},
   "source": [
    "### Properties of timestamps"
   ]
  },
  {
   "cell_type": "code",
   "execution_count": 14,
   "metadata": {
    "collapsed": false
   },
   "outputs": [],
   "source": [
    "t = pd.Timestamp('2016-07-10')"
   ]
  },
  {
   "cell_type": "code",
   "execution_count": 15,
   "metadata": {
    "collapsed": false
   },
   "outputs": [
    {
     "data": {
      "text/plain": [
       "3"
      ]
     },
     "execution_count": 15,
     "metadata": {},
     "output_type": "execute_result"
    }
   ],
   "source": [
    "t.quarter"
   ]
  },
  {
   "cell_type": "code",
   "execution_count": 20,
   "metadata": {
    "collapsed": false
   },
   "outputs": [
    {
     "data": {
      "text/plain": [
       "27"
      ]
     },
     "execution_count": 20,
     "metadata": {},
     "output_type": "execute_result"
    }
   ],
   "source": [
    "t.weekofyear"
   ]
  },
  {
   "cell_type": "markdown",
   "metadata": {},
   "source": [
    "# Time offsets"
   ]
  },
  {
   "cell_type": "code",
   "execution_count": 29,
   "metadata": {
    "collapsed": false
   },
   "outputs": [
    {
     "data": {
      "text/plain": [
       "Timedelta('3 days 00:02:00.000001')"
      ]
     },
     "execution_count": 29,
     "metadata": {},
     "output_type": "execute_result"
    }
   ],
   "source": [
    "pd.Timedelta('2M 3 day 1 us') "
   ]
  },
  {
   "cell_type": "markdown",
   "metadata": {},
   "source": [
    "### Add timedelta to timestamps"
   ]
  },
  {
   "cell_type": "code",
   "execution_count": 32,
   "metadata": {
    "collapsed": false
   },
   "outputs": [
    {
     "data": {
      "text/plain": [
       "Timestamp('2016-07-01 09:30:00')"
      ]
     },
     "execution_count": 32,
     "metadata": {},
     "output_type": "execute_result"
    }
   ],
   "source": [
    "pd.Timestamp('2016-07-01 8:00')+pd.Timedelta('1.5 hours')"
   ]
  },
  {
   "cell_type": "code",
   "execution_count": 36,
   "metadata": {
    "collapsed": false
   },
   "outputs": [
    {
     "name": "stdout",
     "output_type": "stream",
     "text": [
      "DatetimeIndex(['2016-07-10', '2016-07-11', '2016-07-12', '2016-07-13',\n",
      "               '2016-07-14'],\n",
      "              dtype='datetime64[ns]', freq='D')\n"
     ]
    }
   ],
   "source": [
    "rng = pd.date_range('2016-07-10',periods=5,freq='D')\n",
    "print(rng)"
   ]
  },
  {
   "cell_type": "code",
   "execution_count": 37,
   "metadata": {
    "collapsed": false
   },
   "outputs": [
    {
     "data": {
      "text/plain": [
       "DatetimeIndex(['2016-07-11', '2016-07-12', '2016-07-13', '2016-07-14',\n",
       "               '2016-07-15'],\n",
       "              dtype='datetime64[ns]', freq='D')"
      ]
     },
     "execution_count": 37,
     "metadata": {},
     "output_type": "execute_result"
    }
   ],
   "source": [
    "rng+pd.Timedelta('1day')"
   ]
  },
  {
   "cell_type": "markdown",
   "metadata": {},
   "source": [
    "# Time spans"
   ]
  },
  {
   "cell_type": "code",
   "execution_count": 40,
   "metadata": {
    "collapsed": false
   },
   "outputs": [
    {
     "data": {
      "text/plain": [
       "True"
      ]
     },
     "execution_count": 40,
     "metadata": {},
     "output_type": "execute_result"
    }
   ],
   "source": [
    "p = pd.Period('7/2016')\n",
    "t = pd.Timestamp('7/21/2016')\n",
    "p.start_time < t and p.end_time > t"
   ]
  },
  {
   "cell_type": "code",
   "execution_count": 48,
   "metadata": {
    "collapsed": false
   },
   "outputs": [
    {
     "data": {
      "text/plain": [
       "True"
      ]
     },
     "execution_count": 48,
     "metadata": {},
     "output_type": "execute_result"
    }
   ],
   "source": [
    "p.start_time < t < p.end_time"
   ]
  },
  {
   "cell_type": "code",
   "execution_count": 43,
   "metadata": {
    "collapsed": false
   },
   "outputs": [
    {
     "name": "stdout",
     "output_type": "stream",
     "text": [
      "2016-07-01 00:00:00\n",
      "2016-07-31 23:59:59.999999999\n"
     ]
    }
   ],
   "source": [
    "print(p.start_time)\n",
    "print(p.end_time)"
   ]
  },
  {
   "cell_type": "markdown",
   "metadata": {},
   "source": [
    "### Range of periods"
   ]
  },
  {
   "cell_type": "code",
   "execution_count": 45,
   "metadata": {
    "collapsed": false
   },
   "outputs": [
    {
     "data": {
      "text/plain": [
       "PeriodIndex(['2016-01-01 12:00', '2016-01-01 13:00', '2016-01-01 14:00',\n",
       "             '2016-01-01 15:00', '2016-01-01 16:00', '2016-01-01 17:00',\n",
       "             '2016-01-01 18:00', '2016-01-01 19:00', '2016-01-01 20:00',\n",
       "             '2016-01-01 21:00'],\n",
       "            dtype='int64', freq='H')"
      ]
     },
     "execution_count": 45,
     "metadata": {},
     "output_type": "execute_result"
    }
   ],
   "source": [
    "rng = pd.period_range('2016-01-01 12:15',periods = 10, freq = 'H') # hour rounds up the minutes\n",
    "rng"
   ]
  },
  {
   "cell_type": "code",
   "execution_count": 47,
   "metadata": {
    "collapsed": false
   },
   "outputs": [
    {
     "data": {
      "text/plain": [
       "PeriodIndex(['2016-01-01 12:15', '2016-01-01 13:15', '2016-01-01 14:15',\n",
       "             '2016-01-01 15:15', '2016-01-01 16:15', '2016-01-01 17:15',\n",
       "             '2016-01-01 18:15', '2016-01-01 19:15', '2016-01-01 20:15',\n",
       "             '2016-01-01 21:15'],\n",
       "            dtype='int64', freq='60T')"
      ]
     },
     "execution_count": 47,
     "metadata": {},
     "output_type": "execute_result"
    }
   ],
   "source": [
    "rng = pd.period_range('2016-01-01 12:15',periods = 10, freq = '60T') # hour rounds up the minutes\n",
    "rng"
   ]
  },
  {
   "cell_type": "code",
   "execution_count": null,
   "metadata": {
    "collapsed": true
   },
   "outputs": [],
   "source": []
  }
 ],
 "metadata": {
  "kernelspec": {
   "display_name": "Python 3",
   "language": "python",
   "name": "python3"
  },
  "language_info": {
   "codemirror_mode": {
    "name": "ipython",
    "version": 3
   },
   "file_extension": ".py",
   "mimetype": "text/x-python",
   "name": "python",
   "nbconvert_exporter": "python",
   "pygments_lexer": "ipython3",
   "version": "3.5.1"
  }
 },
 "nbformat": 4,
 "nbformat_minor": 0
}
