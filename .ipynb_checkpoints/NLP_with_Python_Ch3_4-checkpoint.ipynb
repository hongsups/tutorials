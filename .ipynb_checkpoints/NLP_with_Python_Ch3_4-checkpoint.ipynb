{
 "cells": [
  {
   "cell_type": "markdown",
   "metadata": {},
   "source": [
    "# NLP with Python (Ch3 and Ch4)\n",
    "-----\n",
    "See [Natural Language Processing with Python](http://shop.oreilly.com/product/9780596516499.do).\n",
    "\n",
    "# Ch 3. Processing Raw Text\n",
    "-----\n",
    "## Goals\n",
    "1. How can we write programs to access text from local files and from the Web, in order to get hold of an unlimited range of language material?\n",
    "2. How can we split documents up into individual words and punctuation symbols, so we can carry out the same kinds of analysis we did with text corpora in earlier chapters?\n",
    "3. How can we write programs to produce formatted output and save it in a file?"
   ]
  },
  {
   "cell_type": "code",
   "execution_count": 2,
   "metadata": {
    "collapsed": true
   },
   "outputs": [],
   "source": [
    "import pandas as pd\n",
    "import scipy as sp\n",
    "import numpy as np\n",
    "import scipy.stats\n",
    "\n",
    "import matplotlib\n",
    "import matplotlib.pyplot as plt\n",
    "import matplotlib.pylab as pylab\n",
    "pylab.rcParams['figure.figsize'] = 16, 7 # change default figure size\n",
    "\n",
    "%matplotlib inline\n",
    "import seaborn as sns\n",
    "sns.set('poster')\n",
    "\n",
    "from __future__ import division \n",
    "import nltk, re, pprint"
   ]
  },
  {
   "cell_type": "markdown",
   "metadata": {},
   "source": [
    "## 3.1 Accessing Text from the Web and from Disk\n",
    "## Electronic Books"
   ]
  },
  {
   "cell_type": "code",
   "execution_count": 25,
   "metadata": {
    "collapsed": false
   },
   "outputs": [
    {
     "name": "stdout",
     "output_type": "stream",
     "text": [
      "<type 'str'>\n",
      "1176896\n",
      "The Project Gutenberg EBook of Crime and Punishment, by Fyodor Dostoevsky\r\n",
      "\n"
     ]
    }
   ],
   "source": [
    "# load gutenberg books\n",
    "from urllib import urlopen\n",
    "url = \"http://www.gutenberg.org/files/2554/2554.txt\"\n",
    "raw = urlopen(url).read()\n",
    "print type(raw)\n",
    "print len(raw)\n",
    "print raw[:75]"
   ]
  },
  {
   "cell_type": "markdown",
   "metadata": {},
   "source": [
    "## Tokenization\n",
    "Breaking down a text to a list of words and punctuation"
   ]
  },
  {
   "cell_type": "code",
   "execution_count": 4,
   "metadata": {
    "collapsed": false
   },
   "outputs": [
    {
     "name": "stdout",
     "output_type": "stream",
     "text": [
      "<type 'list'>\n",
      "254352\n",
      "['The', 'Project', 'Gutenberg', 'EBook', 'of', 'Crime', 'and', 'Punishment', ',', 'by']\n"
     ]
    }
   ],
   "source": [
    "tokens = nltk.word_tokenize(raw)\n",
    "print type(tokens)\n",
    "print  len(tokens)\n",
    "print tokens[:10]"
   ]
  },
  {
   "cell_type": "markdown",
   "metadata": {},
   "source": [
    "To do a further analysis using NLTK, we can create a nltk.Text"
   ]
  },
  {
   "cell_type": "code",
   "execution_count": 6,
   "metadata": {
    "collapsed": false
   },
   "outputs": [
    {
     "name": "stdout",
     "output_type": "stream",
     "text": [
      "<class 'nltk.text.Text'>\n",
      "['AND', 'PUNISHMENT', 'PART', 'I', 'CHAPTER', 'I', 'On', 'an', 'exceptionally', 'hot', 'evening', 'early', 'in', 'July', 'a', 'young', 'man', 'came', 'out', 'of', 'the', 'garret', 'in', 'which', 'he', 'lodged', 'in', 'S.', 'Place', 'and', 'walked', 'slowly', ',', 'as', 'though', 'in', 'hesitation', ',', 'towards', 'K.']\n",
      "Katerina Ivanovna; Pyotr Petrovitch; Pulcheria Alexandrovna; Avdotya\n",
      "Romanovna; Rodion Romanovitch; Marfa Petrovna; Sofya Semyonovna; old\n",
      "woman; Project Gutenberg-tm; Porfiry Petrovitch; Amalia Ivanovna;\n",
      "great deal; Nikodim Fomitch; young man; Ilya Petrovitch; n't know;\n",
      "Project Gutenberg; Dmitri Prokofitch; Andrey Semyonovitch; Hay Market\n",
      "None\n"
     ]
    }
   ],
   "source": [
    "text = nltk.Text(tokens)\n",
    "print type(text)\n",
    "print text[1020:1060]\n",
    "print text.collocations()"
   ]
  },
  {
   "cell_type": "markdown",
   "metadata": {},
   "source": [
    "Some text has headers or footers.\n",
    "- Need to manually inspect where the text begins and ends."
   ]
  },
  {
   "cell_type": "code",
   "execution_count": 26,
   "metadata": {
    "collapsed": false
   },
   "outputs": [
    {
     "name": "stdout",
     "output_type": "stream",
     "text": [
      "5338\n",
      "1157746\n"
     ]
    }
   ],
   "source": [
    "print raw.find(\"PART I\")\n",
    "print raw.rfind(\"End of Project Gutenberg's\") # rfind: reverse find"
   ]
  },
  {
   "cell_type": "code",
   "execution_count": 27,
   "metadata": {
    "collapsed": false
   },
   "outputs": [
    {
     "name": "stdout",
     "output_type": "stream",
     "text": [
      ", but our present story is\r\n",
      "ended.\r\n",
      "\r\n",
      "\r\n",
      "\r\n",
      "\r\n",
      "\r\n",
      "End of Project Gutenberg's Crime and Punishment, by Fy\n"
     ]
    }
   ],
   "source": [
    "print raw[1157700:1157800]"
   ]
  },
  {
   "cell_type": "code",
   "execution_count": 28,
   "metadata": {
    "collapsed": false
   },
   "outputs": [
    {
     "name": "stdout",
     "output_type": "stream",
     "text": [
      "0\n"
     ]
    }
   ],
   "source": [
    "raw = raw[5338:1157746] # slice for actual text we need\n",
    "print raw.find(\"PART I\")"
   ]
  },
  {
   "cell_type": "markdown",
   "metadata": {},
   "source": [
    "## Dealing with HTML\n",
    "We use BeautifulSoup for HTML parsing"
   ]
  },
  {
   "cell_type": "code",
   "execution_count": 30,
   "metadata": {
    "collapsed": false
   },
   "outputs": [
    {
     "name": "stdout",
     "output_type": "stream",
     "text": [
      "<!doctype html public \"-//W3C//DTD HTML 4.0 Transitional//EN\n"
     ]
    }
   ],
   "source": [
    "url = \"http://news.bbc.co.uk/2/hi/health/2284783.stm\"\n",
    "html = urlopen(url).read()\n",
    "print html[:60]"
   ]
  },
  {
   "cell_type": "code",
   "execution_count": 42,
   "metadata": {
    "collapsed": false
   },
   "outputs": [],
   "source": [
    "from bs4 import BeautifulSoup\n",
    "soup = BeautifulSoup(html) \n",
    "raw = soup.get_text()"
   ]
  },
  {
   "cell_type": "code",
   "execution_count": 43,
   "metadata": {
    "collapsed": false
   },
   "outputs": [
    {
     "name": "stdout",
     "output_type": "stream",
     "text": [
      "[u'BBC', u'NEWS', u'|', u'Health', u'|', u'Blondes', u\"'to\", u'die', u'out', u'in']\n"
     ]
    }
   ],
   "source": [
    "tokens = nltk.word_tokenize(raw)\n",
    "print tokens[:10]"
   ]
  },
  {
   "cell_type": "code",
   "execution_count": 45,
   "metadata": {
    "collapsed": false
   },
   "outputs": [
    {
     "name": "stdout",
     "output_type": "stream",
     "text": [
      "Displaying 5 of 5 matches:\n",
      "hey say too few people now carry the gene for blondes to last beyond the next \n",
      "blonde hair is caused by a recessive gene . In order for a child to have blond\n",
      " have blonde hair , it must have the gene on both sides of the family in the g\n",
      "ere is a disadvantage of having that gene or by chance . They do n't disappear\n",
      "des would disappear is if having the gene was a disadvantage and I do not thin\n"
     ]
    }
   ],
   "source": [
    "tokens = tokens[96:399]\n",
    "text = nltk.Text(tokens)\n",
    "text.concordance('gene')"
   ]
  },
  {
   "cell_type": "markdown",
   "metadata": {},
   "source": [
    "## Processing Search Engine Results\n",
    "- **Pros**\n",
    "    - Big size: you are more likely to find any linguistic pattern you are interested in.\n",
    "    - Easy to use\n",
    "- **Cons**\n",
    "    - the allowable range of search patterns is severely restricted: search for individual words or strings of words, sometimes with wildcards\n",
    "    - give inconsistent results, and can give widely different figures: when used at different times or in different geographical regions\n",
    "    - When content has been duplicated across multiple sites, search results may be boosted.\n",
    "    - the markup in the result returned by a search engine may change unpredictably, breaking any pattern- based method of locating particular content (a problem which is ameliorated by the use of search engine APIs)\n",
    "\n",
    "## Processing RSS Feeds"
   ]
  },
  {
   "cell_type": "code",
   "execution_count": 49,
   "metadata": {
    "collapsed": false
   },
   "outputs": [],
   "source": [
    "import feedparser\n",
    "llog = feedparser.parse(\"http://languagelog.ldc.upenn.edu/nll/?feed=atom\")"
   ]
  },
  {
   "cell_type": "code",
   "execution_count": 50,
   "metadata": {
    "collapsed": false
   },
   "outputs": [
    {
     "name": "stdout",
     "output_type": "stream",
     "text": [
      "Language Log\n",
      "13\n"
     ]
    }
   ],
   "source": [
    "print llog['feed']['title']\n",
    "print len(llog.entries)"
   ]
  },
  {
   "cell_type": "code",
   "execution_count": 51,
   "metadata": {
    "collapsed": false
   },
   "outputs": [
    {
     "name": "stdout",
     "output_type": "stream",
     "text": [
      "More rare characters in Taiwan\n"
     ]
    }
   ],
   "source": [
    "post = llog.entries[2]\n",
    "print post.title"
   ]
  },
  {
   "cell_type": "code",
   "execution_count": 52,
   "metadata": {
    "collapsed": false
   },
   "outputs": [
    {
     "name": "stdout",
     "output_type": "stream",
     "text": [
      "<p>Not too long ago, we looked at some \"<a href=\"http://languagelog.ld\n"
     ]
    }
   ],
   "source": [
    "content = post.content[0].value\n",
    "print content[:70]"
   ]
  },
  {
   "cell_type": "code",
   "execution_count": 55,
   "metadata": {
    "collapsed": false
   },
   "outputs": [
    {
     "name": "stdout",
     "output_type": "stream",
     "text": [
      "[u'Not', u'too', u'long', u'ago', u',', u'we', u'looked', u'at', u'some', u'``']\n"
     ]
    }
   ],
   "source": [
    "soup = BeautifulSoup(content)\n",
    "print nltk.word_tokenize(soup.get_text())[:10]"
   ]
  },
  {
   "cell_type": "code",
   "execution_count": 57,
   "metadata": {
    "collapsed": false
   },
   "outputs": [
    {
     "name": "stdout",
     "output_type": "stream",
     "text": [
      "[u'Not', u'too', u'long', u'ago', u',', u'we', u'looked', u'at', u'some', u'``']\n"
     ]
    }
   ],
   "source": [
    "soup = BeautifulSoup(llog.entries[2].content[0].value)\n",
    "print nltk.word_tokenize(soup.get_text())[:10]"
   ]
  },
  {
   "cell_type": "markdown",
   "metadata": {},
   "source": [
    "## Reading Local Files"
   ]
  },
  {
   "cell_type": "code",
   "execution_count": 62,
   "metadata": {
    "collapsed": false
   },
   "outputs": [
    {
     "data": {
      "text/plain": [
       "['.DS_Store',\n",
       " '.git',\n",
       " '.ipynb_checkpoints',\n",
       " '300features_40minwords_10context',\n",
       " 'data',\n",
       " 'Kaggle NLP Tutorial Part 1.ipynb',\n",
       " 'Kaggle NLP Tutorial Part 2.ipynb',\n",
       " 'Kaggle NLP Tutorial Part 3.ipynb',\n",
       " 'NLP_with_Python_Ch1_2.ipynb',\n",
       " 'NLP_with_Python_Ch3_4.ipynb',\n",
       " 'python_workflow_pumpitup.ipynb',\n",
       " 'README.md',\n",
       " 'review_to_wordlist.py',\n",
       " 'time_series_Seattle_bike_jakevdp.ipynb']"
      ]
     },
     "execution_count": 62,
     "metadata": {},
     "output_type": "execute_result"
    }
   ],
   "source": [
    "import os\n",
    "os.listdir('.')"
   ]
  },
  {
   "cell_type": "code",
   "execution_count": 64,
   "metadata": {
    "collapsed": false
   },
   "outputs": [
    {
     "name": "stdout",
     "output_type": "stream",
     "text": [
      "Documentation\n",
      "---\n",
      "python_practice is a collection of IPython notebooks to follow code examples from the web.\n",
      "\n",
      "12/29/15\n",
      "- Python Workflow Part 1 by Katie Malone (Civis Analytics)\n",
      "- Kaggle NLP Tutorial Part 1 (Bag of Words)\n",
      "- Kaggle NLP Tutorial Part 2 (Word2Vec)\n",
      "\n",
      "12/30/15\n",
      "- Kaggle NLP Tutorial Part 3 (Paragraph vectors and clustering)\n",
      " \n",
      "12/31/15\n",
      "- Time series tutorial using Seattle bike data (see jakevdp's [blog post](http://jakevdp.github.io/blog/2014/06/10/is-seattle-really-seeing-an-uptick-in-cycling/))\n",
      "\n"
     ]
    }
   ],
   "source": [
    "f = open('README.md')\n",
    "raw = f.read()\n",
    "print raw"
   ]
  },
  {
   "cell_type": "code",
   "execution_count": 65,
   "metadata": {
    "collapsed": false
   },
   "outputs": [
    {
     "name": "stdout",
     "output_type": "stream",
     "text": [
      "Documentation\n",
      "---\n",
      "python_practice is a collection of IPython notebooks to follow code examples from the web.\n",
      "\n",
      "12/29/15\n",
      "- Python Workflow Part 1 by Katie Malone (Civis Analytics)\n",
      "- Kaggle NLP Tutorial Part 1 (Bag of Words)\n",
      "- Kaggle NLP Tutorial Part 2 (Word2Vec)\n",
      "\n",
      "12/30/15\n",
      "- Kaggle NLP Tutorial Part 3 (Paragraph vectors and clustering)\n",
      "\n",
      "12/31/15\n",
      "- Time series tutorial using Seattle bike data (see jakevdp's [blog post](http://jakevdp.github.io/blog/2014/06/10/is-seattle-really-seeing-an-uptick-in-cycling/))\n"
     ]
    }
   ],
   "source": [
    "# read a file one line at a time\n",
    "f = open('README.md', 'rU')\n",
    "for line in f:\n",
    "    print line.strip() # strip(): remove the newline character at the end of the input line."
   ]
  },
  {
   "cell_type": "code",
   "execution_count": 66,
   "metadata": {
    "collapsed": true
   },
   "outputs": [],
   "source": [
    "# in nltk\n",
    "path = nltk.data.find('corpora/gutenberg/melville-moby_dick.txt')\n",
    "raw = open(path, 'rU').read()"
   ]
  },
  {
   "cell_type": "markdown",
   "metadata": {},
   "source": [
    "## Extracting Text from PDF, MSWord, and Other Binary Formats\n",
    "- ASCII text and HTML text are human-readable formats.\n",
    "- Text often comes in binary formats—such as PDF and MSWord—that can only be opened using specialized software.\n",
    "- Third-party libraries such as `pypdf` and `pywin32` provide access to these formats.\n",
    "\n",
    "## Capturing User Input"
   ]
  },
  {
   "cell_type": "code",
   "execution_count": 71,
   "metadata": {
    "collapsed": false
   },
   "outputs": [
    {
     "name": "stdout",
     "output_type": "stream",
     "text": [
      "Enter some text: On an exceptionally hot evening early in July\n",
      "You typed 8 words.\n"
     ]
    }
   ],
   "source": [
    "s = raw_input(\"Enter some text: \")\n",
    "print \"You typed\", len(nltk.word_tokenize(s)), \"words.\""
   ]
  },
  {
   "cell_type": "markdown",
   "metadata": {},
   "source": [
    "## The NLP Pipeline\n",
    "**HTML -> ASCII -> Text -> Vocab**\n",
    "\n",
    "**1. Download**\n",
    "HTML -> ASCII: urlopen.read(), BeautifulSoup.get_text()\n",
    "\n",
    "**2. Tokenize**\n",
    "ASCII -> Text: nltk.wordpunct_tokenize(), nltk.Text(tokens)\n",
    "\n",
    "**3. Normalize**\n",
    "Text -> Vocab: [w.lower() for w in text], sorted(set(words))\n",
    "\n",
    "## 3.2 Strings: Text Processing at the Lowest Level\n",
    "## Basic Operations with Strings"
   ]
  },
  {
   "cell_type": "code",
   "execution_count": 75,
   "metadata": {
    "collapsed": false
   },
   "outputs": [
    {
     "name": "stdout",
     "output_type": "stream",
     "text": [
      "Monty Python's Flying Circus\n"
     ]
    }
   ],
   "source": [
    "# single and double quotes\n",
    "circus1 = \"Monty Python's Flying Circus\"\n",
    "print circus1"
   ]
  },
  {
   "cell_type": "code",
   "execution_count": 76,
   "metadata": {
    "collapsed": false
   },
   "outputs": [
    {
     "name": "stdout",
     "output_type": "stream",
     "text": [
      "Monty Python's Flying Circus\n"
     ]
    }
   ],
   "source": [
    "circus2 = 'Monty Python\\'s Flying Circus'\n",
    "print circus2"
   ]
  },
  {
   "cell_type": "code",
   "execution_count": 81,
   "metadata": {
    "collapsed": false
   },
   "outputs": [
    {
     "name": "stdout",
     "output_type": "stream",
     "text": [
      "Shall I compare thee to a Summer's day?Thou are more lovely and more temperate:\n",
      "<type 'str'>\n"
     ]
    }
   ],
   "source": [
    "couplet = \"Shall I compare thee to a Summer's day?\"\\\n",
    "          \"Thou are more lovely and more temperate:\"\n",
    "print couplet\n",
    "print type(couplet)"
   ]
  },
  {
   "cell_type": "code",
   "execution_count": 80,
   "metadata": {
    "collapsed": false
   },
   "outputs": [
    {
     "name": "stdout",
     "output_type": "stream",
     "text": [
      "Rough winds do shake the darling buds of May,And Summer's lease hath all too short a date:\n",
      "<type 'str'>\n"
     ]
    }
   ],
   "source": [
    "couplet = (\"Rough winds do shake the darling buds of May,\"\n",
    "           \"And Summer's lease hath all too short a date:\")\n",
    "print couplet\n",
    "print type(couplet)"
   ]
  },
  {
   "cell_type": "code",
   "execution_count": 86,
   "metadata": {
    "collapsed": false
   },
   "outputs": [
    {
     "name": "stdout",
     "output_type": "stream",
     "text": [
      "Shall I compare thee to a Summer's day? \n",
      "Thou are more lovely and more temperate:\n",
      "<type 'str'>\n"
     ]
    }
   ],
   "source": [
    "couplet = \"\"\"Shall I compare thee to a Summer's day? \n",
    "Thou are more lovely and more temperate:\"\"\"\n",
    "print couplet"
   ]
  },
  {
   "cell_type": "code",
   "execution_count": 92,
   "metadata": {
    "collapsed": false
   },
   "outputs": [
    {
     "data": {
      "text/plain": [
       "['            very',\n",
       " '          veryvery',\n",
       " '        veryveryvery',\n",
       " '      veryveryveryvery',\n",
       " '    veryveryveryveryvery',\n",
       " '  veryveryveryveryveryvery',\n",
       " 'veryveryveryveryveryveryvery',\n",
       " '  veryveryveryveryveryvery',\n",
       " '    veryveryveryveryvery',\n",
       " '      veryveryveryvery',\n",
       " '        veryveryvery',\n",
       " '          veryvery',\n",
       " '            very']"
      ]
     },
     "execution_count": 92,
     "metadata": {},
     "output_type": "execute_result"
    }
   ],
   "source": [
    "a = [1, 2, 3, 4, 5, 6, 7, 6, 5, 4, 3, 2, 1]\n",
    "b = [' ' * 2 * (7 - i) + 'very' * i for i in a] \n",
    "b"
   ]
  },
  {
   "cell_type": "markdown",
   "metadata": {},
   "source": [
    "No subtraction or division"
   ]
  },
  {
   "cell_type": "code",
   "execution_count": 93,
   "metadata": {
    "collapsed": false
   },
   "outputs": [
    {
     "ename": "TypeError",
     "evalue": "unsupported operand type(s) for -: 'str' and 'str'",
     "output_type": "error",
     "traceback": [
      "\u001b[0;31m---------------------------------------------------------------------------\u001b[0m",
      "\u001b[0;31mTypeError\u001b[0m                                 Traceback (most recent call last)",
      "\u001b[0;32m<ipython-input-93-7adbc3ad367f>\u001b[0m in \u001b[0;36m<module>\u001b[0;34m()\u001b[0m\n\u001b[0;32m----> 1\u001b[0;31m \u001b[0;34m'very'\u001b[0m \u001b[0;34m-\u001b[0m \u001b[0;34m'y'\u001b[0m\u001b[0;34m\u001b[0m\u001b[0m\n\u001b[0m",
      "\u001b[0;31mTypeError\u001b[0m: unsupported operand type(s) for -: 'str' and 'str'"
     ]
    }
   ],
   "source": [
    "'very' - 'y'"
   ]
  },
  {
   "cell_type": "markdown",
   "metadata": {},
   "source": [
    "## Printing Strings"
   ]
  },
  {
   "cell_type": "code",
   "execution_count": 96,
   "metadata": {
    "collapsed": false
   },
   "outputs": [
    {
     "name": "stdout",
     "output_type": "stream",
     "text": [
      "Monty Python\n",
      "Monty PythonHoly Grail\n",
      "Monty Python Holy Grail\n",
      "Monty Python and the Holy Grail\n"
     ]
    }
   ],
   "source": [
    "monty = 'Monty Python'\n",
    "print monty\n",
    "grail = 'Holy Grail'\n",
    "print monty + grail\n",
    "print monty, grail\n",
    "print monty, \"and the\", grail"
   ]
  },
  {
   "cell_type": "markdown",
   "metadata": {},
   "source": [
    "## Accessing Individual Characters"
   ]
  },
  {
   "cell_type": "code",
   "execution_count": 99,
   "metadata": {
    "collapsed": false
   },
   "outputs": [
    {
     "name": "stdout",
     "output_type": "stream",
     "text": [
      "c o l o r l e s s   g r e e n   i d e a s   s l e e p   f u r i o u s l y\n"
     ]
    }
   ],
   "source": [
    "sent = 'colorless green ideas sleep furiously' \n",
    "for char in sent:\n",
    "    print char,"
   ]
  },
  {
   "cell_type": "code",
   "execution_count": 101,
   "metadata": {
    "collapsed": false
   },
   "outputs": [],
   "source": [
    "from nltk.corpus import gutenberg\n",
    "raw = gutenberg.raw('melville-moby_dick.txt') # raw is just a big string blob (basic unit is a character)"
   ]
  },
  {
   "cell_type": "code",
   "execution_count": 111,
   "metadata": {
    "collapsed": false
   },
   "outputs": [
    {
     "name": "stdout",
     "output_type": "stream",
     "text": [
      "[u'a', u'c', u'b', u'e', u'd', u'g', u'f', u'i', u'h', u'k', u'j', u'm', u'l', u'o', u'n', u'q', u'p', u's', u'r', u'u', u't', u'w', u'v', u'y', u'x', u'z']\n"
     ]
    },
    {
     "data": {
      "image/png": "[encoded data removed]",
      "text/plain": [
       "<matplotlib.figure.Figure at 0x10e2f4950>"
      ]
     },
     "metadata": {},
     "output_type": "display_data"
    }
   ],
   "source": [
    "fdist = nltk.FreqDist(ch.lower() for ch in raw if ch.isalpha())\n",
    "print fdist.keys()\n",
    "plt.title('Moby Dick')\n",
    "fdist.plot()"
   ]
  },
  {
   "cell_type": "markdown",
   "metadata": {},
   "source": [
    "## Accessing Substrings"
   ]
  },
  {
   "cell_type": "code",
   "execution_count": 112,
   "metadata": {
    "collapsed": false
   },
   "outputs": [
    {
     "name": "stdout",
     "output_type": "stream",
     "text": [
      "found \"thing\"\n"
     ]
    }
   ],
   "source": [
    "phrase = 'And now for something completely different'\n",
    "if 'thing' in phrase:\n",
    "    print 'found \"thing\"'"
   ]
  },
  {
   "cell_type": "code",
   "execution_count": 113,
   "metadata": {
    "collapsed": false
   },
   "outputs": [
    {
     "data": {
      "text/plain": [
       "6"
      ]
     },
     "execution_count": 113,
     "metadata": {},
     "output_type": "execute_result"
    }
   ],
   "source": [
    "monty.find('Python')"
   ]
  },
  {
   "cell_type": "markdown",
   "metadata": {},
   "source": [
    "## The Difference Between Lists and Strings\n",
    "- Strings and lists are both kinds of sequence.\n",
    "- We cannot join strings and lists.\n",
    "- List: mutable, strings not."
   ]
  },
  {
   "cell_type": "markdown",
   "metadata": {},
   "source": [
    "## 3.3 Text Processing with Unicode\n",
    "An overview of how to use Unicode for processing texts that use non-ASCII character sets\n",
    "## What Is Unicode?\n",
    "- Unicode supports over a million characters. Each character is assigned a number, called a code point. \n",
    "- In Python, code points are written in the form \\uXXXX, where XXXX is the number in **four-digit hexadecimal form**.\n",
    "\n",
    "\n",
    "- Within a program, we can manipulate Unicode strings just like normal strings. \n",
    "- However, when Unicode characters are stored in files or displayed on a terminal, they must be encoded as **a stream of bytes.** \n",
    "    - Some encodings (such as ASCII and Latin-2) use a single byte per code point, so they can support only a small subset of Unicode, enough for a single language. \n",
    "    - Other encodings (such as UTF-8) use multiple bytes and can represent the full range of Unicode characters.\n",
    "\n",
    "\n",
    "- Text in files will be in a particular encoding, so we need some mechanism for translating it into Unicode—translation into Unicode is called **decoding**. \n",
    "- Conversely, to write out Unicode to a file or a terminal, we first need to translate it into a suitable encoding— this translation out of Unicode is called **encoding**.     \n",
    "\n",
    "\n",
    "- From a Unicode perspective, characters are abstract entities that can be realized as one or more **glyphs**. \n",
    "- Only glyphs can appear on a screen or be printed on paper. A **font** is a mapping from characters to glyphs.\n",
    "\n",
    "## Extracting Encoded Text from Files\n"
   ]
  },
  {
   "cell_type": "code",
   "execution_count": 155,
   "metadata": {
    "collapsed": true
   },
   "outputs": [],
   "source": [
    "# example: Polish text\n",
    "path = nltk.data.find('corpora/unicode_samples/polish-lat2.txt')"
   ]
  },
  {
   "cell_type": "code",
   "execution_count": 156,
   "metadata": {
    "collapsed": false
   },
   "outputs": [],
   "source": [
    "import codecs\n",
    "f = codecs.open(path, encoding='latin2')"
   ]
  },
  {
   "cell_type": "code",
   "execution_count": 157,
   "metadata": {
    "collapsed": false
   },
   "outputs": [
    {
     "name": "stdout",
     "output_type": "stream",
     "text": [
      "Pruska Biblioteka Pa\\u0144stwowa. Jej dawne zbiory znane pod nazw\\u0105\n",
      "\"Berlinka\" to skarb kultury i sztuki niemieckiej. Przewiezione przez\n",
      "Niemc\\xf3w pod koniec II wojny \\u015bwiatowej na Dolny \\u015al\\u0105sk, zosta\\u0142y\n",
      "odnalezione po 1945 r. na terytorium Polski. Trafi\\u0142y do Biblioteki\n",
      "Jagiello\\u0144skiej w Krakowie, obejmuj\\u0105 ponad 500 tys. zabytkowych\n",
      "archiwali\\xf3w, m.in. manuskrypty Goethego, Mozarta, Beethovena, Bacha.\n"
     ]
    }
   ],
   "source": [
    "for line in f:\n",
    "    line = line.strip() # remove the newline character at the end of the input line. \n",
    "    print line.encode('unicode_escape') \n",
    "    # unicode_escape: a dummy encoding that converts all non-ASCII characters into their \\uXXXX representations.\n",
    "    # Code points above the ASCII 0–127 range but below 256 are represented in the two-digit form \\xXX."
   ]
  },
  {
   "cell_type": "markdown",
   "metadata": {},
   "source": [
    "- In Python, a Unicode string literal can be specified by preceding an ordinary string literal with a u, as in u'hello'.\n",
    "- Arbitrary Unicode characters are defined using the \\uXXXX escape sequence inside a Unicode string literal. \n",
    "- We find the integer ordinal of a character using ord()."
   ]
  },
  {
   "cell_type": "code",
   "execution_count": 158,
   "metadata": {
    "collapsed": false
   },
   "outputs": [
    {
     "data": {
      "text/plain": [
       "97"
      ]
     },
     "execution_count": 158,
     "metadata": {},
     "output_type": "execute_result"
    }
   ],
   "source": [
    "ord('a')"
   ]
  },
  {
   "cell_type": "markdown",
   "metadata": {},
   "source": [
    "- The hexadecimal four-digit notation for 97 is 0061\n",
    "- So we can define a Unicode string literal with the appropriate escape sequence:"
   ]
  },
  {
   "cell_type": "code",
   "execution_count": 159,
   "metadata": {
    "collapsed": false
   },
   "outputs": [
    {
     "data": {
      "text/plain": [
       "u'a'"
      ]
     },
     "execution_count": 159,
     "metadata": {},
     "output_type": "execute_result"
    }
   ],
   "source": [
    "a = u'\\u0061' \n",
    "a"
   ]
  },
  {
   "cell_type": "code",
   "execution_count": 161,
   "metadata": {
    "collapsed": false
   },
   "outputs": [
    {
     "name": "stdout",
     "output_type": "stream",
     "text": [
      "a\n"
     ]
    }
   ],
   "source": [
    "print a # Python print statement is assuming a default encoding of the Unicode character, namely ASCII"
   ]
  },
  {
   "cell_type": "code",
   "execution_count": 162,
   "metadata": {
    "collapsed": false
   },
   "outputs": [
    {
     "data": {
      "text/plain": [
       "u'\\u0144'"
      ]
     },
     "execution_count": 162,
     "metadata": {},
     "output_type": "execute_result"
    }
   ],
   "source": [
    "# However, ń is outside the ASCII range\n",
    "nacute = u'\\u0144'\n",
    "nacute"
   ]
  },
  {
   "cell_type": "markdown",
   "metadata": {},
   "source": [
    "`print` should use the `repr()` of the string, which outputs the UTF-8 escape sequences (of the form \\xXX) rather than trying to render the glyphs"
   ]
  },
  {
   "cell_type": "code",
   "execution_count": 165,
   "metadata": {
    "collapsed": false
   },
   "outputs": [
    {
     "name": "stdout",
     "output_type": "stream",
     "text": [
      "'\\xc5\\x84'\n",
      "ń\n"
     ]
    }
   ],
   "source": [
    "nacute_utf = nacute.encode('utf8') \n",
    "print repr(nacute_utf)\n",
    "print nacute_utf"
   ]
  },
  {
   "cell_type": "markdown",
   "metadata": {},
   "source": [
    "## 3.4 Regular Expressions for Detecting Word Patterns"
   ]
  },
  {
   "cell_type": "code",
   "execution_count": 167,
   "metadata": {
    "collapsed": true
   },
   "outputs": [],
   "source": [
    "import re\n",
    "wordlist = [w for w in nltk.corpus.words.words('en') if w.islower()]"
   ]
  },
  {
   "cell_type": "markdown",
   "metadata": {},
   "source": [
    "## Using Basic Metacharacters\n",
    "Find words ending with *ed* using the regular expression `«ed$»`\n",
    "- `re.search(p, s)`: check whether the pattern `p` can be found in `s`\n",
    "- `$`: Matches the ending position of the string or the position just before a string-ending newline"
   ]
  },
  {
   "cell_type": "code",
   "execution_count": 170,
   "metadata": {
    "collapsed": false
   },
   "outputs": [
    {
     "name": "stdout",
     "output_type": "stream",
     "text": [
      "[u'abaissed', u'abandoned', u'abased', u'abashed', u'abatised', u'abed', u'aborted', u'abridged', u'abscessed', u'absconded']\n"
     ]
    }
   ],
   "source": [
    "print [w for w in wordlist if re.search('ed$', w)][:10]"
   ]
  },
  {
   "cell_type": "markdown",
   "metadata": {},
   "source": [
    "- **.** wildcard matches any single character\n",
    "- `^`: Matches the starting position within the string"
   ]
  },
  {
   "cell_type": "code",
   "execution_count": 172,
   "metadata": {
    "collapsed": false
   },
   "outputs": [
    {
     "name": "stdout",
     "output_type": "stream",
     "text": [
      "[u'abjectly', u'adjuster', u'dejected', u'dejectly', u'injector', u'majestic', u'objectee', u'objector', u'rejecter', u'rejector', u'unjilted', u'unjolted', u'unjustly']\n"
     ]
    }
   ],
   "source": [
    "print [w for w in wordlist if re.search('^..j..t..$', w)]"
   ]
  },
  {
   "cell_type": "markdown",
   "metadata": {},
   "source": [
    "- `?`: specifies that the previous character is optional\n",
    "    - «^e-?mail $»: email and e-mail both work."
   ]
  },
  {
   "cell_type": "markdown",
   "metadata": {},
   "source": [
    "## Ranges and Closures\n",
    "Texonyms: characters in phone number pads (ABC -> 2, DEF -> 3, etc)"
   ]
  },
  {
   "cell_type": "code",
   "execution_count": 175,
   "metadata": {
    "collapsed": false
   },
   "outputs": [
    {
     "data": {
      "text/plain": [
       "[u'gold', u'golf', u'hold', u'hole']"
      ]
     },
     "execution_count": 175,
     "metadata": {},
     "output_type": "execute_result"
    }
   ],
   "source": [
    "# the order of characters inside the square brackets is not significant\n",
    "[w for w in wordlist if re.search('^[ghi][mno][jlk][def]$', w)] "
   ]
  },
  {
   "cell_type": "code",
   "execution_count": 179,
   "metadata": {
    "collapsed": false,
    "scrolled": false
   },
   "outputs": [
    {
     "name": "stdout",
     "output_type": "stream",
     "text": [
      "[u'miiiiiiiiiiiiinnnnnnnnnnneeeeeeeeee', u'miiiiiinnnnnnnnnneeeeeeee', u'mine', u'mmmmmmmmiiiiiiiiinnnnnnnnneeeeeeee']\n"
     ]
    }
   ],
   "source": [
    "chat_words = sorted(set(w for w in nltk.corpus.nps_chat.words()))\n",
    "print [w for w in chat_words if re.search('^m+i+n+e+$', w)]"
   ]
  },
  {
   "cell_type": "markdown",
   "metadata": {},
   "source": [
    "- +: one or more instances of the preceding item\n",
    "- `*`: zero or more instances of the preceding item"
   ]
  },
  {
   "cell_type": "code",
   "execution_count": 180,
   "metadata": {
    "collapsed": false
   },
   "outputs": [
    {
     "name": "stdout",
     "output_type": "stream",
     "text": [
      "[u'a', u'aaaaaaaaaaaaaaaaa', u'aaahhhh', u'ah', u'ahah', u'ahahah', u'ahh', u'ahhahahaha', u'ahhh', u'ahhhh', u'ahhhhhh', u'ahhhhhhhhhhhhhh', u'h', u'ha', u'haaa', u'hah', u'haha', u'hahaaa', u'hahah', u'hahaha', u'hahahaa', u'hahahah', u'hahahaha', u'hahahahaaa', u'hahahahahaha', u'hahahahahahaha', u'hahahahahahahahahahahahahahahaha', u'hahahhahah', u'hahhahahaha']\n"
     ]
    }
   ],
   "source": [
    "print [w for w in chat_words if re.search('^[ha]+$', w)]"
   ]
  },
  {
   "cell_type": "code",
   "execution_count": 181,
   "metadata": {
    "collapsed": false
   },
   "outputs": [
    {
     "name": "stdout",
     "output_type": "stream",
     "text": [
      "[u'', u'e', u'i', u'in', u'm', u'me', u'meeeeeeeeeeeee', u'mi', u'miiiiiiiiiiiiinnnnnnnnnnneeeeeeeeee', u'miiiiiinnnnnnnnnneeeeeeee', u'min', u'mine', u'mm', u'mmm', u'mmmm', u'mmmmm', u'mmmmmm', u'mmmmmmmmiiiiiiiiinnnnnnnnneeeeeeee', u'mmmmmmmmmm', u'mmmmmmmmmmmmm', u'mmmmmmmmmmmmmm', u'n', u'ne']\n"
     ]
    }
   ],
   "source": [
    "print [w for w in chat_words if re.search('^m*i*n*e*$', w)]"
   ]
  },
  {
   "cell_type": "code",
   "execution_count": 186,
   "metadata": {
    "collapsed": false
   },
   "outputs": [
    {
     "name": "stdout",
     "output_type": "stream",
     "text": [
      "True True True True\n"
     ]
    }
   ],
   "source": [
    "aas = [w for w in chat_words if re.search('^m+i+n+e+$', w)] \n",
    "for aa in aas:\n",
    "    print aa in [w for w in chat_words if re.search('^m*i*n*e*$', w)],"
   ]
  },
  {
   "cell_type": "markdown",
   "metadata": {},
   "source": [
    "- ^ inside bracket [ ]: matches any character other than the characters in the [ ]"
   ]
  },
  {
   "cell_type": "code",
   "execution_count": 215,
   "metadata": {
    "collapsed": false
   },
   "outputs": [
    {
     "name": "stdout",
     "output_type": "stream",
     "text": [
      "[u'!', u'!!', u'!!!', u'!!!!', u'!!!!!', u'!!!!!!', u'!!!!!!!', u'!!!!!!!!', u'!!!!!!!!!', u'!!!!!!!!!!', u'!!!!!!!!!!!', u'!!!!!!!!!!!!!', u'!!!!!!!!!!!!!!!!', u'!!!!!!!!!!!!!!!!!!!!!!', u'!!!!!!!!!!!!!!!!!!!!!!!', u'!!!!!!!!!!!!!!!!!!!!!!!!!!!', u'!!!!!!!!!!!!!!!!!!!!!!!!!!!!', u'!!!!!!!!!!!!!!!!!!!!!!!!!!!!!!!!!!!!!!!!!!!!!!!!!!!!!!', u'!!!!!!.', u'!!!!!.', u'!!!!....', u'!!!.', u'!!.', u'!!...', u'!.', u'!...', u'!=', u'!?', u'!??', u'!???', u'\"', u'\"...', u'\"?', u'\"s', u'#', u'###', u'####', u'$', u'$$', u'$27', u'&', u'&^', u\"'\", u\"''\", u\"'.\", u\"'d\", u\"'ll\", u\"'m\", u\"'n'\", u\"'s\"]\n"
     ]
    }
   ],
   "source": [
    "print [w for w in chat_words if re.search('^[^aeiouAEIOU]+$', w)][:50]"
   ]
  },
  {
   "cell_type": "markdown",
   "metadata": {},
   "source": [
    "## [Metacharacter summary](https://en.wikipedia.org/wiki/Regular_expression)\n",
    "- `.` : Matches any single character, within POSIX bracket expressions, the dot character matches a literal dot\n",
    "- `[ ]` : Matches a single character that is contained within the brackets, `[a-z]`: range\n",
    "- `-`: treated as a literal character if it is the last or the first (after the ^, if present) ex. `[abc-]`\n",
    "- `[^ ]`: a single character that is not contained within the brackets ex. `[^abc]`: any char other than `a`,`b`,or `c`\n",
    "- `^`: the starting position within the string\n",
    "- `$`:  the ending position of the string or the position just before a string-ending newline\n",
    "- `( )`: a marked subexpression, the string matched within the parentheses can be recalled later\n",
    "- `\\n`: matches what the nth marked subexpression matched, where n is a digit from 1 to 9\n",
    "- `*`: Matches the preceding element zero or more times\n",
    "- `{m,n}`: Matches the preceding element at least m and not more than n times. ex. `a{3,5}` matches only \"aaa\", \"aaaa\", and \"aaaaa\"\n",
    "- `{n}`: Exactly n repeats where n is a non-negative integer\n",
    "- `{n,}`: At least n repeats\n",
    "- `{,n}`: No more than n repeats\n",
    "- `?`: Matches the preceding element zero or one time\n",
    "- `+`: Matches the preceding element one or more times\n",
    "- `|`: The choice (= alternation or set union) operator, either the expression before or the expression after the operator\n",
    "- `\\`: Either escapes special characters (permitting you to match characters like `'*'`, `'?'`, and so forth), or signals a special sequence"
   ]
  },
  {
   "cell_type": "markdown",
   "metadata": {},
   "source": [
    "## Baskslash\n",
    "- To the Python interpreter, a regular expression is just like any other string.\n",
    "    - If the string contains a backslash followed by particular characters, it will interpret these specially. \n",
    "    - ex. `\\b`: the backspace character.\n",
    "- In general, when using regular expressions **containing backslash**, we should instruct the interpreter **not** to look inside the string at all, but simply to **pass it directly to the re library** for processing.    \n",
    "    - We do this by prefixing the string with the letter `r`, to indicate that it is a **raw string**. \n",
    "    - ex. `r'\\band\\b'` contains two `\\b` symbols that are interpreted by the re library as `matching word boundaries` instead of backspace characters. \n",
    "- If you get into the habit of using r'...' for regular expressions, you will avoid having to think about these complications.\n",
    "\n",
    "## Examples"
   ]
  },
  {
   "cell_type": "code",
   "execution_count": 216,
   "metadata": {
    "collapsed": true
   },
   "outputs": [],
   "source": [
    "wsj = sorted(set(nltk.corpus.treebank.words()))"
   ]
  },
  {
   "cell_type": "code",
   "execution_count": 245,
   "metadata": {
    "collapsed": false
   },
   "outputs": [
    {
     "name": "stdout",
     "output_type": "stream",
     "text": [
      "numbers and . then ends with digits \n",
      "[u'0.0085', u'0.05', u'0.1', u'0.16', u'0.2', u'0.25', u'0.28', u'0.3', u'0.4', u'0.5']\n",
      "upper case words then ends with $  \n",
      "[u'C$', u'US$']\n",
      "4-digit numbers \n",
      "[u'1614', u'1637', u'1787', u'1901', u'1903', u'1917', u'1925', u'1929', u'1933', u'1934']\n",
      "numbers, then -, non-digit string between 3-5 chars \n",
      "[u'10-day', u'10-lap', u'10-year', u'100-share', u'12-point', u'12-year', u'14-hour', u'15-day', u'150-point', u'190-point']\n",
      "non-digit lower case words (at least 5 chars), -, lower case words (char 2 or 3), -, lower case words (no more than 6 char) \n",
      "[u'black-and-white', u'bread-and-butter', u'father-in-law', u'machine-gun-toting', u'savings-and-loan']\n",
      "ends with either ed or ing \n",
      "[u'62%-owned', u'Absorbed', u'According', u'Adopting', u'Advanced', u'Advancing', u'Alfred', u'Allied', u'Annualized', u'Anything']\n"
     ]
    }
   ],
   "source": [
    "print 'numbers and . then ends with digits', '\\n', [w for w in wsj if re.search('^[0-9]+\\.[0-9]+$', w)][:10]\n",
    "print 'upper case words then ends with $ ', '\\n', [w for w in wsj if re.search('^[A-Z]+\\$$', w)][:10]\n",
    "print '4-digit numbers', '\\n', [w for w in wsj if re.search('^[0-9]{4}$', w)][:10]\n",
    "print 'numbers, then -, non-digit string between 3-5 chars', '\\n', [w for w in wsj if re.search('^[0-9]+-[a-z]{3,5}$', w)][:10]\n",
    "print 'non-digit lower case words (at least 5 chars), -, lower case words (char 2 or 3), -, lower case words (no more than 6 char)', '\\n', [w for w in wsj if re.search('^[a-z]{5,}-[a-z]{2,3}-[a-z]{,6}$', w)] [:10]\n",
    "print 'ends with either ed or ing', '\\n', [w for w in wsj if re.search('(ed|ing)$', w)][:10]"
   ]
  },
  {
   "cell_type": "markdown",
   "metadata": {},
   "source": [
    "## 3.5 Useful Applications of Regular Expressions\n",
    "## Extracting Word Pieces\n",
    "`re.findall()`: finds all (non-overlapping) matches of the given regular expression"
   ]
  },
  {
   "cell_type": "code",
   "execution_count": 249,
   "metadata": {
    "collapsed": false,
    "scrolled": false
   },
   "outputs": [
    {
     "name": "stdout",
     "output_type": "stream",
     "text": [
      "['u', 'e', 'a', 'i', 'a', 'i', 'i', 'i', 'e', 'i', 'a', 'i', 'o', 'i', 'o', 'u']\n"
     ]
    }
   ],
   "source": [
    "word = 'supercalifragilisticexpialidocious'\n",
    "print re.findall('[aeiou]', word)"
   ]
  },
  {
   "cell_type": "code",
   "execution_count": 251,
   "metadata": {
    "collapsed": false
   },
   "outputs": [],
   "source": [
    "fd = nltk.FreqDist(vs for word in wsj\n",
    "                   for vs in re.findall('[aeiou]{2,}',word)) # at least two consecutive vowels, just find those (not the words)"
   ]
  },
  {
   "cell_type": "code",
   "execution_count": 258,
   "metadata": {
    "collapsed": false,
    "scrolled": true
   },
   "outputs": [
    {
     "name": "stdout",
     "output_type": "stream",
     "text": [
      "[(u'aa', 3), (u'eo', 39), (u'ei', 86), (u'ee', 217), (u'ea', 476), (u'oui', 6), (u'ao', 6), (u'eu', 18), (u'au', 106), (u'io', 549), (u'ia', 253), (u'ae', 11), (u'ie', 331), (u'iao', 1), (u'iai', 1), (u'uou', 5), (u'ieu', 3), (u'ai', 261), (u'aii', 1), (u'uee', 4), (u'aiia', 1), (u'eea', 1), (u'ueui', 1), (u'uie', 3), (u'iu', 14), (u'iou', 27), (u'ooi', 1), (u'eei', 2), (u'oei', 1), (u'eau', 10), (u'ioa', 1), (u'oo', 174), (u'oi', 65), (u'uu', 1), (u'aia', 1), (u'oe', 15), (u'oa', 59), (u'uo', 8), (u'ui', 95), (u'eou', 5), (u'ue', 105), (u'ou', 329), (u'ua', 109)]\n"
     ]
    }
   ],
   "source": [
    "print fd.items()"
   ]
  },
  {
   "cell_type": "markdown",
   "metadata": {},
   "source": [
    "## Doing More with Word Pieces\n",
    ": re.findall() and glue them back together or plot them"
   ]
  },
  {
   "cell_type": "code",
   "execution_count": 271,
   "metadata": {
    "collapsed": false
   },
   "outputs": [],
   "source": [
    "regexp = r'^[AEIOUaeiou]+|[AEIOUaeiou]+$|[^AEIOUaeiou]'\n",
    "def compress(word,print_pieces=False):\n",
    "    pieces = re.findall(regexp, word)\n",
    "    if print_pieces==False:\n",
    "        return ''.join(pieces)\n",
    "    else:\n",
    "        return ''.join(pieces), pieces"
   ]
  },
  {
   "cell_type": "code",
   "execution_count": 274,
   "metadata": {
    "collapsed": false,
    "scrolled": true
   },
   "outputs": [
    {
     "name": "stdout",
     "output_type": "stream",
     "text": [
      "('of', ['o', 'f'])\n",
      "('pple', ['p', 'p', 'l', 'e'])\n",
      "('apple', ['a', 'p', 'p', 'l', 'e'])\n",
      "('appls', ['a', 'p', 'p', 'l', 's'])\n"
     ]
    }
   ],
   "source": [
    "print compress('of',print_pieces=True)\n",
    "print compress('people',print_pieces=True)\n",
    "print compress('apple',print_pieces=True)\n",
    "print compress('apples',print_pieces=True)"
   ]
  },
  {
   "cell_type": "code",
   "execution_count": 286,
   "metadata": {
    "collapsed": false
   },
   "outputs": [
    {
     "name": "stdout",
     "output_type": "stream",
     "text": [
      "Unvrsl Dclrtn of Hmn Rghts Prmble Whrs rcgntn of the inhrnt dgnty and\n",
      "of the eql and inlnble rghts of all mmbrs of the hmn fmly is the fndtn\n",
      "of frdm , jstce and pce in the wrld , Whrs dsrgrd and cntmpt fr hmn\n",
      "rghts hve rsltd in brbrs acts whch hve outrgd the cnscnce of mnknd ,\n",
      "and the advnt of a wrld in whch hmn bngs shll enjy frdm of spch and\n",
      "blf and frdm frm fr and wnt hs bn prclmd as the hghst asprtn of the\n",
      "cmmn pple , Whrs it is essntl , if mn is nt to be cmplld to hve rcrse\n",
      ", as a lst rsrt , to rblln agnst tyrnny and opprssn , tht hmn rghts\n",
      "shld be prtctd by the rle of lw , Whrs it is essntl to prmte the\n",
      "dvlpmnt of frndly rltns btwn ntns , Whrs the ppls of the Untd Ntns hve\n",
      "in the Chrtr rffrmd thr fth in fndmntl hmn rghts , in the dgnty and\n",
      "wrth of the hmn prsn and in the eql rghts of mn and wmn and hve dtrmnd\n",
      "to prmte scl prgrss and bttr stndrds of lfe in lrgr frdm , Whrs Mmbr\n",
      "Stts hve pldgd thmslvs to achve , in cprtn wth the Untd Ntns , the\n",
      "prmtn of unvrsl rspct fr and obsrvnce\n"
     ]
    }
   ],
   "source": [
    "english_udhr = nltk.corpus.udhr.words('English-Latin1')\n",
    "print nltk.tokenwrap(compress(w) for w in english_udhr)[:1000]"
   ]
  },
  {
   "cell_type": "code",
   "execution_count": 275,
   "metadata": {
    "collapsed": false
   },
   "outputs": [
    {
     "name": "stdout",
     "output_type": "stream",
     "text": [
      "     a    e    i    o    u \n",
      "k  418  148   94  420  173 \n",
      "p   83   31  105   34   51 \n",
      "r  187   63   84   89   79 \n",
      "s    0    0  100    2    1 \n",
      "t   47    8    0  148   37 \n",
      "v   93   27  105   48   49 \n"
     ]
    }
   ],
   "source": [
    "rotokas_words = nltk.corpus.toolbox.words('rotokas.dic')\n",
    "cvs = [cv for w in rotokas_words for cv in re.findall(r'[ptksvr][aeiou]', w)] \n",
    "cfd = nltk.ConditionalFreqDist(cvs)\n",
    "cfd.tabulate()"
   ]
  },
  {
   "cell_type": "markdown",
   "metadata": {},
   "source": [
    "Examining the rows for s and t, we see they are in partial “complementary distribution,” which is evidence that they are not distinct phonemes in the language."
   ]
  },
  {
   "cell_type": "code",
   "execution_count": 277,
   "metadata": {
    "collapsed": true
   },
   "outputs": [],
   "source": [
    "cv_word_pairs = [(cv, w) for w in rotokas_words\n",
    "                 for cv in re.findall(r'[ptksvr][aeiou]', w)]\n",
    "cv_index = nltk.Index(cv_word_pairs)"
   ]
  },
  {
   "cell_type": "code",
   "execution_count": 284,
   "metadata": {
    "collapsed": false
   },
   "outputs": [
    {
     "name": "stdout",
     "output_type": "stream",
     "text": [
      "[u'kasuari']\n"
     ]
    }
   ],
   "source": [
    "print cv_index['su']"
   ]
  },
  {
   "cell_type": "code",
   "execution_count": 283,
   "metadata": {
    "collapsed": false
   },
   "outputs": [
    {
     "name": "stdout",
     "output_type": "stream",
     "text": [
      "[u'kaapo', u'kaapopato', u'kaipori', u'kaiporipie', u'kaiporivira', u'kapo', u'kapoa', u'kapokao', u'kapokapo', u'kapokapo', u'kapokapoa', u'kapokapoa', u'kapokapora', u'kapokapora', u'kapokaporo', u'kapokaporo', u'kapokari', u'kapokarito', u'kapokoa', u'kapoo', u'kapooto', u'kapoovira', u'kapopaa', u'kaporo', u'kaporo', u'kaporopa', u'kaporoto', u'kapoto', u'karokaropo', u'karopo', u'kepo', u'kepoi', u'keposi', u'kepoto']\n"
     ]
    }
   ],
   "source": [
    "print cv_index['po']"
   ]
  },
  {
   "cell_type": "markdown",
   "metadata": {},
   "source": [
    "## Finding Word Stems\n",
    "We want to ignore word endings, and just deal with word stems: ex. `laptop` and `laptops` are just two forms of the same dictionary word (or lemma)."
   ]
  },
  {
   "cell_type": "code",
   "execution_count": 287,
   "metadata": {
    "collapsed": true
   },
   "outputs": [],
   "source": [
    "# NLTK has a built-in stemmers\n",
    "# a simple-minded approach that just strips off anything that looks like a suffix\n",
    "def stem(word):\n",
    "    for suffix in ['ing', 'ly', 'ed', 'ious', 'ies', 'ive', 'es', 's', 'ment']:\n",
    "        if word.endswith(suffix): \n",
    "            return word[:-len(suffix)]\n",
    "    return word"
   ]
  },
  {
   "cell_type": "code",
   "execution_count": 290,
   "metadata": {
    "collapsed": false
   },
   "outputs": [
    {
     "data": {
      "text/plain": [
       "['ing']"
      ]
     },
     "execution_count": 290,
     "metadata": {},
     "output_type": "execute_result"
    }
   ],
   "source": [
    "# You can use regexp: # starts with char (zero or more), then ends with one of the suffices\n",
    "re.findall(r'^.*(ing|ly|ed|ious|ies|ive|es|s|ment)$', 'processing')"
   ]
  },
  {
   "cell_type": "markdown",
   "metadata": {},
   "source": [
    "- Here, `re.findall()` just gave us the suffix **even though the regular expression matched the entire word**. \n",
    "- This is because the parentheses have **a second function**, to select **substrings** to be extracted. \n",
    "- If we want to use the parentheses to specify the scope of the disjunction, but not to select the material to be output, we have to add `?:`"
   ]
  },
  {
   "cell_type": "code",
   "execution_count": 292,
   "metadata": {
    "collapsed": false
   },
   "outputs": [
    {
     "data": {
      "text/plain": [
       "['processing']"
      ]
     },
     "execution_count": 292,
     "metadata": {},
     "output_type": "execute_result"
    }
   ],
   "source": [
    "re.findall(r'^.*(?:ing|ly|ed|ious|ies|ive|es|s|ment)$', 'processing')"
   ]
  },
  {
   "cell_type": "markdown",
   "metadata": {},
   "source": [
    "We’d actually like to split the word into stem and suffix. So we should just parenthesize both parts of the regular expression:"
   ]
  },
  {
   "cell_type": "code",
   "execution_count": 293,
   "metadata": {
    "collapsed": false
   },
   "outputs": [
    {
     "data": {
      "text/plain": [
       "[('process', 'ing')]"
      ]
     },
     "execution_count": 293,
     "metadata": {},
     "output_type": "execute_result"
    }
   ],
   "source": [
    "re.findall(r'^(.*)(ing|ly|ed|ious|ies|ive|es|s|ment)$', 'processing')"
   ]
  },
  {
   "cell_type": "markdown",
   "metadata": {},
   "source": [
    "This looks promising, but still has a problem. Let’s look at a different word, `processes`:"
   ]
  },
  {
   "cell_type": "code",
   "execution_count": 294,
   "metadata": {
    "collapsed": false
   },
   "outputs": [
    {
     "data": {
      "text/plain": [
       "[('processe', 's')]"
      ]
     },
     "execution_count": 294,
     "metadata": {},
     "output_type": "execute_result"
    }
   ],
   "source": [
    "re.findall(r'^(.*)(ing|ly|ed|ious|ies|ive|es|s|ment)$', 'processes')"
   ]
  },
  {
   "cell_type": "markdown",
   "metadata": {},
   "source": [
    "- The first case was \"greedy\"; the `.*` tries to consume as much of the input as possible.\n",
    "- Non-greedy version: `*?`"
   ]
  },
  {
   "cell_type": "code",
   "execution_count": 295,
   "metadata": {
    "collapsed": false
   },
   "outputs": [
    {
     "data": {
      "text/plain": [
       "[('process', 'es')]"
      ]
     },
     "execution_count": 295,
     "metadata": {},
     "output_type": "execute_result"
    }
   ],
   "source": [
    "re.findall(r'^(.*?)(ing|ly|ed|ious|ies|ive|es|s|ment)$', 'processes') # two ss's -> then stop"
   ]
  },
  {
   "cell_type": "code",
   "execution_count": 296,
   "metadata": {
    "collapsed": false
   },
   "outputs": [
    {
     "data": {
      "text/plain": [
       "[('language', '')]"
      ]
     },
     "execution_count": 296,
     "metadata": {},
     "output_type": "execute_result"
    }
   ],
   "source": [
    "re.findall(r'^(.*?)(ing|ly|ed|ious|ies|ive|es|s|ment)?$', 'language')"
   ]
  },
  {
   "cell_type": "code",
   "execution_count": 298,
   "metadata": {
    "collapsed": false
   },
   "outputs": [],
   "source": [
    "def stem(word):\n",
    "    regexp = r'^(.*?)(ing|ly|ed|ious|ies|ive|es|s|ment)?$' \n",
    "    stem, suffix = re.findall(regexp, word)[0]\n",
    "    return stem"
   ]
  },
  {
   "cell_type": "code",
   "execution_count": 300,
   "metadata": {
    "collapsed": false
   },
   "outputs": [
    {
     "name": "stdout",
     "output_type": "stream",
     "text": [
      "['DENNIS', ':', 'Listen', ',', 'strange', 'women', 'ly', 'in', 'pond', 'distribut', 'sword', 'i', 'no', 'basi', 'for', 'a', 'system', 'of', 'govern', '.', 'Supreme', 'execut', 'power', 'deriv', 'from', 'a', 'mandate', 'from', 'the', 'mass', ',', 'not', 'from', 'some', 'farcical', 'aquatic', 'ceremony', '.']\n"
     ]
    }
   ],
   "source": [
    "raw = \"\"\"DENNIS: Listen, strange women lying in ponds distributing swords is no basis for a system of government. \n",
    "Supreme executive power derives from a mandate from the masses, \n",
    "not from some farcical aquatic ceremony.\"\"\"\n",
    "tokens = nltk.word_tokenize(raw)\n",
    "print [stem(t) for t in tokens]"
   ]
  },
  {
   "cell_type": "code",
   "execution_count": null,
   "metadata": {
    "collapsed": true
   },
   "outputs": [],
   "source": [
    "It still has many problems: "
   ]
  },
  {
   "cell_type": "markdown",
   "metadata": {},
   "source": [
    "## Searching Tokenized Text\n",
    "You can use a special kind of regular expression for searching across multiple words in a text (where a text is a list of tokens).\n",
    "- `\"<a> <man>\"` finds all instances of **`a man`** in the text.\n",
    "- The angle brackets are used to mark **token boundaries**, and any whitespace between the angle brackets is ignored (behaviors that are unique to NLTK’s findall() method for texts).\n",
    "- `<.*>`: any single token"
   ]
  },
  {
   "cell_type": "code",
   "execution_count": 304,
   "metadata": {
    "collapsed": false
   },
   "outputs": [
    {
     "name": "stdout",
     "output_type": "stream",
     "text": [
      "monied; nervous; dangerous; white; white; white; pious; queer; good;\n",
      "mature; white; Cape; great; wise; wise; butterless; white; fiendish;\n",
      "pale; furious; better; certain; complete; dismasted; younger; brave;\n",
      "brave; brave; brave\n"
     ]
    }
   ],
   "source": [
    "from nltk.corpus import gutenberg, nps_chat\n",
    "moby = nltk.Text(gutenberg.words('melville-moby_dick.txt'))\n",
    "moby.findall(r\"<a> (<.*>) <man>\") # any token between 'a' and 'man'"
   ]
  },
  {
   "cell_type": "code",
   "execution_count": 305,
   "metadata": {
    "collapsed": false
   },
   "outputs": [
    {
     "name": "stdout",
     "output_type": "stream",
     "text": [
      "you rule bro; telling you bro; u twizted bro\n"
     ]
    }
   ],
   "source": [
    "# three-word phrases ending with the word bro\n",
    "chat = nltk.Text(nps_chat.words())\n",
    "chat.findall(r\"<.*> <.*> <bro>\")"
   ]
  },
  {
   "cell_type": "code",
   "execution_count": 308,
   "metadata": {
    "collapsed": false
   },
   "outputs": [
    {
     "name": "stdout",
     "output_type": "stream",
     "text": [
      "lol lol lol; lmao lol lol; lol lol lol; la la la la la; la la la; la\n",
      "la la; lovely lol lol love; lol lol lol.; la la la; la la la\n"
     ]
    }
   ],
   "source": [
    "chat.findall(r\"<l.*>{3,}\") # token starting with at l and has at least 3 words "
   ]
  },
  {
   "cell_type": "markdown",
   "metadata": {},
   "source": [
    "**`x and other ys`** structure allows us to discover hypernyms"
   ]
  },
  {
   "cell_type": "code",
   "execution_count": 309,
   "metadata": {
    "collapsed": false
   },
   "outputs": [
    {
     "name": "stdout",
     "output_type": "stream",
     "text": [
      "speed and other activities; water and other liquids; tomb and other\n",
      "landmarks; Statues and other monuments; pearls and other jewels;\n",
      "charts and other items; roads and other features; figures and other\n",
      "objects; military and other areas; demands and other factors;\n",
      "abstracts and other compilations; iron and other metals\n"
     ]
    }
   ],
   "source": [
    "from nltk.corpus import brown\n",
    "hobbies_learned = nltk.Text(brown.words(categories=['hobbies', 'learned'])) \n",
    "hobbies_learned.findall(r\"<\\w*> <and> <other> <\\w*s>\") # \\w: find a word character (equivalent to the set [a-zA-Z0-9_])"
   ]
  },
  {
   "cell_type": "markdown",
   "metadata": {},
   "source": [
    "## 3.6 Normalizing Text\n",
    "- lemmatization"
   ]
  },
  {
   "cell_type": "code",
   "execution_count": 350,
   "metadata": {
    "collapsed": true
   },
   "outputs": [],
   "source": [
    "raw = \"\"\"DENNIS: Listen, strange women lying in ponds distributing swords\n",
    "is no basis for a system of government. Supreme executive power derives from ... a mandate from the masses, not from some farcical aquatic ceremony.\"\"\"\n",
    "tokens = nltk.word_tokenize(raw)"
   ]
  },
  {
   "cell_type": "markdown",
   "metadata": {},
   "source": [
    "## Stemmers\n",
    "- NLTK’s stemmers handle a wide range of irregular cases.\n",
    "- The Porter and Lan- caster stemmers follow their own rules for stripping affixes."
   ]
  },
  {
   "cell_type": "code",
   "execution_count": 353,
   "metadata": {
    "collapsed": true
   },
   "outputs": [],
   "source": [
    "porter = nltk.PorterStemmer()\n",
    "lancaster = nltk.LancasterStemmer()"
   ]
  },
  {
   "cell_type": "code",
   "execution_count": 354,
   "metadata": {
    "collapsed": false
   },
   "outputs": [
    {
     "name": "stdout",
     "output_type": "stream",
     "text": [
      "[u'DENNI', u':', u'Listen', u',', u'strang', u'women', u'lie', u'in', u'pond', u'distribut', u'sword', u'is', u'no', u'basi', u'for', u'a', u'system', u'of', u'govern', u'.', u'Suprem', u'execut', u'power', u'deriv', u'from', u'...', u'a', u'mandat', u'from', u'the', u'mass', u',', u'not', u'from', u'some', u'farcic', u'aquat', u'ceremoni', u'.']\n"
     ]
    }
   ],
   "source": [
    "print [porter.stem(t) for t in tokens]"
   ]
  },
  {
   "cell_type": "code",
   "execution_count": 355,
   "metadata": {
    "collapsed": false
   },
   "outputs": [
    {
     "name": "stdout",
     "output_type": "stream",
     "text": [
      "['den', ':', 'list', ',', 'strange', 'wom', 'lying', 'in', 'pond', 'distribut', 'sword', 'is', 'no', 'bas', 'for', 'a', 'system', 'of', 'govern', '.', 'suprem', 'execut', 'pow', 'der', 'from', '...', 'a', 'mand', 'from', 'the', 'mass', ',', 'not', 'from', 'som', 'farc', 'aqu', 'ceremony', '.']\n"
     ]
    }
   ],
   "source": [
    "print [lancaster.stem(t) for t in tokens]"
   ]
  },
  {
   "cell_type": "markdown",
   "metadata": {},
   "source": [
    "**Stemming is not a well-defined process**, and we typically pick the stemmer that best suits the application we have in mind.\n",
    "- The Porter Stemmer: good choice for indexing some texts and want to support search using alternative forms of words"
   ]
  },
  {
   "cell_type": "markdown",
   "metadata": {},
   "source": [
    "## Lemmatization\n",
    "**The WordNet lemmatizer** removes affixes only if the resulting word is in its dictionary. \n",
    "- This additional checking process makes the lemmatizer slower than the stemmers just mentioned. \n",
    "- Notice that it doesn’t handle lying, but it converts women to woman."
   ]
  },
  {
   "cell_type": "code",
   "execution_count": 363,
   "metadata": {
    "collapsed": false
   },
   "outputs": [
    {
     "name": "stdout",
     "output_type": "stream",
     "text": [
      "['DENNIS', ':', 'Listen', ',', 'strange', u'woman', 'lying', 'in', u'pond', 'distributing', u'sword', 'is', 'no', 'basis', 'for', 'a', 'system', 'of', 'government', '.', 'Supreme', 'executive', 'power', 'derives', 'from', '...', 'a', 'mandate', 'from', 'the', u'mass', ',', 'not', 'from', 'some', 'farcical', 'aquatic', 'ceremony', '.']\n"
     ]
    }
   ],
   "source": [
    "wnl = nltk.WordNetLemmatizer()\n",
    "print [wnl.lemmatize(t) for t in tokens]"
   ]
  },
  {
   "cell_type": "markdown",
   "metadata": {},
   "source": [
    "- Another normalization task involves identifying **non-standard words** (numbers, abbreviations, and dates). \n",
    "- For example, every decimal number could be mapped to a single token 0.0, and every acronym could be mapped to AAA. \n",
    "- This keeps the vocabulary small and improves the accuracy of many language modeling tasks."
   ]
  },
  {
   "cell_type": "markdown",
   "metadata": {},
   "source": [
    "## 3.7 Regular Expressions for Tokenizing Text\n",
    "## Simple Approaches to Tokenization: split on whitespace"
   ]
  },
  {
   "cell_type": "code",
   "execution_count": 364,
   "metadata": {
    "collapsed": true
   },
   "outputs": [],
   "source": [
    "raw = \"\"\"'When I'M a Duchess,' she said to herself, (not in a very hopeful tone ... though), 'I won't have any pepper in my kitchen AT ALL. Soup does very\n",
    "... well without--Maybe it's always pepper that makes people hot-tempered,'...\"\"\""
   ]
  },
  {
   "cell_type": "code",
   "execution_count": 367,
   "metadata": {
    "collapsed": false
   },
   "outputs": [
    {
     "name": "stdout",
     "output_type": "stream",
     "text": [
      "[\"'When\", \"I'M\", 'a', \"Duchess,'\", 'she', 'said', 'to', 'herself,', '(not', 'in', 'a', 'very', 'hopeful', 'tone', '...', 'though),', \"'I\", \"won't\", 'have', 'any', 'pepper', 'in', 'my', 'kitchen', 'AT', 'ALL.', 'Soup', 'does', 'very\\nwell', 'without--Maybe', \"it's\", 'always', 'pepper', 'that', 'makes', 'people', \"hot-tempered,'...\"]\n"
     ]
    }
   ],
   "source": [
    "print re.split(' ', raw) #r' ' also works"
   ]
  },
  {
   "cell_type": "code",
   "execution_count": 368,
   "metadata": {
    "collapsed": false
   },
   "outputs": [
    {
     "name": "stdout",
     "output_type": "stream",
     "text": [
      "[\"'When\", \"I'M\", 'a', \"Duchess,'\", 'she', 'said', 'to', 'herself,', '(not', 'in', 'a', 'very', 'hopeful', 'tone', '...', 'though),', \"'I\", \"won't\", 'have', 'any', 'pepper', 'in', 'my', 'kitchen', 'AT', 'ALL.', 'Soup', 'does', 'very', 'well', 'without--Maybe', \"it's\", 'always', 'pepper', 'that', 'makes', 'people', \"hot-tempered,'...\"]\n"
     ]
    }
   ],
   "source": [
    "# one or more spaces, tabs (\\t), or newlines (\\n)\n",
    "# \\s: any whitespace character\n",
    "print re.split('[ \\t\\n]+', raw) # same as re.split(r'\\s+', raw)"
   ]
  },
  {
   "cell_type": "code",
   "execution_count": 371,
   "metadata": {
    "collapsed": false
   },
   "outputs": [
    {
     "name": "stdout",
     "output_type": "stream",
     "text": [
      "[\"'When\", \"I'M\", 'a', \"Duchess,'\", 'she', 'said', 'to', 'herself,', '(not', 'in', 'a', 'very', 'hopeful', 'tone', '...', 'though),', \"'I\", \"won't\", 'have', 'any', 'pepper', 'in', 'my', 'kitchen', 'AT', 'ALL.', 'Soup', 'does', 'very', 'well', 'without--Maybe', \"it's\", 'always', 'pepper', 'that', 'makes', 'people', \"hot-tempered,'...\"]\n"
     ]
    }
   ],
   "source": [
    "print re.split('\\s+', raw)"
   ]
  },
  {
   "cell_type": "code",
   "execution_count": 373,
   "metadata": {
    "collapsed": false
   },
   "outputs": [
    {
     "name": "stdout",
     "output_type": "stream",
     "text": [
      "['', 'When', 'I', 'M', 'a', 'Duchess', 'she', 'said', 'to', 'herself', 'not', 'in', 'a', 'very', 'hopeful', 'tone', 'though', 'I', 'won', 't', 'have', 'any', 'pepper', 'in', 'my', 'kitchen', 'AT', 'ALL', 'Soup', 'does', 'very', 'well', 'without', 'Maybe', 'it', 's', 'always', 'pepper', 'that', 'makes', 'people', 'hot', 'tempered', '']\n"
     ]
    }
   ],
   "source": [
    "# \\w: word chars [a-zA-Z0-9_], \\W: complementary to \\w\n",
    "print re.split('\\W+', raw) "
   ]
  },
  {
   "cell_type": "code",
   "execution_count": 374,
   "metadata": {
    "collapsed": false
   },
   "outputs": [
    {
     "name": "stdout",
     "output_type": "stream",
     "text": [
      "[\"'\", ' ', \"'\", ' ', ' ', \",' \", ' ', ' ', ' ', ', (', ' ', ' ', ' ', ' ', ' ', ' ... ', \"), '\", ' ', \"'\", ' ', ' ', ' ', ' ', ' ', ' ', ' ', ' ', '. ', ' ', ' ', '\\n', ' ', '--', ' ', \"'\", ' ', ' ', ' ', ' ', ' ', ' ', '-', \",'...\"]\n"
     ]
    }
   ],
   "source": [
    "print re.split('\\w+', raw)"
   ]
  },
  {
   "cell_type": "code",
   "execution_count": 376,
   "metadata": {
    "collapsed": false
   },
   "outputs": [
    {
     "data": {
      "text/plain": [
       "['', '', '']"
      ]
     },
     "execution_count": 376,
     "metadata": {},
     "output_type": "execute_result"
    }
   ],
   "source": [
    "'xx'.split('x') # gives empty str"
   ]
  },
  {
   "cell_type": "code",
   "execution_count": 380,
   "metadata": {
    "collapsed": false
   },
   "outputs": [
    {
     "name": "stdout",
     "output_type": "stream",
     "text": [
      "['When', 'I', 'M', 'a', 'Duchess', 'she', 'said', 'to', 'herself', 'not', 'in', 'a', 'very', 'hopeful', 'tone', 'though', 'I', 'won', 't', 'have', 'any', 'pepper', 'in', 'my', 'kitchen', 'AT', 'ALL', 'Soup', 'does', 'very', 'well', 'without', 'Maybe', 'it', 's', 'always', 'pepper', 'that', 'makes', 'people', 'hot', 'tempered']\n"
     ]
    }
   ],
   "source": [
    "print re.findall(r'\\w+', raw) # without the empty strings"
   ]
  },
  {
   "cell_type": "code",
   "execution_count": null,
   "metadata": {
    "collapsed": true
   },
   "outputs": [],
   "source": []
  }
 ],
 "metadata": {
  "kernelspec": {
   "display_name": "Python 2",
   "language": "python",
   "name": "python2"
  },
  "language_info": {
   "codemirror_mode": {
    "name": "ipython",
    "version": 2
   },
   "file_extension": ".py",
   "mimetype": "text/x-python",
   "name": "python",
   "nbconvert_exporter": "python",
   "pygments_lexer": "ipython2",
   "version": "2.7.11"
  }
 },
 "nbformat": 4,
 "nbformat_minor": 0
}
